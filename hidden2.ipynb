{
 "cells": [
  {
   "cell_type": "markdown",
   "metadata": {},
   "source": [
    "# LSTM Neural Network Results"
   ]
  },
  {
   "cell_type": "markdown",
   "metadata": {},
   "source": [
    "# 1: 10% acc"
   ]
  },
  {
   "cell_type": "code",
   "execution_count": null,
   "metadata": {},
   "outputs": [],
   "source": [
    "Splitting data into train/test/val...\n",
    "        Train: 779120, Test: 243475, Val: 194780\n",
    "Taking 0.1pct of data - Train: 779, Val: 194, Test: 243\n",
    "\n",
    "Removing punctuation and stop words from X_train/val data...\n",
    "\n",
    "Tokenizing X_train/val/test data...\n",
    "\n",
    "Starting modeling...\n",
    "\n",
    "Will save model to: saved_models/lstm_20epochs_20200606-00:56:49\n",
    "\n",
    "\n",
    "\n",
    "Model: \"sequential\"\n",
    "_________________________________________________________________\n",
    "Layer (type)                 Output Shape              Param #\n",
    "=================================================================\n",
    "embedding (Embedding)        (None, 280, 64)           550912\n",
    "_________________________________________________________________\n",
    "lstm (LSTM)                  (None, 100)               66000\n",
    "_________________________________________________________________\n",
    "dense (Dense)                (None, 64)                6464\n",
    "_________________________________________________________________\n",
    "dense_1 (Dense)              (None, 3)                 195\n",
    "=================================================================\n",
    "Total params: 623,571"
   ]
  }
 ],
 "metadata": {
  "kernelspec": {
   "display_name": "Python 3",
   "language": "python",
   "name": "python3"
  },
  "language_info": {
   "codemirror_mode": {
    "name": "ipython",
    "version": 3
   },
   "file_extension": ".py",
   "mimetype": "text/x-python",
   "name": "python",
   "nbconvert_exporter": "python",
   "pygments_lexer": "ipython3",
   "version": "3.7.6"
  }
 },
 "nbformat": 4,
 "nbformat_minor": 4
}
