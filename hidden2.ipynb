{
 "cells": [
  {
   "cell_type": "markdown",
   "metadata": {},
   "source": [
    "# LSTM Neural Network Results"
   ]
  },
  {
   "cell_type": "code",
   "execution_count": null,
   "metadata": {},
   "outputs": [],
   "source": [
    "#1: 10% acc\n",
    "Splitting data into train/test/val...\n",
    "        Train: 779120, Test: 243475, Val: 194780\n",
    "Taking 0.1pct of data - Train: 779, Val: 194, Test: 243\n",
    "\n",
    "Removing punctuation and stop words from X_train/val data...\n",
    "\n",
    "Tokenizing X_train/val/test data...\n",
    "\n",
    "Starting modeling...\n",
    "\n",
    "Will save model to: saved_models/lstm_20epochs_20200606-00:56:49\n",
    "\n",
    "\n",
    "\n",
    "Model: \"sequential\"\n",
    "_________________________________________________________________\n",
    "Layer (type)                 Output Shape              Param #\n",
    "=================================================================\n",
    "embedding (Embedding)        (None, 280, 64)           550912\n",
    "_________________________________________________________________\n",
    "lstm (LSTM)                  (None, 100)               66000\n",
    "_________________________________________________________________\n",
    "dense (Dense)                (None, 64)                6464\n",
    "_________________________________________________________________\n",
    "dense_1 (Dense)              (None, 3)                 195\n",
    "=================================================================\n",
    "Total params: 623,571\n",
    "Total params: 623,571\n",
    "Trainable params: 623,571\n",
    "Non-trainable params: 0\n",
    "_______________________________\n",
    "Took 143.60s to train\n",
    "25/25 [==============================] - 1s 49ms/step - loss: 1.0242 - accuracy: 0.1258\n",
    "Training Accuracy:  0.12580230832099915\n",
    "7/7 [==============================] - 0s 46ms/step - loss: 1.0595 - accuracy: 0.1082\n",
    "Val Accuracy:  0.10824742168188095\n",
    "8/8 [==============================] - 0s 46ms/step - loss: 1.0462 - accuracy: 0.1235\n",
    "Test Accuracy:  0.12345679104328156"
   ]
  },
  {
   "cell_type": "code",
   "execution_count": null,
   "metadata": {},
   "outputs": [],
   "source": [
    "#2: +1 LSTM layer + dropout (0.5)\n",
    "Will save model to: saved_models/lstm_20epochs_20200606-01:03:53\n",
    "\n",
    "\n",
    "\n",
    "Model: \"sequential\"\n",
    "_________________________________________________________________\n",
    "Layer (type)                 Output Shape              Param #\n",
    "=================================================================\n",
    "embedding (Embedding)        (None, 280, 64)           550848\n",
    "_________________________________________________________________\n",
    "lstm (LSTM)                  (None, 280, 100)          66000\n",
    "_________________________________________________________________\n",
    "lstm_1 (LSTM)                (None, 100)               80400\n",
    "_________________________________________________________________\n",
    "dropout (Dropout)            (None, 100)               0\n",
    "_________________________________________________________________\n",
    "dense (Dense)                (None, 64)                6464\n",
    "_________________________________________________________________\n",
    "dense_1 (Dense)              (None, 3)                 195\n",
    "=================================================================\n",
    "Total params: 703,907\n",
    "Trainable params: 703,907\n",
    "Non-trainable params: 0\n",
    "____________________\n",
    "Took 134.61s to train\n",
    "25/25 [==============================] - 3s 102ms/step - loss: 1.0660 - accuracy: 0.1001\n",
    "Training Accuracy:  0.10012836754322052\n",
    "7/7 [==============================] - 1s 86ms/step - loss: 1.0790 - accuracy: 0.0825\n",
    "Val Accuracy:  0.0824742242693901\n",
    "8/8 [==============================] - 1s 102ms/step - loss: 1.0835 - accuracy: 0.0864\n",
    "Test Accuracy:  0.08641975373029709"
   ]
  },
  {
   "cell_type": "code",
   "execution_count": null,
   "metadata": {},
   "outputs": [],
   "source": []
  }
 ],
 "metadata": {
  "kernelspec": {
   "display_name": "Python 3",
   "language": "python",
   "name": "python3"
  },
  "language_info": {
   "codemirror_mode": {
    "name": "ipython",
    "version": 3
   },
   "file_extension": ".py",
   "mimetype": "text/x-python",
   "name": "python",
   "nbconvert_exporter": "python",
   "pygments_lexer": "ipython3",
   "version": "3.7.6"
  }
 },
 "nbformat": 4,
 "nbformat_minor": 4
}
