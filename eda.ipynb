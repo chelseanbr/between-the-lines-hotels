{
 "cells": [
  {
   "cell_type": "code",
   "execution_count": 1,
   "metadata": {},
   "outputs": [],
   "source": [
    "%load_ext autoreload\n",
    "%autoreload 2"
   ]
  },
  {
   "cell_type": "code",
   "execution_count": 2,
   "metadata": {},
   "outputs": [
    {
     "name": "stderr",
     "output_type": "stream",
     "text": [
      "[nltk_data] Downloading package wordnet to\n",
      "[nltk_data]     /Users/chelsearamos/nltk_data...\n",
      "[nltk_data]   Package wordnet is already up-to-date!\n"
     ]
    }
   ],
   "source": [
    "import src.preprocess as prep\n",
    "import src.eda as eda\n",
    "\n",
    "import numpy as np\n",
    "import pandas as pd\n",
    "import matplotlib.pyplot as plt\n",
    "import seaborn as sns"
   ]
  },
  {
   "cell_type": "code",
   "execution_count": 3,
   "metadata": {},
   "outputs": [],
   "source": [
    "# Set plot sizes\n",
    "SMALL_SIZE = 22\n",
    "MEDIUM_SIZE = 24\n",
    "BIGGER_SIZE = 26\n",
    "BIGGEST_SIZE = 28\n",
    "\n",
    "plt.rc('font', size=SMALL_SIZE)          # controls default text sizes\n",
    "plt.rc('axes', titlesize=SMALL_SIZE)     # fontsize of the axes title\n",
    "plt.rc('axes', labelsize=MEDIUM_SIZE)    # fontsize of the x and y labels\n",
    "plt.rc('xtick', labelsize=SMALL_SIZE)    # fontsize of the tick labels\n",
    "plt.rc('ytick', labelsize=SMALL_SIZE)    # fontsize of the tick labels\n",
    "plt.rc('legend', fontsize=SMALL_SIZE)    # legend fontsize\n",
    "plt.rc('figure', titlesize=BIGGEST_SIZE)  # fontsize of the figure title"
   ]
  },
  {
   "cell_type": "markdown",
   "metadata": {},
   "source": [
    "# Load Data"
   ]
  },
  {
   "cell_type": "code",
   "execution_count": 4,
   "metadata": {},
   "outputs": [
    {
     "name": "stdout",
     "output_type": "stream",
     "text": [
      "\tNon-zip folders/files found in data: ['links_1', 'links_6', 'links_8', 'links_9', 'links_7', 'links_10', 'links_5', 'links_2', 'links_3', 'links_4']\n"
     ]
    }
   ],
   "source": [
    "path_to_dir = 'data'\n",
    "\n",
    "df = prep.merge_csv_mult_dir(path_to_dir)"
   ]
  },
  {
   "cell_type": "code",
   "execution_count": 5,
   "metadata": {},
   "outputs": [
    {
     "name": "stdout",
     "output_type": "stream",
     "text": [
      "Shape: (1217375, 11)\n"
     ]
    },
    {
     "data": {
      "text/html": [
       "<div>\n",
       "<style scoped>\n",
       "    .dataframe tbody tr th:only-of-type {\n",
       "        vertical-align: middle;\n",
       "    }\n",
       "\n",
       "    .dataframe tbody tr th {\n",
       "        vertical-align: top;\n",
       "    }\n",
       "\n",
       "    .dataframe thead th {\n",
       "        text-align: right;\n",
       "    }\n",
       "</style>\n",
       "<table border=\"1\" class=\"dataframe\">\n",
       "  <thead>\n",
       "    <tr style=\"text-align: right;\">\n",
       "      <th></th>\n",
       "      <th>review_id</th>\n",
       "      <th>url</th>\n",
       "      <th>hotel_name</th>\n",
       "      <th>review_date</th>\n",
       "      <th>review_body</th>\n",
       "      <th>user_location</th>\n",
       "      <th>user_name</th>\n",
       "      <th>helpful_vote</th>\n",
       "      <th>rating</th>\n",
       "      <th>csv</th>\n",
       "      <th>folder</th>\n",
       "    </tr>\n",
       "  </thead>\n",
       "  <tbody>\n",
       "    <tr>\n",
       "      <th>0</th>\n",
       "      <td>751960476</td>\n",
       "      <td>https://www.tripadvisor.com/Hotel_Review-g6098...</td>\n",
       "      <td>Best Western The Plaza Hotel</td>\n",
       "      <td>March 28, 2020</td>\n",
       "      <td>Originally I picked this hotel as it was near ...</td>\n",
       "      <td>Phoenix, Arizona</td>\n",
       "      <td>thechronictraveller&lt;/div&gt;&lt;div class=\"userLoc\"&gt;...</td>\n",
       "      <td>23</td>\n",
       "      <td>4.0</td>\n",
       "      <td>Best_Western_The_Plaza_Hotel-Honolulu_Oahu_Haw...</td>\n",
       "      <td>links_1</td>\n",
       "    </tr>\n",
       "    <tr>\n",
       "      <th>1</th>\n",
       "      <td>736861148</td>\n",
       "      <td>https://www.tripadvisor.com/Hotel_Review-g6098...</td>\n",
       "      <td>Best Western The Plaza Hotel</td>\n",
       "      <td>January 4, 2020</td>\n",
       "      <td>This is a great hotel. It's away from Waikiki ...</td>\n",
       "      <td>Lewisburg, Tennessee</td>\n",
       "      <td>bitsmom_tn&lt;/div&gt;&lt;div class=\"userLoc\"&gt;&lt;strong&gt;L...</td>\n",
       "      <td>56</td>\n",
       "      <td>5.0</td>\n",
       "      <td>Best_Western_The_Plaza_Hotel-Honolulu_Oahu_Haw...</td>\n",
       "      <td>links_1</td>\n",
       "    </tr>\n",
       "    <tr>\n",
       "      <th>2</th>\n",
       "      <td>751805209</td>\n",
       "      <td>https://www.tripadvisor.com/Hotel_Review-g6098...</td>\n",
       "      <td>Best Western The Plaza Hotel</td>\n",
       "      <td>March 25, 2020</td>\n",
       "      <td>When I checked out of my room, I left my Kindl...</td>\n",
       "      <td>NaN</td>\n",
       "      <td>D7133GLjoannew</td>\n",
       "      <td>0</td>\n",
       "      <td>5.0</td>\n",
       "      <td>Best_Western_The_Plaza_Hotel-Honolulu_Oahu_Haw...</td>\n",
       "      <td>links_1</td>\n",
       "    </tr>\n",
       "    <tr>\n",
       "      <th>3</th>\n",
       "      <td>749977541</td>\n",
       "      <td>https://www.tripadvisor.com/Hotel_Review-g6098...</td>\n",
       "      <td>Best Western The Plaza Hotel</td>\n",
       "      <td>March 8, 2020</td>\n",
       "      <td>Honestly, I was not expecting much but the hot...</td>\n",
       "      <td>Los Angeles</td>\n",
       "      <td>Adrian L&lt;/div&gt;&lt;div class=\"userLoc\"&gt;&lt;strong&gt;Los...</td>\n",
       "      <td>209</td>\n",
       "      <td>4.0</td>\n",
       "      <td>Best_Western_The_Plaza_Hotel-Honolulu_Oahu_Haw...</td>\n",
       "      <td>links_1</td>\n",
       "    </tr>\n",
       "    <tr>\n",
       "      <th>4</th>\n",
       "      <td>749895049</td>\n",
       "      <td>https://www.tripadvisor.com/Hotel_Review-g6098...</td>\n",
       "      <td>Best Western The Plaza Hotel</td>\n",
       "      <td>March 8, 2020</td>\n",
       "      <td>Clean and convenient place if you need to be n...</td>\n",
       "      <td>NaN</td>\n",
       "      <td>Lydia B</td>\n",
       "      <td>0</td>\n",
       "      <td>4.0</td>\n",
       "      <td>Best_Western_The_Plaza_Hotel-Honolulu_Oahu_Haw...</td>\n",
       "      <td>links_1</td>\n",
       "    </tr>\n",
       "  </tbody>\n",
       "</table>\n",
       "</div>"
      ],
      "text/plain": [
       "   review_id                                                url  \\\n",
       "0  751960476  https://www.tripadvisor.com/Hotel_Review-g6098...   \n",
       "1  736861148  https://www.tripadvisor.com/Hotel_Review-g6098...   \n",
       "2  751805209  https://www.tripadvisor.com/Hotel_Review-g6098...   \n",
       "3  749977541  https://www.tripadvisor.com/Hotel_Review-g6098...   \n",
       "4  749895049  https://www.tripadvisor.com/Hotel_Review-g6098...   \n",
       "\n",
       "                     hotel_name      review_date  \\\n",
       "0  Best Western The Plaza Hotel   March 28, 2020   \n",
       "1  Best Western The Plaza Hotel  January 4, 2020   \n",
       "2  Best Western The Plaza Hotel   March 25, 2020   \n",
       "3  Best Western The Plaza Hotel    March 8, 2020   \n",
       "4  Best Western The Plaza Hotel    March 8, 2020   \n",
       "\n",
       "                                         review_body         user_location  \\\n",
       "0  Originally I picked this hotel as it was near ...      Phoenix, Arizona   \n",
       "1  This is a great hotel. It's away from Waikiki ...  Lewisburg, Tennessee   \n",
       "2  When I checked out of my room, I left my Kindl...                   NaN   \n",
       "3  Honestly, I was not expecting much but the hot...           Los Angeles   \n",
       "4  Clean and convenient place if you need to be n...                   NaN   \n",
       "\n",
       "                                           user_name  helpful_vote  rating  \\\n",
       "0  thechronictraveller</div><div class=\"userLoc\">...            23     4.0   \n",
       "1  bitsmom_tn</div><div class=\"userLoc\"><strong>L...            56     5.0   \n",
       "2                                     D7133GLjoannew             0     5.0   \n",
       "3  Adrian L</div><div class=\"userLoc\"><strong>Los...           209     4.0   \n",
       "4                                            Lydia B             0     4.0   \n",
       "\n",
       "                                                 csv   folder  \n",
       "0  Best_Western_The_Plaza_Hotel-Honolulu_Oahu_Haw...  links_1  \n",
       "1  Best_Western_The_Plaza_Hotel-Honolulu_Oahu_Haw...  links_1  \n",
       "2  Best_Western_The_Plaza_Hotel-Honolulu_Oahu_Haw...  links_1  \n",
       "3  Best_Western_The_Plaza_Hotel-Honolulu_Oahu_Haw...  links_1  \n",
       "4  Best_Western_The_Plaza_Hotel-Honolulu_Oahu_Haw...  links_1  "
      ]
     },
     "execution_count": 5,
     "metadata": {},
     "output_type": "execute_result"
    }
   ],
   "source": [
    "print('Shape:', df.shape)\n",
    "df.head()"
   ]
  },
  {
   "cell_type": "code",
   "execution_count": 6,
   "metadata": {},
   "outputs": [
    {
     "data": {
      "text/html": [
       "<div>\n",
       "<style scoped>\n",
       "    .dataframe tbody tr th:only-of-type {\n",
       "        vertical-align: middle;\n",
       "    }\n",
       "\n",
       "    .dataframe tbody tr th {\n",
       "        vertical-align: top;\n",
       "    }\n",
       "\n",
       "    .dataframe thead th {\n",
       "        text-align: right;\n",
       "    }\n",
       "</style>\n",
       "<table border=\"1\" class=\"dataframe\">\n",
       "  <thead>\n",
       "    <tr style=\"text-align: right;\">\n",
       "      <th></th>\n",
       "      <th>Total</th>\n",
       "      <th>Percent</th>\n",
       "      <th>Type</th>\n",
       "    </tr>\n",
       "  </thead>\n",
       "  <tbody>\n",
       "    <tr>\n",
       "      <th>user_location</th>\n",
       "      <td>233152</td>\n",
       "      <td>0.19152</td>\n",
       "      <td>object</td>\n",
       "    </tr>\n",
       "    <tr>\n",
       "      <th>folder</th>\n",
       "      <td>0</td>\n",
       "      <td>0.00000</td>\n",
       "      <td>object</td>\n",
       "    </tr>\n",
       "    <tr>\n",
       "      <th>csv</th>\n",
       "      <td>0</td>\n",
       "      <td>0.00000</td>\n",
       "      <td>object</td>\n",
       "    </tr>\n",
       "    <tr>\n",
       "      <th>rating</th>\n",
       "      <td>0</td>\n",
       "      <td>0.00000</td>\n",
       "      <td>float64</td>\n",
       "    </tr>\n",
       "    <tr>\n",
       "      <th>helpful_vote</th>\n",
       "      <td>0</td>\n",
       "      <td>0.00000</td>\n",
       "      <td>int64</td>\n",
       "    </tr>\n",
       "    <tr>\n",
       "      <th>user_name</th>\n",
       "      <td>0</td>\n",
       "      <td>0.00000</td>\n",
       "      <td>object</td>\n",
       "    </tr>\n",
       "    <tr>\n",
       "      <th>review_body</th>\n",
       "      <td>0</td>\n",
       "      <td>0.00000</td>\n",
       "      <td>object</td>\n",
       "    </tr>\n",
       "    <tr>\n",
       "      <th>review_date</th>\n",
       "      <td>0</td>\n",
       "      <td>0.00000</td>\n",
       "      <td>object</td>\n",
       "    </tr>\n",
       "    <tr>\n",
       "      <th>hotel_name</th>\n",
       "      <td>0</td>\n",
       "      <td>0.00000</td>\n",
       "      <td>object</td>\n",
       "    </tr>\n",
       "    <tr>\n",
       "      <th>url</th>\n",
       "      <td>0</td>\n",
       "      <td>0.00000</td>\n",
       "      <td>object</td>\n",
       "    </tr>\n",
       "    <tr>\n",
       "      <th>review_id</th>\n",
       "      <td>0</td>\n",
       "      <td>0.00000</td>\n",
       "      <td>int64</td>\n",
       "    </tr>\n",
       "  </tbody>\n",
       "</table>\n",
       "</div>"
      ],
      "text/plain": [
       "                Total  Percent     Type\n",
       "user_location  233152  0.19152   object\n",
       "folder              0  0.00000   object\n",
       "csv                 0  0.00000   object\n",
       "rating              0  0.00000  float64\n",
       "helpful_vote        0  0.00000    int64\n",
       "user_name           0  0.00000   object\n",
       "review_body         0  0.00000   object\n",
       "review_date         0  0.00000   object\n",
       "hotel_name          0  0.00000   object\n",
       "url                 0  0.00000   object\n",
       "review_id           0  0.00000    int64"
      ]
     },
     "execution_count": 6,
     "metadata": {},
     "output_type": "execute_result"
    }
   ],
   "source": [
    "eda.get_nulls(df)"
   ]
  },
  {
   "cell_type": "code",
   "execution_count": 7,
   "metadata": {},
   "outputs": [
    {
     "name": "stdout",
     "output_type": "stream",
     "text": [
      "Shape: (1217375, 16)\n"
     ]
    },
    {
     "data": {
      "text/html": [
       "<div>\n",
       "<style scoped>\n",
       "    .dataframe tbody tr th:only-of-type {\n",
       "        vertical-align: middle;\n",
       "    }\n",
       "\n",
       "    .dataframe tbody tr th {\n",
       "        vertical-align: top;\n",
       "    }\n",
       "\n",
       "    .dataframe thead th {\n",
       "        text-align: right;\n",
       "    }\n",
       "</style>\n",
       "<table border=\"1\" class=\"dataframe\">\n",
       "  <thead>\n",
       "    <tr style=\"text-align: right;\">\n",
       "      <th></th>\n",
       "      <th>review_id</th>\n",
       "      <th>url</th>\n",
       "      <th>hotel_name</th>\n",
       "      <th>review_date</th>\n",
       "      <th>review_body</th>\n",
       "      <th>user_location</th>\n",
       "      <th>user_name</th>\n",
       "      <th>helpful_vote</th>\n",
       "      <th>rating</th>\n",
       "      <th>csv</th>\n",
       "      <th>folder</th>\n",
       "      <th>city</th>\n",
       "      <th>user_name_clean</th>\n",
       "      <th>polarity</th>\n",
       "      <th>sentiment_int</th>\n",
       "      <th>sentiment</th>\n",
       "    </tr>\n",
       "  </thead>\n",
       "  <tbody>\n",
       "    <tr>\n",
       "      <th>0</th>\n",
       "      <td>751960476</td>\n",
       "      <td>https://www.tripadvisor.com/Hotel_Review-g6098...</td>\n",
       "      <td>Best Western The Plaza Hotel</td>\n",
       "      <td>March 28, 2020</td>\n",
       "      <td>Originally I picked this hotel as it was near ...</td>\n",
       "      <td>Phoenix, Arizona</td>\n",
       "      <td>thechronictraveller&lt;/div&gt;&lt;div class=\"userLoc\"&gt;...</td>\n",
       "      <td>23</td>\n",
       "      <td>4.0</td>\n",
       "      <td>Best_Western_The_Plaza_Hotel-Honolulu_Oahu_Haw...</td>\n",
       "      <td>links_1</td>\n",
       "      <td>Honolulu_Oahu_Hawaii</td>\n",
       "      <td>thechronictraveller</td>\n",
       "      <td>1.0</td>\n",
       "      <td>2</td>\n",
       "      <td>positive</td>\n",
       "    </tr>\n",
       "    <tr>\n",
       "      <th>1</th>\n",
       "      <td>736861148</td>\n",
       "      <td>https://www.tripadvisor.com/Hotel_Review-g6098...</td>\n",
       "      <td>Best Western The Plaza Hotel</td>\n",
       "      <td>January 4, 2020</td>\n",
       "      <td>This is a great hotel. It's away from Waikiki ...</td>\n",
       "      <td>Lewisburg, Tennessee</td>\n",
       "      <td>bitsmom_tn&lt;/div&gt;&lt;div class=\"userLoc\"&gt;&lt;strong&gt;L...</td>\n",
       "      <td>56</td>\n",
       "      <td>5.0</td>\n",
       "      <td>Best_Western_The_Plaza_Hotel-Honolulu_Oahu_Haw...</td>\n",
       "      <td>links_1</td>\n",
       "      <td>Honolulu_Oahu_Hawaii</td>\n",
       "      <td>bitsmom_tn</td>\n",
       "      <td>1.0</td>\n",
       "      <td>2</td>\n",
       "      <td>positive</td>\n",
       "    </tr>\n",
       "    <tr>\n",
       "      <th>2</th>\n",
       "      <td>751805209</td>\n",
       "      <td>https://www.tripadvisor.com/Hotel_Review-g6098...</td>\n",
       "      <td>Best Western The Plaza Hotel</td>\n",
       "      <td>March 25, 2020</td>\n",
       "      <td>When I checked out of my room, I left my Kindl...</td>\n",
       "      <td>n/a</td>\n",
       "      <td>D7133GLjoannew</td>\n",
       "      <td>0</td>\n",
       "      <td>5.0</td>\n",
       "      <td>Best_Western_The_Plaza_Hotel-Honolulu_Oahu_Haw...</td>\n",
       "      <td>links_1</td>\n",
       "      <td>Honolulu_Oahu_Hawaii</td>\n",
       "      <td>D7133GLjoannew</td>\n",
       "      <td>1.0</td>\n",
       "      <td>2</td>\n",
       "      <td>positive</td>\n",
       "    </tr>\n",
       "    <tr>\n",
       "      <th>3</th>\n",
       "      <td>749977541</td>\n",
       "      <td>https://www.tripadvisor.com/Hotel_Review-g6098...</td>\n",
       "      <td>Best Western The Plaza Hotel</td>\n",
       "      <td>March 8, 2020</td>\n",
       "      <td>Honestly, I was not expecting much but the hot...</td>\n",
       "      <td>Los Angeles</td>\n",
       "      <td>Adrian L&lt;/div&gt;&lt;div class=\"userLoc\"&gt;&lt;strong&gt;Los...</td>\n",
       "      <td>209</td>\n",
       "      <td>4.0</td>\n",
       "      <td>Best_Western_The_Plaza_Hotel-Honolulu_Oahu_Haw...</td>\n",
       "      <td>links_1</td>\n",
       "      <td>Honolulu_Oahu_Hawaii</td>\n",
       "      <td>Adrian L</td>\n",
       "      <td>1.0</td>\n",
       "      <td>2</td>\n",
       "      <td>positive</td>\n",
       "    </tr>\n",
       "    <tr>\n",
       "      <th>4</th>\n",
       "      <td>749895049</td>\n",
       "      <td>https://www.tripadvisor.com/Hotel_Review-g6098...</td>\n",
       "      <td>Best Western The Plaza Hotel</td>\n",
       "      <td>March 8, 2020</td>\n",
       "      <td>Clean and convenient place if you need to be n...</td>\n",
       "      <td>n/a</td>\n",
       "      <td>Lydia B</td>\n",
       "      <td>0</td>\n",
       "      <td>4.0</td>\n",
       "      <td>Best_Western_The_Plaza_Hotel-Honolulu_Oahu_Haw...</td>\n",
       "      <td>links_1</td>\n",
       "      <td>Honolulu_Oahu_Hawaii</td>\n",
       "      <td>Lydia B</td>\n",
       "      <td>1.0</td>\n",
       "      <td>2</td>\n",
       "      <td>positive</td>\n",
       "    </tr>\n",
       "  </tbody>\n",
       "</table>\n",
       "</div>"
      ],
      "text/plain": [
       "   review_id                                                url  \\\n",
       "0  751960476  https://www.tripadvisor.com/Hotel_Review-g6098...   \n",
       "1  736861148  https://www.tripadvisor.com/Hotel_Review-g6098...   \n",
       "2  751805209  https://www.tripadvisor.com/Hotel_Review-g6098...   \n",
       "3  749977541  https://www.tripadvisor.com/Hotel_Review-g6098...   \n",
       "4  749895049  https://www.tripadvisor.com/Hotel_Review-g6098...   \n",
       "\n",
       "                     hotel_name      review_date  \\\n",
       "0  Best Western The Plaza Hotel   March 28, 2020   \n",
       "1  Best Western The Plaza Hotel  January 4, 2020   \n",
       "2  Best Western The Plaza Hotel   March 25, 2020   \n",
       "3  Best Western The Plaza Hotel    March 8, 2020   \n",
       "4  Best Western The Plaza Hotel    March 8, 2020   \n",
       "\n",
       "                                         review_body         user_location  \\\n",
       "0  Originally I picked this hotel as it was near ...      Phoenix, Arizona   \n",
       "1  This is a great hotel. It's away from Waikiki ...  Lewisburg, Tennessee   \n",
       "2  When I checked out of my room, I left my Kindl...                   n/a   \n",
       "3  Honestly, I was not expecting much but the hot...           Los Angeles   \n",
       "4  Clean and convenient place if you need to be n...                   n/a   \n",
       "\n",
       "                                           user_name  helpful_vote  rating  \\\n",
       "0  thechronictraveller</div><div class=\"userLoc\">...            23     4.0   \n",
       "1  bitsmom_tn</div><div class=\"userLoc\"><strong>L...            56     5.0   \n",
       "2                                     D7133GLjoannew             0     5.0   \n",
       "3  Adrian L</div><div class=\"userLoc\"><strong>Los...           209     4.0   \n",
       "4                                            Lydia B             0     4.0   \n",
       "\n",
       "                                                 csv   folder  \\\n",
       "0  Best_Western_The_Plaza_Hotel-Honolulu_Oahu_Haw...  links_1   \n",
       "1  Best_Western_The_Plaza_Hotel-Honolulu_Oahu_Haw...  links_1   \n",
       "2  Best_Western_The_Plaza_Hotel-Honolulu_Oahu_Haw...  links_1   \n",
       "3  Best_Western_The_Plaza_Hotel-Honolulu_Oahu_Haw...  links_1   \n",
       "4  Best_Western_The_Plaza_Hotel-Honolulu_Oahu_Haw...  links_1   \n",
       "\n",
       "                   city      user_name_clean  polarity  sentiment_int  \\\n",
       "0  Honolulu_Oahu_Hawaii  thechronictraveller       1.0              2   \n",
       "1  Honolulu_Oahu_Hawaii           bitsmom_tn       1.0              2   \n",
       "2  Honolulu_Oahu_Hawaii       D7133GLjoannew       1.0              2   \n",
       "3  Honolulu_Oahu_Hawaii             Adrian L       1.0              2   \n",
       "4  Honolulu_Oahu_Hawaii              Lydia B       1.0              2   \n",
       "\n",
       "  sentiment  \n",
       "0  positive  \n",
       "1  positive  \n",
       "2  positive  \n",
       "3  positive  \n",
       "4  positive  "
      ]
     },
     "execution_count": 7,
     "metadata": {},
     "output_type": "execute_result"
    }
   ],
   "source": [
    "df = prep.clean_and_prep(df)\n",
    "\n",
    "print('Shape:', df.shape)\n",
    "df.head()"
   ]
  },
  {
   "cell_type": "code",
   "execution_count": 8,
   "metadata": {},
   "outputs": [
    {
     "name": "stdout",
     "output_type": "stream",
     "text": [
      "<class 'pandas.core.frame.DataFrame'>\n",
      "Int64Index: 1217375 entries, 0 to 1217374\n",
      "Data columns (total 16 columns):\n",
      " #   Column           Non-Null Count    Dtype  \n",
      "---  ------           --------------    -----  \n",
      " 0   review_id        1217375 non-null  int64  \n",
      " 1   url              1217375 non-null  object \n",
      " 2   hotel_name       1217375 non-null  object \n",
      " 3   review_date      1217375 non-null  object \n",
      " 4   review_body      1217375 non-null  object \n",
      " 5   user_location    1217375 non-null  object \n",
      " 6   user_name        1217375 non-null  object \n",
      " 7   helpful_vote     1217375 non-null  int64  \n",
      " 8   rating           1217375 non-null  float64\n",
      " 9   csv              1217375 non-null  object \n",
      " 10  folder           1217375 non-null  object \n",
      " 11  city             1217375 non-null  object \n",
      " 12  user_name_clean  1217375 non-null  object \n",
      " 13  polarity         1217375 non-null  float64\n",
      " 14  sentiment_int    1217375 non-null  int64  \n",
      " 15  sentiment        1217375 non-null  object \n",
      "dtypes: float64(2), int64(3), object(11)\n",
      "memory usage: 157.9+ MB\n"
     ]
    }
   ],
   "source": [
    "df.info()"
   ]
  },
  {
   "cell_type": "markdown",
   "metadata": {},
   "source": [
    "# EDA"
   ]
  },
  {
   "cell_type": "code",
   "execution_count": 9,
   "metadata": {},
   "outputs": [
    {
     "name": "stdout",
     "output_type": "stream",
     "text": [
      "Count of Unique Values per Column:\n",
      "\n",
      "review_id: 1217371\n",
      "url: 243667\n",
      "hotel_name: 779\n",
      "review_date: 6099\n",
      "review_body: 1217194\n",
      "user_location: 72284\n",
      "user_name: 998536\n",
      "helpful_vote: 1279\n",
      "rating: 5\n",
      "csv: 779\n",
      "folder: 10\n",
      "city: 96\n",
      "user_name_clean: 875089\n",
      "polarity: 3\n",
      "sentiment_int: 3\n",
      "sentiment: 3\n"
     ]
    }
   ],
   "source": [
    "eda.print_unique_ct(df)"
   ]
  },
  {
   "cell_type": "code",
   "execution_count": 62,
   "metadata": {},
   "outputs": [
    {
     "data": {
      "text/plain": [
       "city\n",
       "London_England                                                         304218\n",
       "New_York_City_New_York                                                 162516\n",
       "Dubai_Emirate_of_Dubai                                                 147873\n",
       "Honolulu_Oahu_Hawaii                                                   114959\n",
       "Barcelona_Catalonia                                                     76147\n",
       "Bangkok                                                                 37784\n",
       "Punta_Cana_La_Altagracia_Province_Dominican_Republic                    36023\n",
       "Nusa_Dua_Nusa_Dua_Peninsula_Bali                                        25147\n",
       "Paris_Ile_de_France                                                     23684\n",
       "Seminyak_Kuta_District_Bali                                             20110\n",
       "Legian_Kuta_District_Bali                                               19036\n",
       "Hanoi                                                                   13659\n",
       "Varadero_Matanzas_Province_Cuba                                         13180\n",
       "Havana_Ciudad_de_la_Habana_Province_Cuba                                12589\n",
       "Rome_Lazio                                                              11791\n",
       "Tanjung_Benoa_Nusa_Dua_Peninsula_Bali                                    9944\n",
       "Cayo_Coco_Jardines_del_Rey_Archipelago_Ciego_de_Avila_Province_Cuba      9373\n",
       "Bavaro_Punta_Cana_La_Altagracia_Province_Dominican_Republic              8523\n",
       "Bayahibe_La_Altagracia_Province_Dominic                                  8459\n",
       "Ubud_Gianyar_Regency_Bali                                                8276\n",
       "Kuta_Kuta_District_Bali                                                  7841\n",
       "Punta_Cana_La_Altagracia_Province_Dominican_Republ                       6969\n",
       "Minato_Tokyo_Tokyo_Prefecture_Kanto                                      6475\n",
       "Name: rating, dtype: int64"
      ]
     },
     "execution_count": 62,
     "metadata": {},
     "output_type": "execute_result"
    }
   ],
   "source": [
    "df.groupby('city').count()['rating'].sort_values(ascending=False)[:23]"
   ]
  },
  {
   "cell_type": "code",
   "execution_count": 10,
   "metadata": {},
   "outputs": [
    {
     "data": {
      "text/html": [
       "<div>\n",
       "<style scoped>\n",
       "    .dataframe tbody tr th:only-of-type {\n",
       "        vertical-align: middle;\n",
       "    }\n",
       "\n",
       "    .dataframe tbody tr th {\n",
       "        vertical-align: top;\n",
       "    }\n",
       "\n",
       "    .dataframe thead th {\n",
       "        text-align: right;\n",
       "    }\n",
       "</style>\n",
       "<table border=\"1\" class=\"dataframe\">\n",
       "  <thead>\n",
       "    <tr style=\"text-align: right;\">\n",
       "      <th></th>\n",
       "      <th>review_id</th>\n",
       "      <th>helpful_vote</th>\n",
       "      <th>rating</th>\n",
       "      <th>polarity</th>\n",
       "      <th>sentiment_int</th>\n",
       "    </tr>\n",
       "  </thead>\n",
       "  <tbody>\n",
       "    <tr>\n",
       "      <th>count</th>\n",
       "      <td>1.217375e+06</td>\n",
       "      <td>1.217375e+06</td>\n",
       "      <td>1.217375e+06</td>\n",
       "      <td>1.217375e+06</td>\n",
       "      <td>1.217375e+06</td>\n",
       "    </tr>\n",
       "    <tr>\n",
       "      <th>mean</th>\n",
       "      <td>4.363706e+08</td>\n",
       "      <td>2.590393e+01</td>\n",
       "      <td>4.362044e+00</td>\n",
       "      <td>8.929820e-01</td>\n",
       "      <td>1.785964e+00</td>\n",
       "    </tr>\n",
       "    <tr>\n",
       "      <th>std</th>\n",
       "      <td>1.962223e+08</td>\n",
       "      <td>2.732269e+02</td>\n",
       "      <td>9.776615e-01</td>\n",
       "      <td>2.715207e-01</td>\n",
       "      <td>5.430415e-01</td>\n",
       "    </tr>\n",
       "    <tr>\n",
       "      <th>min</th>\n",
       "      <td>6.937280e+05</td>\n",
       "      <td>0.000000e+00</td>\n",
       "      <td>1.000000e+00</td>\n",
       "      <td>0.000000e+00</td>\n",
       "      <td>0.000000e+00</td>\n",
       "    </tr>\n",
       "    <tr>\n",
       "      <th>25%</th>\n",
       "      <td>2.644167e+08</td>\n",
       "      <td>1.000000e+00</td>\n",
       "      <td>4.000000e+00</td>\n",
       "      <td>1.000000e+00</td>\n",
       "      <td>2.000000e+00</td>\n",
       "    </tr>\n",
       "    <tr>\n",
       "      <th>50%</th>\n",
       "      <td>4.504562e+08</td>\n",
       "      <td>6.000000e+00</td>\n",
       "      <td>5.000000e+00</td>\n",
       "      <td>1.000000e+00</td>\n",
       "      <td>2.000000e+00</td>\n",
       "    </tr>\n",
       "    <tr>\n",
       "      <th>75%</th>\n",
       "      <td>6.083789e+08</td>\n",
       "      <td>2.300000e+01</td>\n",
       "      <td>5.000000e+00</td>\n",
       "      <td>1.000000e+00</td>\n",
       "      <td>2.000000e+00</td>\n",
       "    </tr>\n",
       "    <tr>\n",
       "      <th>max</th>\n",
       "      <td>7.568581e+08</td>\n",
       "      <td>1.172290e+05</td>\n",
       "      <td>5.000000e+00</td>\n",
       "      <td>1.000000e+00</td>\n",
       "      <td>2.000000e+00</td>\n",
       "    </tr>\n",
       "  </tbody>\n",
       "</table>\n",
       "</div>"
      ],
      "text/plain": [
       "          review_id  helpful_vote        rating      polarity  sentiment_int\n",
       "count  1.217375e+06  1.217375e+06  1.217375e+06  1.217375e+06   1.217375e+06\n",
       "mean   4.363706e+08  2.590393e+01  4.362044e+00  8.929820e-01   1.785964e+00\n",
       "std    1.962223e+08  2.732269e+02  9.776615e-01  2.715207e-01   5.430415e-01\n",
       "min    6.937280e+05  0.000000e+00  1.000000e+00  0.000000e+00   0.000000e+00\n",
       "25%    2.644167e+08  1.000000e+00  4.000000e+00  1.000000e+00   2.000000e+00\n",
       "50%    4.504562e+08  6.000000e+00  5.000000e+00  1.000000e+00   2.000000e+00\n",
       "75%    6.083789e+08  2.300000e+01  5.000000e+00  1.000000e+00   2.000000e+00\n",
       "max    7.568581e+08  1.172290e+05  5.000000e+00  1.000000e+00   2.000000e+00"
      ]
     },
     "execution_count": 10,
     "metadata": {},
     "output_type": "execute_result"
    }
   ],
   "source": [
    "df.describe()"
   ]
  },
  {
   "cell_type": "code",
   "execution_count": 11,
   "metadata": {},
   "outputs": [
    {
     "data": {
      "text/plain": [
       "(<Figure size 720x720 with 1 Axes>,\n",
       " <matplotlib.axes._subplots.AxesSubplot at 0x1a7c0f8310>)"
      ]
     },
     "execution_count": 11,
     "metadata": {},
     "output_type": "execute_result"
    },
    {
     "data": {
      "text/plain": [
       "Text(0.5, 1, 'Initial Balance of Review Sentiments')"
      ]
     },
     "execution_count": 11,
     "metadata": {},
     "output_type": "execute_result"
    },
    {
     "data": {
      "text/plain": [
       "Text(93.2, 0.5, '')"
      ]
     },
     "execution_count": 11,
     "metadata": {},
     "output_type": "execute_result"
    },
    {
     "data": {
      "image/png": "[encoded data removed]",
      "text/plain": [
       "<Figure size 720x720 with 1 Axes>"
      ]
     },
     "metadata": {},
     "output_type": "display_data"
    }
   ],
   "source": [
    "# Plot pie - Sentiments\n",
    "fig, ax = plt.subplots(figsize=(10,10))\n",
    "eda.plot_pie(df['sentiment'], fig, ax)\n",
    "ax.set_title('Initial Balance of Review Sentiments', size=BIGGEST_SIZE)\n",
    "ax.set_ylabel('')\n",
    "fig.savefig('imgs/pie_sentiments_initial')"
   ]
  },
  {
   "cell_type": "code",
   "execution_count": 12,
   "metadata": {},
   "outputs": [
    {
     "name": "stdout",
     "output_type": "stream",
     "text": [
      "Total Number of Ratings:  1217375\n"
     ]
    },
    {
     "data": {
      "text/plain": [
       "(<Figure size 864x576 with 1 Axes>,\n",
       " <matplotlib.axes._subplots.AxesSubplot at 0x1a7c82dd50>)"
      ]
     },
     "execution_count": 12,
     "metadata": {},
     "output_type": "execute_result"
    },
    {
     "data": {
      "text/plain": [
       "Text(0.5, 1, 'Counts of Hotel Ratings')"
      ]
     },
     "execution_count": 12,
     "metadata": {},
     "output_type": "execute_result"
    },
    {
     "data": {
      "text/plain": [
       "Text(0.5, 41.400000000000006, 'Hotel Rating')"
      ]
     },
     "execution_count": 12,
     "metadata": {},
     "output_type": "execute_result"
    },
    {
     "data": {
      "image/png": "[encoded data removed]",
      "text/plain": [
       "<Figure size 864x576 with 1 Axes>"
      ]
     },
     "metadata": {},
     "output_type": "display_data"
    }
   ],
   "source": [
    "# Plot counts - Ratings\n",
    "print('Total Number of Ratings: ', df.shape[0])\n",
    "\n",
    "fig, ax = plt.subplots(figsize=(12,8))\n",
    "eda.plot_counts(df, 'rating', fig, ax)\n",
    "ax.set_title('Counts of Hotel Ratings', size=BIGGEST_SIZE)\n",
    "ax.set_xlabel('Hotel Rating')\n",
    "fig.savefig('imgs/countplot_ratings_full')"
   ]
  },
  {
   "cell_type": "markdown",
   "metadata": {},
   "source": [
    "# Train-Test-Val Split"
   ]
  },
  {
   "cell_type": "code",
   "execution_count": 13,
   "metadata": {},
   "outputs": [
    {
     "name": "stdout",
     "output_type": "stream",
     "text": [
      "\tTrain: 779120, Val: 194780, Test: 243475\n"
     ]
    }
   ],
   "source": [
    "target = 'sentiment'\n",
    "features = ['review_body']\n",
    "X_train, X_val, X_test, y_train, y_val, y_test, \\\n",
    "    indices_train, indices_val, indices_test = prep.train_test_val_split(df, target, features)"
   ]
  },
  {
   "cell_type": "code",
   "execution_count": 14,
   "metadata": {},
   "outputs": [
    {
     "data": {
      "text/plain": [
       "((779120,), (194780,), (243475,))"
      ]
     },
     "execution_count": 14,
     "metadata": {},
     "output_type": "execute_result"
    }
   ],
   "source": [
    "indices_train.shape, indices_val.shape, indices_test.shape"
   ]
  },
  {
   "cell_type": "markdown",
   "metadata": {},
   "source": [
    "## Handling class imbalance by under-sampling train data"
   ]
  },
  {
   "cell_type": "code",
   "execution_count": 15,
   "metadata": {},
   "outputs": [
    {
     "name": "stdout",
     "output_type": "stream",
     "text": [
      "\tMajority Class: positive, Middle Class: neutral, Minority Class: negative\n",
      "\t\tNumber positive in train: 661705\n",
      "\t\tNumber neutral in train: 68069\n",
      "\t\tNumber negative in train: 49346\n",
      "\tFinal undersampled train size: 148038\n"
     ]
    }
   ],
   "source": [
    "train_df_us = prep.undersample_train(df, target, indices_train, y_train)"
   ]
  },
  {
   "cell_type": "code",
   "execution_count": 16,
   "metadata": {},
   "outputs": [
    {
     "name": "stdout",
     "output_type": "stream",
     "text": [
      "Total Number of Ratings:  148038\n"
     ]
    },
    {
     "data": {
      "text/plain": [
       "(<Figure size 720x720 with 1 Axes>,\n",
       " <matplotlib.axes._subplots.AxesSubplot at 0x1a7ca2cf50>)"
      ]
     },
     "execution_count": 16,
     "metadata": {},
     "output_type": "execute_result"
    },
    {
     "data": {
      "text/plain": [
       "Text(0.5, 1, 'Balance of Review Sentiments,\\nAfter Under-Sampling Train')"
      ]
     },
     "execution_count": 16,
     "metadata": {},
     "output_type": "execute_result"
    },
    {
     "data": {
      "text/plain": [
       "Text(93.2, 0.5, '')"
      ]
     },
     "execution_count": 16,
     "metadata": {},
     "output_type": "execute_result"
    },
    {
     "data": {
      "image/png": "[encoded data removed]",
      "text/plain": [
       "<Figure size 720x720 with 1 Axes>"
      ]
     },
     "metadata": {},
     "output_type": "display_data"
    }
   ],
   "source": [
    "# Plot pie - Classes after undersampling\n",
    "print('Total Number of Ratings: ', train_df_us.shape[0])\n",
    "\n",
    "fig, ax = plt.subplots(figsize=(10,10))\n",
    "eda.plot_pie(train_df_us[target], fig, ax)\n",
    "ax.set_title('Balance of Review Sentiments,\\nAfter Under-Sampling Train', size=BIGGEST_SIZE)\n",
    "ax.set_ylabel('')\n",
    "fig.savefig('imgs/pie_sentiments_train_undersample')"
   ]
  },
  {
   "cell_type": "markdown",
   "metadata": {},
   "source": [
    "# Modeling with TF-IDF"
   ]
  },
  {
   "cell_type": "code",
   "execution_count": null,
   "metadata": {},
   "outputs": [
    {
     "name": "stdout",
     "output_type": "stream",
     "text": [
      "[nltk_data] Downloading package wordnet to\n",
      "[nltk_data]     /Users/chelsearamos/nltk_data...\n",
      "[nltk_data]   Package wordnet is already up-to-date!\n",
      "Processing files in data...\n",
      "\tNon-zip folders/files found in data: ['links_1', 'links_6', 'links_8', 'links_9', 'links_7', 'links_10', 'links_5', 'links_2', 'links_3', 'links_4']\n",
      "\n",
      "Splitting data into train/val/test...\n",
      "\tTrain: 779120, Val: 194780, Test: 243475\n",
      "\tMajority Class: positive, Middle Class: neutral, Minority Class: negative\n",
      "\t\tNumber positive in train: 661705\n",
      "\t\tNumber neutral in train: 68069\n",
      "\t\tNumber negative in train: 49346\n",
      "\tFinal undersampled train size: 148038\n",
      "\n",
      "Getting bag of words for train data...\n",
      "\n",
      "Starting modeling...\n",
      "\n",
      "\tFitting LogisticRegression...\n",
      "\t\tScores: {'fit_time': array([110.62286711,  78.71040106, 112.50553393,  95.31132507,\n",
      "       171.02307677]), 'score_time': array([3.63833189, 3.57163   , 3.71794391, 3.68200397, 4.86130214]), 'test_accuracy': array([0.77137936, 0.76911646, 0.76840719, 0.76981795, 0.76620394]), 'train_accuracy': array([0.79649582, 0.79733176, 0.79671536, 0.79648065, 0.79732502])}\n",
      "\t\tAverage train accuracy: 0.7968697225269342\n",
      "\t\tAverage test accuracy: 0.7689849771810775\n",
      "\n",
      "\n",
      "\n",
      "\tFitting MultinomialNB...\n"
     ]
    }
   ],
   "source": [
    "! python src/preprocess.py data model"
   ]
  },
  {
   "cell_type": "markdown",
   "metadata": {},
   "source": [
    "```\n",
    "Processing files in data...\n",
    "\tNon-zip folders/files found in data: ['links_1']\n",
    "\n",
    "Splitting data into train/val/test...\n",
    "\tTrain: 213140, Val: 53285, Test: 66607\n",
    "\tMajority Class: positive, Middle Class: neutral, Minority Class: negative\n",
    "\t\tNumber positive in train: 166155\n",
    "\t\tNumber neutral in train: 26299\n",
    "\t\tNumber negative in train: 20686\n",
    "\tFinal undersampled train size: 62058\n",
    "    \n",
    "Getting bag of words for train data...\n",
    "\n",
    "Starting modeling...\n",
    "\n",
    "\tFitting LogisticRegression...\n",
    "                Scores: {'fit_time': array([14.73221493, 14.67445898, 14.61940336, 14.66072369, 14.82588744]), 'score_time': array([1.42016864, 1.41654634, 1.41894245, 1.41845775, 1.41838765]), 'test_accuracy': array([0.75580084, 0.75733161, 0.7546729 , 0.75707034, 0.75183305]), 'train_accuracy': array([0.81660154, 0.81801152, 0.81873666, 0.81743106, 0.81745121])}\n",
    "                Average train accuracy: 0.8176463969614115\n",
    "                Average test accuracy: 0.7553417483627481\n",
    "        \n",
    "        \n",
    "    Fitting MultinomialNB...\n",
    "                Scores: {'fit_time': array([10.13023186, 10.1286757 , 10.13355589, 10.13215995, 10.13620377]), 'score_time': array([1.41610551, 1.41577578, 1.4157331 , 1.41798496, 1.41525722]), 'test_accuracy': array([0.7296165 , 0.7340477 , 0.72655495, 0.73168963, 0.72959471]), 'train_accuracy': array([0.7589131 , 0.75846997, 0.75959795, 0.75797128, 0.75811227])}\n",
    "                Average train accuracy: 0.7586129151047422\n",
    "                Average test accuracy: 0.7303006974596283\n",
    "\n",
    "\n",
    "        Fitting RandomForestClassifier...\n",
    "                Scores: {'fit_time': array([135.37750936, 135.43342757, 136.33951545, 135.32857227,\n",
    "       135.47986341]), 'score_time': array([1.94026279, 1.93801475, 1.94030833, 1.94585085, 1.93872213]), 'test_accuracy': array([0.70488237, 0.70995811, 0.7087496 , 0.70904842, 0.69680122]), 'train_accuracy': array([1., 1., 1., 1., 1.])}\n",
    "                Average train accuracy: 1.0\n",
    "                Average test accuracy: 0.705887944725258\n",
    "\n",
    "\n",
    "        Fitting GradientBoostingClassifier...\n",
    "                Scores: {'fit_time': array([263.72342896, 266.55406952, 263.8704145 , 265.59878659,\n",
    "       265.58436465]), 'score_time': array([1.4826808 , 1.48225331, 1.47889447, 1.48168659, 1.48074532]), 'test_accuracy': array([0.69416694, 0.69972607, 0.69344183, 0.69800983, 0.6876964 ]), 'train_accuracy': array([0.71729847, 0.71687548, 0.71788261, 0.71780772, 0.71849256])}\n",
    "                Average train accuracy: 0.7176713680849213\n",
    "                Average test accuracy: 0.6946082131200184\n",
    "\n",
    "\n",
    "        Fitting XGBClassifier...\n",
    "                Scores: {'fit_time': array([21.48981547, 21.50380468, 21.49269342, 21.56712437, 21.57016969]), 'score_time': array([1.61389542, 1.61442304, 1.61841702, 1.60971189, 1.61087203]), 'test_accuracy': array([0.72824686, 0.73324202, 0.73001934, 0.73249537, 0.72129562]), 'train_accuracy': array([0.85400637, 0.8536438 , 0.85275752, 0.85267992, 0.85541926])}\n",
    "                Average train accuracy: 0.8537013733264303\n",
    "                Average test accuracy: 0.7290598419431495\n",
    "```"
   ]
  },
  {
   "cell_type": "markdown",
   "metadata": {},
   "source": [
    "# LSTM"
   ]
  },
  {
   "cell_type": "markdown",
   "metadata": {},
   "source": [
    "```\n",
    "Train: 262240, Val: 65560, Test: 81950\n",
    "Majority Class: positive, Middle Class: neutral, Minority Class: negative\n",
    "\t\tNumber positive in train: 210407\n",
    "\t\tNumber neutral in train: 29262\n",
    "\t\tNumber negative in train: 22571\n",
    "\tFinal undersampled train size: 67713\n",
    "```"
   ]
  },
  {
   "cell_type": "markdown",
   "metadata": {},
   "source": [
    "## Initial"
   ]
  },
  {
   "cell_type": "markdown",
   "metadata": {},
   "source": [
    "```\n",
    "Model: \"sequential\"\n",
    "_________________________________________________________________\n",
    "Layer (type)                 Output Shape              Param #\n",
    "=================================================================\n",
    "embedding (Embedding)        (None, 250, 50)           9273100\n",
    "_________________________________________________________________\n",
    "lstm (LSTM)                  (None, 250, 50)           20200\n",
    "_________________________________________________________________\n",
    "lstm_1 (LSTM)                (None, 10)                2440\n",
    "_________________________________________________________________\n",
    "dropout (Dropout)            (None, 10)                0\n",
    "_________________________________________________________________\n",
    "dense (Dense)                (None, 8)                 88\n",
    "_________________________________________________________________\n",
    "dense_1 (Dense)              (None, 3)                 27\n",
    "=================================================================\n",
    "Total params: 9,295,855\n",
    "Trainable params: 9,295,855\n",
    "Non-trainable params: 0\n",
    "\n",
    "Epoch 1/10\n",
    "1059/1059 [==============================] - 362s 342ms/step - loss: 1.0864 - accuracy: 0.3643\n",
    "Epoch 2/10\n",
    "1059/1059 [==============================] - 373s 352ms/step - loss: 0.9109 - accuracy: 0.5358\n",
    "Epoch 3/10\n",
    "1059/1059 [==============================] - 381s 360ms/step - loss: 0.7072 - accuracy: 0.6770\n",
    "Epoch 4/10\n",
    "1059/1059 [==============================] - 381s 360ms/step - loss: 0.6283 - accuracy: 0.7241\n",
    "Epoch 5/10\n",
    "1059/1059 [==============================] - 373s 352ms/step - loss: 0.5818 - accuracy: 0.7497\n",
    "Epoch 6/10\n",
    "1059/1059 [==============================] - 376s 355ms/step - loss: 0.5502 - accuracy: 0.7666\n",
    "Epoch 7/10\n",
    "1059/1059 [==============================] - 386s 365ms/step - loss: 0.5234 - accuracy: 0.7808\n",
    "Epoch 8/10\n",
    "1059/1059 [==============================] - 384s 363ms/step - loss: 0.4974 - accuracy: 0.7972\n",
    "Epoch 9/10\n",
    "1059/1059 [==============================] - 378s 357ms/step - loss: 0.4776 - accuracy: 0.8064\n",
    "Epoch 10/10\n",
    "1059/1059 [==============================] - 386s 364ms/step - loss: 0.4598 - accuracy: 0.8167\n",
    "2117/2117 [==============================] - 97s 46ms/step - loss: 0.3970 - accuracy: 0.8528\n",
    "\n",
    "2117/2117 [==============================] - 99s 47ms/step - loss: 0.3970 - accuracy: 0.8528\n",
    "Training Accuracy:  0.852760910987854\n",
    "2049/2049 [==============================] - 117s 57ms/step - loss: 0.5592 - accuracy: 0.7957\n",
    "Test Accuracy:  0.7957443594932556\n",
    "```"
   ]
  },
  {
   "cell_type": "markdown",
   "metadata": {},
   "source": [
    "## 2nd - max_length = 200"
   ]
  },
  {
   "cell_type": "markdown",
   "metadata": {},
   "source": [
    "```\n",
    "Model: \"sequential\"\n",
    "_________________________________________________________________\n",
    "Layer (type)                 Output Shape              Param #\n",
    "=================================================================\n",
    "embedding (Embedding)        (None, None, 64)          11869568\n",
    "_________________________________________________________________\n",
    "bidirectional (Bidirectional (None, 128)               66048\n",
    "_________________________________________________________________\n",
    "dense (Dense)                (None, 64)                8256\n",
    "_________________________________________________________________\n",
    "dense_1 (Dense)              (None, 3)                 195\n",
    "=================================================================\n",
    "\n",
    "Total params: 11,944,067\n",
    "Trainable params: 11,944,067\n",
    "Non-trainable params: 0\n",
    "_________________________________________________________________\n",
    "Epoch 1/2\n",
    "2117/2117 [==============================] - 928s 438ms/step - loss: 0.6532 - accuracy: 0.7020 - val_loss: 0.4346 - val_accuracy: 0.8075\n",
    "Epoch 2/2\n",
    "2117/2117 [==============================] - 939s 444ms/step - loss: 0.5507 - accuracy: 0.7600 - val_loss: 0.3763 - val_accuracy: 0.8435\n",
    "\n",
    "Took 1871.23s to train\n",
    "2117/2117 [==============================] - 109s 52ms/step - loss: 0.4894 - accuracy: 0.7941\n",
    "Training Accuracy:  0.7940868139266968\n",
    "2049/2049 [==============================] - 103s 50ms/step - loss: 0.3763 - accuracy: 0.8435\n",
    "Test Accuracy:  0.8434563875198364\n",
    "\n",
    "saved_models/lstm_tokens5000_2epochs_20200602-21:39:36.h5\n",
    "```\n",
    "\n",
    "**Added 2 more Epochs**\n",
    "```\n",
    "Will save model to: saved_models/lstm_tokens5000_2epochs_20200602-22:34:44.h5\n",
    "\n",
    "Epoch 1/2\n",
    "2117/2117 [==============================] - 942s 445ms/step - loss: 0.5055 - accuracy: 0.7823 - val_loss: 0.4022 - val_accuracy: 0.8396\n",
    "Epoch 2/2\n",
    "2117/2117 [==============================] - 934s 441ms/step - loss: 0.4651 - accuracy: 0.8040 - val_loss: 0.4806 - val_accuracy: 0.8138\n",
    "\n",
    "Took 1880.52s to train\n",
    "```"
   ]
  },
  {
   "cell_type": "markdown",
   "metadata": {},
   "source": [
    "## 3rd - maxlen = 200, embedding_dim = 128"
   ]
  },
  {
   "cell_type": "markdown",
   "metadata": {},
   "source": [
    "```\n",
    "Will save model to: saved_models/lstm_tokens5000_2epochs_20200602-23:18:07.h5\n",
    "\n",
    "\n",
    "\n",
    "Model: \"sequential\"\n",
    "_________________________________________________________________\n",
    "Layer (type)                 Output Shape              Param #\n",
    "=================================================================\n",
    "embedding (Embedding)        (None, None, 128)         23739136\n",
    "_________________________________________________________________\n",
    "bidirectional (Bidirectional (None, 256)               263168\n",
    "_________________________________________________________________\n",
    "dense (Dense)                (None, 128)               32896\n",
    "_________________________________________________________________\n",
    "dense_1 (Dense)              (None, 3)                 387\n",
    "=================================================================\n",
    "Total params: 24,035,587\n",
    "Trainable params: 24,035,587\n",
    "Non-trainable params: 0\n",
    "_________________________________________________________________\n",
    "Epoch 1/2\n",
    "2117/2117 [==============================] - 961s 454ms/step - loss: 0.6566 - accuracy: 0.7026 - val_loss: 0.5774 - val_accuracy: 0.7563\n",
    "Epoch 2/2\n",
    "2117/2117 [==============================] - 983s 464ms/step - loss: 0.5426 - accuracy: 0.7653 - val_loss: 0.4475 - val_accuracy: 0.8238\n",
    "\n",
    "Took 1948.19s to train\n",
    "2117/2117 [==============================] - 111s 52ms/step - loss: 0.5011 - accuracy: 0.7897\n",
    "Training Accuracy:  0.7897301912307739\n",
    "2049/2049 [==============================] - 106s 52ms/step - loss: 0.4475 - accuracy: 0.8238\n",
    "Test Accuracy:  0.823825478553772\n",
    "```\n",
    "\n",
    "**Added 2 more Epochs**\n",
    "```\n",
    "Will save model to: saved_models/lstm_tokens5000_2epochs_20200602-23:58:30.h5\n",
    "\n",
    "Epoch 1/2\n",
    "2117/2117 [==============================] - 938s 443ms/step - loss: 0.4882 - accuracy: 0.7922 - val_loss: 0.4260 - val_accuracy: 0.8349\n",
    "Epoch 2/2\n",
    "2117/2117 [==============================] - 934s 441ms/step - loss: 0.4365 - accuracy: 0.8178 - val_loss: 0.5029 - val_accuracy: 0.7982\n",
    "\n",
    "Took 1876.64s to train\n",
    "2117/2117 [==============================] - 110s 52ms/step - loss: 0.3579 - accuracy: 0.8578\n",
    "Training Accuracy:  0.8578264117240906\n",
    "2049/2049 [==============================] - 106s 52ms/step - loss: 0.5029 - accuracy: 0.7982\n",
    "Test Accuracy:  0.798245906829834\n",
    "```"
   ]
  },
  {
   "cell_type": "markdown",
   "metadata": {},
   "source": [
    "## 4th - maxlen = 400, embedding_dim = 100, num_words = 10000 (prev 5000), added dropout, batch_size=500"
   ]
  },
  {
   "cell_type": "markdown",
   "metadata": {},
   "source": [
    "```\n",
    "Will save model to: saved_models/lstm_tokens5000_4epochs_20200603-01:17:09.h5\n",
    "\n",
    "Model: \"sequential\"\n",
    "_________________________________________________________________\n",
    "Layer (type)                 Output Shape              Param #\n",
    "=================================================================\n",
    "embedding (Embedding)        (None, 400, 100)          18546200\n",
    "_________________________________________________________________\n",
    "bidirectional (Bidirectional (None, 200)               160800\n",
    "_________________________________________________________________\n",
    "dense (Dense)                (None, 100)               20100\n",
    "_________________________________________________________________\n",
    "dropout (Dropout)            (None, 100)               0\n",
    "_________________________________________________________________\n",
    "dense_1 (Dense)              (None, 3)                 303\n",
    "=================================================================\n",
    "Total params: 18,727,403\n",
    "Trainable params: 18,727,403\n",
    "Non-trainable params: 0\n",
    "_________________________________________________________________\n",
    "Epoch 1/4\n",
    "136/136 [==============================] - 462s 3s/step - loss: 0.8017 - accuracy: 0.6131 - val_loss: 0.4982 - val_accuracy: 0.7918\n",
    "Epoch 2/4\n",
    "136/136 [==============================] - 460s 3s/step - loss: 0.5711 - accuracy: 0.7511 - val_loss: 0.3904 - val_accuracy: 0.8361\n",
    "Epoch 3/4\n",
    "136/136 [==============================] - 462s 3s/step - loss: 0.5264 - accuracy: 0.7771 - val_loss: 0.4610 - val_accuracy: 0.8239\n",
    "Epoch 4/4\n",
    "136/136 [==============================] - 461s 3s/step - loss: 0.4864 - accuracy: 0.7947 - val_loss: 0.4550 - val_accuracy: 0.8014\n",
    "\n",
    "Took 1858.39s to train\n",
    "2117/2117 [==============================] - 184s 87ms/step - loss: 0.4243 - accuracy: 0.8273\n",
    "Training Accuracy:  0.8273300528526306\n",
    "2049/2049 [==============================] - 173s 85ms/step - loss: 0.4550 - accuracy: 0.8014\n",
    "Test Accuracy:  0.801372766494751\n",
    "```"
   ]
  },
  {
   "cell_type": "markdown",
   "metadata": {},
   "source": [
    "## 4th - maxlen = 500, embedding_dim = 200, num_words = 10000 (prev 5000), added dropout, batch_size=1000"
   ]
  },
  {
   "cell_type": "markdown",
   "metadata": {},
   "source": [
    "```\n",
    "Will save model to: saved_models/lstm_tokens5000_5epochs_20200603-02:01:18.h5\n",
    "\n",
    "\n",
    "\n",
    "Model: \"sequential\"\n",
    "_________________________________________________________________\n",
    "Layer (type)                 Output Shape              Param #\n",
    "=================================================================\n",
    "embedding (Embedding)        (None, 500, 200)          37092400\n",
    "_________________________________________________________________\n",
    "bidirectional (Bidirectional (None, 400)               641600\n",
    "_________________________________________________________________\n",
    "dense (Dense)                (None, 200)               80200\n",
    "_________________________________________________________________\n",
    "dropout (Dropout)            (None, 200)               0\n",
    "_________________________________________________________________\n",
    "dense_1 (Dense)              (None, 3)                 603\n",
    "=================================================================\n",
    "Total params: 37,814,803\n",
    "Trainable params: 37,814,803\n",
    "Non-trainable params: 0\n",
    "_________________________________________________________________\n",
    "Epoch 1/5\n",
    "68/68 [==============================] - 673s 10s/step - loss: 0.8739 - accuracy: 0.5732 - val_loss: 0.4085 - val_accuracy: 0.8338\n",
    "Epoch 2/5\n",
    "68/68 [==============================] - 675s 10s/step - loss: 0.5580 - accuracy: 0.7590 - val_loss: 0.4630 - val_accuracy: 0.7952\n",
    "Epoch 3/5\n",
    "68/68 [==============================] - 672s 10s/step - loss: 0.4998 - accuracy: 0.7890 - val_loss: 0.4149 - val_accuracy: 0.8224\n",
    "Epoch 4/5\n",
    "68/68 [==============================] - 674s 10s/step - loss: 0.4620 - accuracy: 0.8059 - val_loss: 0.4421 - val_accuracy: 0.8206\n",
    "Epoch 5/5\n",
    "68/68 [==============================] - 676s 10s/step - loss: 0.4371 - accuracy: 0.8197 - val_loss: 0.4888 - val_accuracy: 0.7863\n",
    "\n",
    "Took 3411.24s to train\n",
    "2117/2117 [==============================] - 356s 168ms/step - loss: 0.4065 - accuracy: 0.8345\n",
    "Training Accuracy:  0.8344631195068359\n",
    "2049/2049 [==============================] - 338s 165ms/step - loss: 0.4888 - accuracy: 0.7863\n",
    "Test Accuracy:  0.7863331437110901\n",
    "```"
   ]
  },
  {
   "cell_type": "markdown",
   "metadata": {},
   "source": [
    "**Added 15 more epochs**"
   ]
  },
  {
   "cell_type": "markdown",
   "metadata": {},
   "source": []
  },
  {
   "cell_type": "markdown",
   "metadata": {},
   "source": [
    "## 4th - maxlen = 500, embedding_dim = 64, lstm_cells = 100, num_words = 5000, added another dropout layer, batch_size=500"
   ]
  },
  {
   "cell_type": "markdown",
   "metadata": {},
   "source": [
    "```\n",
    "        Train: 262240, Val: 65560, Test: 81950\n",
    "        Majority Class: positive, Middle Class: neutral, Minority Class: negative\n",
    "                Number positive in train: 210407\n",
    "                Number neutral in train: 29262\n",
    "                Number negative in train: 22571\n",
    "        Final undersampled train size: 67713\n",
    "\n",
    "Will save model to: saved_models/lstm_tokens5000_10epochs_20200603-03:54:24.h5\n",
    "\n",
    "Model: \"sequential\"\n",
    "_________________________________________________________________\n",
    "Layer (type)                 Output Shape              Param #\n",
    "=================================================================\n",
    "embedding (Embedding)        (None, 500, 64)           11869568\n",
    "_________________________________________________________________\n",
    "dropout (Dropout)            (None, 500, 64)           0\n",
    "_________________________________________________________________\n",
    "bidirectional (Bidirectional (None, 200)               132000\n",
    "_________________________________________________________________\n",
    "dense (Dense)                (None, 400)               80400\n",
    "_________________________________________________________________\n",
    "dropout_1 (Dropout)          (None, 400)               0\n",
    "_________________________________________________________________\n",
    "dense_1 (Dense)              (None, 3)                 1203\n",
    "=================================================================\n",
    "Total params: 12,083,171\n",
    "Trainable params: 12,083,171\n",
    "Non-trainable params: 0\n",
    "__________________________________________________________\n",
    "Epoch 1/10\n",
    "136/136 [==============================] - 565s 4s/step - loss: 0.7649 - accuracy: 0.6313 - val_loss: 0.5214 - val_accuracy: 0.7995\n",
    "Epoch 2/10\n",
    "136/136 [==============================] - 569s 4s/step - loss: 0.5628 - accuracy: 0.7526 - val_loss: 0.4160 - val_accuracy: 0.8436\n",
    "Epoch 3/10\n",
    "136/136 [==============================] - 564s 4s/step - loss: 0.5211 - accuracy: 0.7749 - val_loss: 0.4198 - val_accuracy: 0.8173\n",
    "Epoch 4/10\n",
    "136/136 [==============================] - 569s 4s/step - loss: 0.5006 - accuracy: 0.7862 - val_loss: 0.3700 - val_accuracy: 0.8438\n",
    "Epoch 5/10\n",
    "136/136 [==============================] - 568s 4s/step - loss: 0.4915 - accuracy: 0.7914 - val_loss: 0.4074 - val_accuracy: 0.8350\n",
    "Epoch 6/10\n",
    "136/136 [==============================] - 564s 4s/step - loss: 0.4723 - accuracy: 0.7996 - val_loss: 0.3928 - val_accuracy: 0.8379\n",
    "Epoch 7/10\n",
    "136/136 [==============================] - 563s 4s/step - loss: 0.4586 - accuracy: 0.8072 - val_loss: 0.4425 - val_accuracy: 0.8199\n",
    "Epoch 8/10\n",
    "136/136 [==============================] - 565s 4s/step - loss: 0.4618 - accuracy: 0.8071 - val_loss: 0.4907 - val_accuracy: 0.8134\n",
    "Epoch 9/10\n",
    "136/136 [==============================] - 565s 4s/step - loss: 0.4475 - accuracy: 0.8130 - val_loss: 0.4125 - val_accuracy: 0.8351\n",
    "Epoch 10/10\n",
    "136/136 [==============================] - 566s 4s/step - loss: 0.4327 - accuracy: 0.8185 - val_loss: 0.4203 - val_accuracy: 0.8363\n",
    "\n",
    "Took 5689.54s to train\n",
    "2117/2117 [==============================] - 234s 110ms/step - loss: 0.3933 - accuracy: 0.8364\n",
    "Training Accuracy:  0.8364420533180237\n",
    "2049/2049 [==============================] - 216s 105ms/step - loss: 0.4203 - accuracy: 0.8363\n",
    "Test Accuracy:  0.8363178968429565\n",
    "```"
   ]
  },
  {
   "cell_type": "markdown",
   "metadata": {},
   "source": [
    "## 5th - Same as above + 1 LSTM layer, more data!"
   ]
  },
  {
   "cell_type": "markdown",
   "metadata": {},
   "source": [
    "```\n",
    "       Train: 529232, Val: 132309, Test: 165386\n",
    "        Majority Class: positive, Middle Class: neutral, Minority Class: negative\n",
    "                Number positive in train: 441995\n",
    "                Number neutral in train: 50299\n",
    "                Number negative in train: 36938\n",
    "        Final undersampled train size: 110814\n",
    "\n",
    "Will save model to: saved_models/lstm_tokens5000_7epochs_20200603-17:10:40.h5\n",
    "\n",
    "\n",
    "\n",
    "Model: \"sequential\"\n",
    "_________________________________________________________________\n",
    "Layer (type)                 Output Shape              Param #\n",
    "=================================================================\n",
    "embedding (Embedding)        (None, 500, 64)           18985408\n",
    "_________________________________________________________________\n",
    "dropout (Dropout)            (None, 500, 64)           0\n",
    "_________________________________________________________________\n",
    "bidirectional (Bidirectional (None, 500, 200)          132000\n",
    "_________________________________________________________________\n",
    "bidirectional_1 (Bidirection (None, 200)               240800\n",
    "_________________________________________________________________\n",
    "dropout_1 (Dropout)          (None, 200)               0\n",
    "_________________________________________________________________\n",
    "dense (Dense)                (None, 400)               80400\n",
    "_________________________________________________________________\n",
    "dense_1 (Dense)              (None, 3)                 1203\n",
    "=================================================================\n",
    "Total params: 19,439,811\n",
    "Trainable params: 19,439,811\n",
    "Non-trainable params: 0\n",
    "_________________________________________________________________\n",
    "Epoch 1/7\n",
    "111/111 [==============================] - 1649s 15s/step - loss: 0.7433 - accuracy: 0.6435 - val_loss: 0.4512 - val_accuracy: 0.8069\n",
    "Epoch 2/7\n",
    "111/111 [==============================] - 1648s 15s/step - loss: 0.5435 - accuracy: 0.7643 - val_loss: 0.4282 - val_accuracy: 0.8177\n",
    "Epoch 3/7\n",
    "111/111 [==============================] - 1651s 15s/step - loss: 0.5121 - accuracy: 0.7813 - val_loss: 0.4322 - val_accuracy: 0.8137\n",
    "Epoch 4/7\n",
    "111/111 [==============================] - 1653s 15s/step - loss: 0.4957 - accuracy: 0.7875 - val_loss: 0.4342 - val_accuracy: 0.8161\n",
    "Epoch 5/7\n",
    "111/111 [==============================] - 1654s 15s/step - loss: 0.4857 - accuracy: 0.7934 - val_loss: 0.3630 - val_accuracy: 0.8485\n",
    "Epoch 6/7\n",
    "111/111 [==============================] - 1654s 15s/step - loss: 0.4729 - accuracy: 0.7991 - val_loss: 0.3904 - val_accuracy: 0.8349\n",
    "Epoch 7/7\n",
    "111/111 [==============================] - 1651s 15s/step - loss: 0.4692 - accuracy: 0.8011 - val_loss: 0.3930 - val_accuracy: 0.8361\n",
    "\n",
    "Took 11638.19s to train\n",
    "3463/3463 [==============================] - 1409s 407ms/step - loss: 0.4372 - accuracy: 0.8174\n",
    "Training Accuracy:  0.8173967003822327\n",
    "4135/4135 [==============================] - 2448s 592ms/step - loss: 0.3930 - accuracy: 0.8361\n",
    "Test Accuracy:  0.8360655903816223\n",
    "```"
   ]
  },
  {
   "cell_type": "markdown",
   "metadata": {},
   "source": [
    "# 6th\n",
    "* Changed trunc type 'pre' -> 'post'\n",
    "* Fit tokenizer on undersampled train data only (prev fit on all data...)\n",
    "* Added oov token\n",
    "```\n",
    "    maxlen = 400 #PARAMS\n",
    "    oov_tok = '<OOV>'\n",
    "    num_words = 5000\n",
    "    trunc_type = 'post'\n",
    "    padding_type = 'post'\n",
    "    embedding_dim=64 #PARAMS\n",
    "    lstm_cells = 96 #PARAMS\n",
    "    batch_size=1024 #PARAMS\n",
    "```\n",
    "\n",
    "```\n",
    "Will save model to: saved_models/lstm_tokens5000_10epochs_20200603-20:33:06.h5\n",
    "Model: \"sequential\"\n",
    "_________________________________________________________________\n",
    "Layer (type)                 Output Shape              Param #\n",
    "=================================================================\n",
    "embedding (Embedding)        (None, 400, 64)           6489728\n",
    "_________________________________________________________________\n",
    "dropout (Dropout)            (None, 400, 64)           0\n",
    "_________________________________________________________________\n",
    "bidirectional (Bidirectional (None, 400, 192)          123648\n",
    "_________________________________________________________________\n",
    "bidirectional_1 (Bidirection (None, 192)               221952\n",
    "_________________________________________________________________\n",
    "dropout_1 (Dropout)          (None, 192)               0\n",
    "_________________________________________________________________\n",
    "dense (Dense)                (None, 384)               74112\n",
    "_________________________________________________________________\n",
    "dense_1 (Dense)              (None, 3)                 1155\n",
    "=================================================================\n",
    "Total params: 6,910,595\n",
    "Trainable params: 6,910,595\n",
    "Non-trainable params: 0\n",
    "```\n",
    "```_________________________________________________________________\n",
    "Epoch 1/10\n",
    "109/109 [==============================] - 2188s 20s/step - loss: 0.7259 - accuracy: 0.6476 - val_loss: 0.3155 - val_accuracy: 0.8693\n",
    "Epoch 2/10\n",
    "109/109 [==============================] - 1792s 16s/step - loss: 0.5380 - accuracy: 0.7657 - val_loss: 0.4426 - val_accuracy: 0.8186\n",
    "Epoch 3/10\n",
    "109/109 [==============================] - 1252s 11s/step - loss: 0.5082 - accuracy: 0.7808 - val_loss: 0.4700 - val_accuracy: 0.8048\n",
    "Epoch 4/10\n",
    "109/109 [==============================] - 1253s 11s/step - loss: 0.4923 - accuracy: 0.7899 - val_loss: 0.3965 - val_accuracy: 0.8461\n",
    "Epoch 5/10\n",
    "109/109 [==============================] - 1251s 11s/step - loss: 0.4809 - accuracy: 0.7947 - val_loss: 0.4030 - val_accuracy: 0.8402\n",
    "Epoch 6/10\n",
    "109/109 [==============================] - 1251s 11s/step - loss: 0.4706 - accuracy: 0.7992 - val_loss: 0.4467 - val_accuracy: 0.8115\n",
    "Epoch 7/10\n",
    "109/109 [==============================] - 1255s 12s/step - loss: 0.4608 - accuracy: 0.8045 - val_loss: 0.4321 - val_accuracy: 0.8258\n",
    "Epoch 8/10\n",
    "109/109 [==============================] - 1254s 12s/step - loss: 0.4521 - accuracy: 0.8085 - val_loss: 0.3993 - val_accuracy: 0.8421\n",
    "Epoch 9/10\n",
    "109/109 [==============================] - 1252s 11s/step - loss: 0.4453 - accuracy: 0.8116 - val_loss: 0.3885 - val_accuracy: 0.8482\n",
    "Epoch 10/10\n",
    "109/109 [==============================] - 1251s 11s/step - loss: 0.4374 - accuracy: 0.8151 - val_loss: 0.3958 - val_accuracy: 0.8468\n",
    "\n",
    "Took 14100.57s to train\n",
    "3463/3463 [==============================] - 618s 178ms/step - loss: 0.4206 - accuracy: 0.8255\n",
    "Training Accuracy:  0.8255454897880554\n",
    "4135/4135 [==============================] - 775s 187ms/step - loss: 0.3958 - accuracy: 0.8468\n",
    "Test Accuracy:  0.8467527031898499\n",
    "```"
   ]
  },
  {
   "cell_type": "markdown",
   "metadata": {},
   "source": [
    "    * Future steps - Filter stopwords, stem/lemmatize!"
   ]
  },
  {
   "cell_type": "markdown",
   "metadata": {},
   "source": [
    "# Filtered stopwords, punctuation"
   ]
  },
  {
   "cell_type": "markdown",
   "metadata": {},
   "source": [
    "```\n",
    "Will save model to: saved_models/lstm_tokens5000_15epochs_20200604-01:15:42.h5\n",
    "\n",
    "\n",
    "\n",
    "Model: \"sequential\"\n",
    "_________________________________________________________________\n",
    "Layer (type)                 Output Shape              Param #\n",
    "=================================================================\n",
    "embedding (Embedding)        (None, 400, 64)           11723712\n",
    "_________________________________________________________________\n",
    "dropout (Dropout)            (None, 400, 64)           0\n",
    "_________________________________________________________________\n",
    "bidirectional (Bidirectional (None, 400, 192)          123648\n",
    "_________________________________________________________________\n",
    "bidirectional_1 (Bidirection (None, 192)               221952\n",
    "_________________________________________________________________\n",
    "dropout_1 (Dropout)          (None, 192)               0\n",
    "_________________________________________________________________\n",
    "dense (Dense)                (None, 384)               74112\n",
    "_________________________________________________________________\n",
    "dense_1 (Dense)              (None, 4)                 1540\n",
    "=================================================================\n",
    "Total params: 12,144,964\n",
    "Trainable params: 12,144,964\n",
    "Non-trainable params: 0\n",
    "_________________________________________________________________\n",
    "Epoch 1/15\n",
    "109/109 [==============================] - 1256s 12s/step - loss: 0.8117 - accuracy: 0.5944 - val_loss: 0.3260 - val_accuracy: 0.8708\n",
    "Epoch 2/15\n",
    "109/109 [==============================] - 1260s 12s/step - loss: 0.5677 - accuracy: 0.7496 - val_loss: 0.4532 - val_accuracy: 0.8121\n",
    "Epoch 3/15\n",
    "109/109 [==============================] - 1259s 12s/step - loss: 0.5267 - accuracy: 0.7723 - val_loss: 0.4615 - val_accuracy: 0.8253\n",
    "Epoch 4/15\n",
    "109/109 [==============================] - 1261s 12s/step - loss: 0.5062 - accuracy: 0.7834 - val_loss: 0.4083 - val_accuracy: 0.8211\n",
    "Epoch 5/15\n",
    "109/109 [==============================] - 1261s 12s/step - loss: 0.4958 - accuracy: 0.7893 - val_loss: 0.3933 - val_accuracy: 0.8405\n",
    "Epoch 6/15\n",
    "109/109 [==============================] - 1260s 12s/step - loss: 0.4838 - accuracy: 0.7938 - val_loss: 0.3510 - val_accuracy: 0.8596\n",
    "Epoch 7/15\n",
    "109/109 [==============================] - 1256s 12s/step - loss: 0.4715 - accuracy: 0.8010 - val_loss: 0.4201 - val_accuracy: 0.8359\n",
    "Epoch 8/15\n",
    "109/109 [==============================] - 1256s 12s/step - loss: 0.4637 - accuracy: 0.8041 - val_loss: 0.4225 - val_accuracy: 0.8284\n",
    "Epoch 9/15\n",
    "109/109 [==============================] - 1261s 12s/step - loss: 0.4577 - accuracy: 0.8073 - val_loss: 0.3611 - val_accuracy: 0.8566\n",
    "Epoch 10/15\n",
    "109/109 [==============================] - 1267s 12s/step - loss: 0.4477 - accuracy: 0.8114 - val_loss: 0.4180 - val_accuracy: 0.8329\n",
    "Epoch 11/15\n",
    "109/109 [==============================] - 1266s 12s/step - loss: 0.4397 - accuracy: 0.8157 - val_loss: 0.4120 - val_accuracy: 0.8358\n",
    "Epoch 12/15\n",
    "109/109 [==============================] - 1263s 12s/step - loss: 0.4350 - accuracy: 0.8162 - val_loss: 0.4117 - val_accuracy: 0.8349\n",
    "Epoch 13/15\n",
    "109/109 [==============================] - 1259s 12s/step - loss: 0.4265 - accuracy: 0.8216 - val_loss: 0.4176 - val_accuracy: 0.8328\n",
    "Epoch 14/15\n",
    "109/109 [==============================] - 1265s 12s/step - loss: 0.4225 - accuracy: 0.8225 - val_loss: 0.4480 - val_accuracy: 0.8161\n",
    "Epoch 15/15\n",
    "109/109 [==============================] - 1257s 12s/step - loss: 0.4118 - accuracy: 0.8292 - val_loss: 0.4059 - val_accuracy: 0.8382\n",
    "\n",
    "Took 19032.49s to train\n",
    "3463/3463 [==============================] - 638s 184ms/step - loss: 0.3843 - accuracy: 0.8424\n",
    "Training Accuracy:  0.8423574566841125\n",
    "4135/4135 [==============================] - 748s 181ms/step - loss: 0.4059 - accuracy: 0.8382\n",
    "Test Accuracy:  0.8382498621940613\n",
    "\n",
    "```"
   ]
  },
  {
   "cell_type": "code",
   "execution_count": 18,
   "metadata": {},
   "outputs": [
    {
     "name": "stdout",
     "output_type": "stream",
     "text": [
      "Processing files in data...\n",
      "\tNon-zip folders/files found in data: ['links_1', 'links_6', 'links_8', 'links_9', 'links_7', 'links_10', 'links_5', 'links_2', 'links_3', 'links_4']\n",
      "\n",
      "Splitting data into train/val/test...\n",
      "\tTrain: 779120, Val: 194780, Test: 243475\n",
      "\tMajority Class: positive, Middle Class: neutral, Minority Class: negative\n",
      "\t\tNumber positive in train: 661705\n",
      "\t\tNumber neutral in train: 68069\n",
      "\t\tNumber negative in train: 49346\n",
      "\tFinal undersampled train size: 148038\n"
     ]
    }
   ],
   "source": [
    "X_train, X_val, X_test, y_train, y_val, y_test, \\\n",
    "        indices_train, indices_val, indices_test, \\\n",
    "            train_df_us, df = prep.preprocess_split_undersample('data')"
   ]
  },
  {
   "cell_type": "code",
   "execution_count": 19,
   "metadata": {},
   "outputs": [],
   "source": [
    "target = 'sentiment'\n",
    "features = ['review_body']\n",
    "feature = 'review_body'"
   ]
  },
  {
   "cell_type": "code",
   "execution_count": 20,
   "metadata": {},
   "outputs": [],
   "source": [
    "y_train_us = train_df_us[target]"
   ]
  },
  {
   "cell_type": "code",
   "execution_count": 21,
   "metadata": {},
   "outputs": [
    {
     "data": {
      "text/plain": [
       "{'negative', 'neutral', 'positive'}"
      ]
     },
     "execution_count": 21,
     "metadata": {},
     "output_type": "execute_result"
    }
   ],
   "source": [
    "set(y_train_us)"
   ]
  },
  {
   "cell_type": "code",
   "execution_count": 22,
   "metadata": {
    "scrolled": true
   },
   "outputs": [
    {
     "data": {
      "text/plain": [
       "179"
      ]
     },
     "execution_count": 22,
     "metadata": {},
     "output_type": "execute_result"
    }
   ],
   "source": [
    "from nltk.corpus import stopwords\n",
    "STOPWORDS = set(stopwords.words('english')) # 179\n",
    "len(STOPWORDS)"
   ]
  },
  {
   "cell_type": "code",
   "execution_count": 23,
   "metadata": {},
   "outputs": [
    {
     "data": {
      "text/plain": [
       "['after',\n",
       " 'is',\n",
       " 'with',\n",
       " 'at',\n",
       " 'in',\n",
       " 'not',\n",
       " 'all',\n",
       " 'wasn',\n",
       " 'up',\n",
       " 'our',\n",
       " 'yours',\n",
       " 'than',\n",
       " 'shouldve',\n",
       " 'was',\n",
       " 'mustn',\n",
       " 've',\n",
       " 'himself',\n",
       " 'him',\n",
       " 'hadn',\n",
       " 'wont',\n",
       " 'more',\n",
       " 'where',\n",
       " 'which',\n",
       " 'thatll',\n",
       " 'weren',\n",
       " 'out',\n",
       " 'they',\n",
       " 'this',\n",
       " 'didnt',\n",
       " 'couldn',\n",
       " 'against',\n",
       " 'only',\n",
       " 'or',\n",
       " 'its',\n",
       " 'hasnt',\n",
       " 'yourself',\n",
       " 'theirs',\n",
       " 'down',\n",
       " 'further',\n",
       " 'itself',\n",
       " 'youve',\n",
       " 'when',\n",
       " 'ma',\n",
       " 'too',\n",
       " 'shouldn',\n",
       " 'and',\n",
       " 'can',\n",
       " 'will',\n",
       " 'we',\n",
       " 'neednt',\n",
       " 'youd',\n",
       " 'does',\n",
       " 'if',\n",
       " 're',\n",
       " 'mightnt',\n",
       " 'the',\n",
       " 'shan',\n",
       " 'a',\n",
       " 'youre',\n",
       " 'what',\n",
       " 'me',\n",
       " 'some',\n",
       " 'myself',\n",
       " 'she',\n",
       " 'll',\n",
       " 'your',\n",
       " 'that',\n",
       " 'for',\n",
       " 'own',\n",
       " 'd',\n",
       " 'did',\n",
       " 'arent',\n",
       " 'now',\n",
       " 'mustnt',\n",
       " 'haven',\n",
       " 'hasn',\n",
       " 'under',\n",
       " 'off',\n",
       " 'be',\n",
       " 'as',\n",
       " 'yourselves',\n",
       " 'm',\n",
       " 'both',\n",
       " 'its',\n",
       " 'havent',\n",
       " 'i',\n",
       " 'these',\n",
       " 'am',\n",
       " 'hadnt',\n",
       " 'shant',\n",
       " 'you',\n",
       " 'being',\n",
       " 'themselves',\n",
       " 'about',\n",
       " 'why',\n",
       " 'shes',\n",
       " 'been',\n",
       " 'ourselves',\n",
       " 'their',\n",
       " 'because',\n",
       " 'over',\n",
       " 'wasnt',\n",
       " 'above',\n",
       " 'other',\n",
       " 'them',\n",
       " 'ain',\n",
       " 'between',\n",
       " 'werent',\n",
       " 'on',\n",
       " 'he',\n",
       " 'of',\n",
       " 'through',\n",
       " 's',\n",
       " 'doesn',\n",
       " 'it',\n",
       " 'couldnt',\n",
       " 'isnt',\n",
       " 'do',\n",
       " 'didn',\n",
       " 'then',\n",
       " 'most',\n",
       " 'no',\n",
       " 'my',\n",
       " 'hers',\n",
       " 'just',\n",
       " 'here',\n",
       " 'few',\n",
       " 'herself',\n",
       " 'to',\n",
       " 'nor',\n",
       " 'wouldn',\n",
       " 'were',\n",
       " 'any',\n",
       " 'won',\n",
       " 'dont',\n",
       " 'ours',\n",
       " 'o',\n",
       " 'doing',\n",
       " 'so',\n",
       " 'don',\n",
       " 'mightn',\n",
       " 't',\n",
       " 'into',\n",
       " 'while',\n",
       " 'during',\n",
       " 'isn',\n",
       " 'having',\n",
       " 'before',\n",
       " 'how',\n",
       " 'by',\n",
       " 'from',\n",
       " 'each',\n",
       " 'such',\n",
       " 'has',\n",
       " 'youll',\n",
       " 'his',\n",
       " 'once',\n",
       " 'doesnt',\n",
       " 'wouldnt',\n",
       " 'whom',\n",
       " 'but',\n",
       " 'there',\n",
       " 'those',\n",
       " 'needn',\n",
       " 'have',\n",
       " 'shouldnt',\n",
       " 'y',\n",
       " 'her',\n",
       " 'should',\n",
       " 'again',\n",
       " 'until',\n",
       " 'below',\n",
       " 'same',\n",
       " 'an',\n",
       " 'are',\n",
       " 'had',\n",
       " 'who',\n",
       " 'very',\n",
       " 'aren']"
      ]
     },
     "execution_count": 23,
     "metadata": {},
     "output_type": "execute_result"
    }
   ],
   "source": [
    "import re\n",
    "stop = [re.sub('[^\\w\\s]', '', stopword) for stopword in STOPWORDS]\n",
    "stop"
   ]
  },
  {
   "cell_type": "code",
   "execution_count": 24,
   "metadata": {
    "scrolled": true
   },
   "outputs": [
    {
     "data": {
      "text/plain": [
       "'after | is | with | at | in | not | all | wasn | up | our | yours | than | shouldve | was | mustn | ve | himself | him | hadn | wont | more | where | which | thatll | weren | out | they | this | didnt | couldn | against | only | or | its | hasnt | yourself | theirs | down | further | itself | youve | when | ma | too | shouldn | and | can | will | we | neednt | youd | does | if | re | mightnt | the | shan | a | youre | what | me | some | myself | she | ll | your | that | for | own | d | did | arent | now | mustnt | haven | hasn | under | off | be | as | yourselves | m | both | its | havent | i | these | am | hadnt | shant | you | being | themselves | about | why | shes | been | ourselves | their | because | over | wasnt | above | other | them | ain | between | werent | on | he | of | through | s | doesn | it | couldnt | isnt | do | didn | then | most | no | my | hers | just | here | few | herself | to | nor | wouldn | were | any | won | dont | ours | o | doing | so | don | mightn | t | into | while | during | isn | having | before | how | by | from | each | such | has | youll | his | once | doesnt | wouldnt | whom | but | there | those | needn | have | shouldnt | y | her | should | again | until | below | same | an | are | had | who | very | aren'"
      ]
     },
     "execution_count": 24,
     "metadata": {},
     "output_type": "execute_result"
    }
   ],
   "source": [
    "stop_pat = ' | '.join(stop)\n",
    "stop_pat"
   ]
  },
  {
   "cell_type": "code",
   "execution_count": 25,
   "metadata": {},
   "outputs": [],
   "source": [
    "X_train_us_vals = train_df_us[feature].str.lower()\n",
    "X_val_vals = df.loc[indices_val, feature].str.lower()"
   ]
  },
  {
   "cell_type": "code",
   "execution_count": 26,
   "metadata": {},
   "outputs": [
    {
     "data": {
      "text/plain": [
       "'For those on a budget, you will find the melia to be an affordable option as you can get the all inclusive option with many activities included.The big plus at this hotel is the pools and beach area and you can walk to many restos on the beachfront.'"
      ]
     },
     "execution_count": 26,
     "metadata": {},
     "output_type": "execute_result"
    }
   ],
   "source": [
    "train_df_us[feature][736565]"
   ]
  },
  {
   "cell_type": "code",
   "execution_count": 27,
   "metadata": {},
   "outputs": [
    {
     "name": "stdout",
     "output_type": "stream",
     "text": [
      "\n",
      "Removing punctuation and stop words from X_train/val data...\n"
     ]
    }
   ],
   "source": [
    "# Removing punctuation and stop words from X data\n",
    "print('\\nRemoving punctuation and stop words from X_train/val data...')\n",
    "X_train_us_vals = X_train_us_vals.str.replace('[^\\w\\s]', '')\n",
    "X_val_vals = X_val_vals.str.replace('[^\\w\\s]', '')\n",
    "\n",
    "X_train_us_vals = X_train_us_vals.str.replace(stop_pat, ' ')\n",
    "X_val_vals = X_val_vals.str.replace(stop_pat, ' ')"
   ]
  },
  {
   "cell_type": "code",
   "execution_count": 28,
   "metadata": {},
   "outputs": [
    {
     "data": {
      "text/plain": [
       "'for on budget will find melia be affordable option you get all inclusive option many activities includedthe big plus this hotel the pools beach area you walk many restos the beachfront'"
      ]
     },
     "execution_count": 28,
     "metadata": {},
     "output_type": "execute_result"
    }
   ],
   "source": [
    "X_train_us_vals[736565]"
   ]
  },
  {
   "cell_type": "code",
   "execution_count": 29,
   "metadata": {},
   "outputs": [
    {
     "data": {
      "text/plain": [
       "979894    booked superior twin 3 nights just 300 poundsn...\n",
       "234010    not good i never recommend ala moana hotel wil...\n",
       "227709    i recently stayed the roosevelt hotel a friend...\n",
       "679720    the hotel rooms very well designed aesthetical...\n",
       "211157    designed not workingbasically freezersize hote...\n",
       "                                ...                        \n",
       "691155    i absolutely love hotel has very masculine cla...\n",
       "898055    this a difficult review because excellence fan...\n",
       "563991    jbr many hotels what wantmatters hotel great a...\n",
       "792245    stayed with fiancé 9 nights had amazing time s...\n",
       "797272    my wife i stayed for 12 nights dec 2011 are hi...\n",
       "Name: review_body, Length: 148038, dtype: object"
      ]
     },
     "execution_count": 29,
     "metadata": {},
     "output_type": "execute_result"
    }
   ],
   "source": [
    "X_train_us_vals"
   ]
  },
  {
   "cell_type": "code",
   "execution_count": 30,
   "metadata": {},
   "outputs": [
    {
     "name": "stdout",
     "output_type": "stream",
     "text": [
      "\n",
      "Removing punctuation and stop words from X_train/val data...\n",
      "\n",
      "Tokenizing X_train/val data...\n"
     ]
    }
   ],
   "source": [
    "# Removing punctuation and stop words from X data\n",
    "X_train_us_vals = train_df_us[feature].str.lower()\n",
    "X_val_vals = df.loc[indices_val, feature].str.lower()\n",
    "\n",
    "stop = [re.sub('[^\\w\\s]', '', stopword) for stopword in STOPWORDS]\n",
    "stop_pat = ' | '.join(stop)\n",
    "\n",
    "print('\\nRemoving punctuation and stop words from X_train/val data...')\n",
    "X_train_us_vals = X_train_us_vals.str.replace('[^\\w\\s]', '')\n",
    "X_val_vals = X_val_vals.str.replace('[^\\w\\s]', '')\n",
    "\n",
    "X_train_us_vals = X_train_us_vals.str.replace(stop_pat, ' ')\n",
    "X_val_vals = X_val_vals.str.replace(stop_pat, ' ')\n",
    "\n",
    "# Tokenize X data\n",
    "print('\\nTokenizing X_train/val data...')\n",
    "X_train_us_vals = X_train_us_vals.values\n",
    "X_val_vals = X_val_vals.values"
   ]
  },
  {
   "cell_type": "code",
   "execution_count": 31,
   "metadata": {},
   "outputs": [
    {
     "data": {
      "text/plain": [
       "array(['booked superior twin 3 nights just 300 poundsnight was horrible tiny the small window overlooking small backyard a wall dont understand in room two persons is one chair went the reception talked a lovely lady whose name think chantal offered upgrade  a fee  a deluxe room i accepted even though thought was rip for room had scaffolding covering windows bigger letting us see little bit the road some sky the scaffolding was better the first room it have two chairs the window still small had wooden shutters covered half them bathroom very small a freestanding sink a narrow shower minibar free charge we to consume lot wine soft drinks chips plus put in suitcase order compensate the high pricehad wait ever the liftsbreakfast good a good variety the breakfast room seemed be understaffed one morning had wait a long line the staff removing dirty dishes unoccupied tables coffee brought your table a pot i usually think nice two the three mornings had go look a person could bring my coffee location the hotel obviously good it make for bad rooms',\n",
       "       'not good i never recommend ala moana hotel will also let kaiser travel know to ever put handicapped person your hotel found later there an elevator the lobby the bottom the garage one your personnel advised of that',\n",
       "       'i recently stayed the roosevelt hotel a friends wedding was second time stayed the hotel chose stay again of central location midtown attractions the wedding activities is decent hotel especially the price point location stay very comfortable biggest issue with staff front desk receptionists hit miss had 3 pm check but get key my room close 4 first two receptionists said wait finally third receptionists able help was blond lady russia called housekeeping push to free the rooms was only employee seemed care her job bellmen just hustlers begging tips everyone dropping bags tips meant be obliged at discretion intimidation putting pressure guests not allowed worse employees the doormen checked on sunday 415 around 230 waited outside the entrance waiting our uber were clear signs you cant smoke the covered area is law the doorman could careless this rule was women smoking right the entrance when suggested she stop doorman ignored request continued hit this women was smoking she continued chain smoke elderly mom i to stand the cold rain i an allergy cigarette smoke was highly unprofessional shocked hotel allows behavior im negative reviews some places need train employees be customer service oriented some people deserve jobs as doorman ',\n",
       "       ...,\n",
       "       'jbr many hotels what wantmatters hotel great access beach beautiful swim pool bar they serves great breakfastanother benefit staying hilton jumeirah you many options eat in same locationsmeans are not restricted eat hotel everyday ',\n",
       "       'stayed with fiancé 9 nights had amazing time staff wonderful friendly always helpful especially room attendants restaurant staff security guardshotel in great location close markets local cafes restaurants nightclubs not far away massages the hotel send to another world complaints the food loved chicken betutu partner i loved place found clean safe central everything cant wait the next holiday ',\n",
       "       'my wife i stayed for 12 nights dec 2011 are hilton gold members relevance let start the real area improvement staff despite friendly every turn not always speedy per worldwide international standards said staff be helpful friendly rooms noted elsewhere suites excellent offer nongold members access vip tea times 35pm cocktail hours 57pm you get snacks at least couple drinks any kind suites also give free dry cleaning although is competent dry cleaner off northwest corner the hotel i dry cleaned 10 days worth stuff 12 us dollars had room 1208 i think the best room at least the money  has private patio  deck two chairs a table well two fullsized loungers a table you dip toes the pool although people stroll all day private enough much better fighting a spot the main pool room is bigger standard we plenty room exercise the room etc restaurants 8 degrees the best have taste size portions fish lamb salads bring bug spray room service fast efficient  had at least six times rin the efficient best breakfast spice where vips kids go service kind slow speaking kids like the hotel keeps kids kind apart  are shallow areas the pools sand areas etc gym a bit empty dark serviceable wifi worked had bring ap the room increase coverage overall was easy way relax get starbucks nearby it would perfect  recommend rumah nearby a 40 oil massage easy walk'],\n",
       "      dtype=object)"
      ]
     },
     "execution_count": 31,
     "metadata": {},
     "output_type": "execute_result"
    }
   ],
   "source": [
    "X_train_us_vals"
   ]
  },
  {
   "cell_type": "code",
   "execution_count": 32,
   "metadata": {},
   "outputs": [
    {
     "data": {
      "text/plain": [
       "array(['we booked hotel an agent had previously fixed us with good deals were disappointed this hotel was staying my husband a trip wimbledon have stayed near hyde park for same event its convenient both tennis central london although hotel wad clean staff helpful would stay because rooms ridiculously small  tiniest have ever stayed there no space move our bedroom bathroom  neither us big people furniture the room also small necessity meant storage a problem breakfast room also small doubled as small rather impersonal lounge breakfast ok there not enough fruit me overall thought was style substance size',\n",
       "       'we stayed this hotel 3 nights visiting havana many friends told not expect much cuban hotels i to say this hotel certainly delivered rooms a good size the bathrooms great are great little touches as scented bath salts aftershave etc also maid manages amazing shapes of towels loved elephant breakfast also quite good although service breakfast slow the least friendly bar the side great stuff they very friendly also mario pianist amazing played songs upon request he knows stories behind pieces are incredibly interesting think only comments that room on second floor facing courtyard  was possible open window was bit a shame  nice listen the piano also of location overlooking bar has quite noisy am sure whether was furniture the bar other rooms moved it sounded like was right next me however overall great hotel i sure get even better time you a guest forget visit roof top pool',\n",
       "       'location excellent service nice receptionist bell boy room technology amazing swimming pool the best ever family used have issue with balcony clean higher price',\n",
       "       ...,\n",
       "       'we loved every bit this hotel the moment booked reservation checkout felt much taken care  we made reservation hotel staff already reached to us what may arrange us we arrived told we foodies when arrived manager provided us a book how eat like londoner really showed much care their guests room were given great comfortable modern hotel is nicely remodeled in excellent condition best all its location is practically next the liverpool station close many restaurants shops it made first time travel around london convenient recommend hotel highly',\n",
       "       'excellent every way room service breakfast the views absolutely gorgeous staff extremely accommodating made us feel like were important them eating breakfast looking the water made wonderful romantic setting our anniversary have better ',\n",
       "       'this a quirky good hotel a comfortable feel the public areas  feel have dropped a friends place a drink the casual relaxed feel the bar common areasthe room stayed was clean had basic needs small was comfortable ideal my short term business needsthe front staff all helpful varied their competence meet needs one helped print boarding card another his hands the air the prospect contacting jfk lost foundi find in end by but is evidence any intelligent life form therethere a small gym always must any hotel i stayone problem it mine the hotels of meetings about 30 blocks away the side the park'],\n",
       "      dtype=object)"
      ]
     },
     "execution_count": 32,
     "metadata": {},
     "output_type": "execute_result"
    }
   ],
   "source": [
    "X_val_vals"
   ]
  },
  {
   "cell_type": "markdown",
   "metadata": {},
   "source": [
    "# Recommender System"
   ]
  },
  {
   "cell_type": "markdown",
   "metadata": {},
   "source": [
    "## Check Data Sparsity"
   ]
  },
  {
   "cell_type": "code",
   "execution_count": 33,
   "metadata": {
    "scrolled": false
   },
   "outputs": [
    {
     "data": {
      "text/html": [
       "<div>\n",
       "<style scoped>\n",
       "    .dataframe tbody tr th:only-of-type {\n",
       "        vertical-align: middle;\n",
       "    }\n",
       "\n",
       "    .dataframe tbody tr th {\n",
       "        vertical-align: top;\n",
       "    }\n",
       "\n",
       "    .dataframe thead th {\n",
       "        text-align: right;\n",
       "    }\n",
       "</style>\n",
       "<table border=\"1\" class=\"dataframe\">\n",
       "  <thead>\n",
       "    <tr style=\"text-align: right;\">\n",
       "      <th></th>\n",
       "      <th>review_id</th>\n",
       "      <th>url</th>\n",
       "      <th>hotel_name</th>\n",
       "      <th>review_date</th>\n",
       "      <th>review_body</th>\n",
       "      <th>user_location</th>\n",
       "      <th>user_name</th>\n",
       "      <th>helpful_vote</th>\n",
       "      <th>rating</th>\n",
       "      <th>csv</th>\n",
       "      <th>folder</th>\n",
       "      <th>city</th>\n",
       "      <th>user_name_clean</th>\n",
       "      <th>polarity</th>\n",
       "      <th>sentiment_int</th>\n",
       "      <th>sentiment</th>\n",
       "    </tr>\n",
       "  </thead>\n",
       "  <tbody>\n",
       "    <tr>\n",
       "      <th>979894</th>\n",
       "      <td>736523580</td>\n",
       "      <td>https://www.tripadvisor.com/Hotel_Review-g1863...</td>\n",
       "      <td>Strand Palace</td>\n",
       "      <td>January 3, 2020</td>\n",
       "      <td>Booked a Superior twin for 3 nights for just o...</td>\n",
       "      <td>Europe</td>\n",
       "      <td>Argella_13&lt;/div&gt;&lt;div class=\"userLoc\"&gt;&lt;strong&gt;E...</td>\n",
       "      <td>30</td>\n",
       "      <td>2.0</td>\n",
       "      <td>Strand_Palace-London_England__en.csv</td>\n",
       "      <td>links_5</td>\n",
       "      <td>London_England</td>\n",
       "      <td>Argella_13</td>\n",
       "      <td>0.0</td>\n",
       "      <td>0</td>\n",
       "      <td>negative</td>\n",
       "    </tr>\n",
       "    <tr>\n",
       "      <th>234010</th>\n",
       "      <td>529284069</td>\n",
       "      <td>https://www.tripadvisor.com/Hotel_Review-g6098...</td>\n",
       "      <td>Ala Moana Honolulu by Mantra</td>\n",
       "      <td>October 2, 2017</td>\n",
       "      <td>Not Good and I will never recommend the Ala Mo...</td>\n",
       "      <td>Keauhou, Hawaii</td>\n",
       "      <td>I616KLrogerm&lt;/div&gt;&lt;div class=\"userLoc\"&gt;&lt;strong...</td>\n",
       "      <td>2</td>\n",
       "      <td>1.0</td>\n",
       "      <td>Ala_Moana_Honolulu_by_Mantra-Honolulu_Oahu_Haw...</td>\n",
       "      <td>links_1</td>\n",
       "      <td>Honolulu_Oahu_Hawaii</td>\n",
       "      <td>I616KLrogerm</td>\n",
       "      <td>0.0</td>\n",
       "      <td>0</td>\n",
       "      <td>negative</td>\n",
       "    </tr>\n",
       "    <tr>\n",
       "      <th>227709</th>\n",
       "      <td>575488218</td>\n",
       "      <td>https://www.tripadvisor.com/Hotel_Review-g6076...</td>\n",
       "      <td>The Roosevelt Hotel</td>\n",
       "      <td>April 24, 2018</td>\n",
       "      <td>I recently stayed at the Roosevelt hotel for a...</td>\n",
       "      <td>San Francisco, California</td>\n",
       "      <td>jnow21&lt;/div&gt;&lt;div class=\"userLoc\"&gt;&lt;strong&gt;San F...</td>\n",
       "      <td>20</td>\n",
       "      <td>2.0</td>\n",
       "      <td>The_Roosevelt_Hotel-New_York_City_New_York__en...</td>\n",
       "      <td>links_1</td>\n",
       "      <td>New_York_City_New_York</td>\n",
       "      <td>jnow21</td>\n",
       "      <td>0.0</td>\n",
       "      <td>0</td>\n",
       "      <td>negative</td>\n",
       "    </tr>\n",
       "    <tr>\n",
       "      <th>679720</th>\n",
       "      <td>498994180</td>\n",
       "      <td>https://www.tripadvisor.com/Hotel_Review-g1874...</td>\n",
       "      <td>Alma Barcelona</td>\n",
       "      <td>July 5, 2017</td>\n",
       "      <td>The hotel and rooms are very well designed aes...</td>\n",
       "      <td>n/a</td>\n",
       "      <td>John U</td>\n",
       "      <td>2</td>\n",
       "      <td>1.0</td>\n",
       "      <td>Alma_Barcelona-Barcelona_Catalonia__en.csv</td>\n",
       "      <td>links_9</td>\n",
       "      <td>Barcelona_Catalonia</td>\n",
       "      <td>John U</td>\n",
       "      <td>0.0</td>\n",
       "      <td>0</td>\n",
       "      <td>negative</td>\n",
       "    </tr>\n",
       "    <tr>\n",
       "      <th>211157</th>\n",
       "      <td>398932369</td>\n",
       "      <td>https://www.tripadvisor.com/Hotel_Review-g6076...</td>\n",
       "      <td>Hudson New York</td>\n",
       "      <td>July 29, 2016</td>\n",
       "      <td>Designed, but not workingbasically a freezer-s...</td>\n",
       "      <td>n/a</td>\n",
       "      <td>Staffan S</td>\n",
       "      <td>3</td>\n",
       "      <td>1.0</td>\n",
       "      <td>Hudson_New_York-New_York_City_New_York__en.csv</td>\n",
       "      <td>links_1</td>\n",
       "      <td>New_York_City_New_York</td>\n",
       "      <td>Staffan S</td>\n",
       "      <td>0.0</td>\n",
       "      <td>0</td>\n",
       "      <td>negative</td>\n",
       "    </tr>\n",
       "  </tbody>\n",
       "</table>\n",
       "</div>"
      ],
      "text/plain": [
       "        review_id                                                url  \\\n",
       "979894  736523580  https://www.tripadvisor.com/Hotel_Review-g1863...   \n",
       "234010  529284069  https://www.tripadvisor.com/Hotel_Review-g6098...   \n",
       "227709  575488218  https://www.tripadvisor.com/Hotel_Review-g6076...   \n",
       "679720  498994180  https://www.tripadvisor.com/Hotel_Review-g1874...   \n",
       "211157  398932369  https://www.tripadvisor.com/Hotel_Review-g6076...   \n",
       "\n",
       "                          hotel_name      review_date  \\\n",
       "979894                 Strand Palace  January 3, 2020   \n",
       "234010  Ala Moana Honolulu by Mantra  October 2, 2017   \n",
       "227709           The Roosevelt Hotel   April 24, 2018   \n",
       "679720                Alma Barcelona     July 5, 2017   \n",
       "211157               Hudson New York    July 29, 2016   \n",
       "\n",
       "                                              review_body  \\\n",
       "979894  Booked a Superior twin for 3 nights for just o...   \n",
       "234010  Not Good and I will never recommend the Ala Mo...   \n",
       "227709  I recently stayed at the Roosevelt hotel for a...   \n",
       "679720  The hotel and rooms are very well designed aes...   \n",
       "211157  Designed, but not workingbasically a freezer-s...   \n",
       "\n",
       "                    user_location  \\\n",
       "979894                     Europe   \n",
       "234010            Keauhou, Hawaii   \n",
       "227709  San Francisco, California   \n",
       "679720                        n/a   \n",
       "211157                        n/a   \n",
       "\n",
       "                                                user_name  helpful_vote  \\\n",
       "979894  Argella_13</div><div class=\"userLoc\"><strong>E...            30   \n",
       "234010  I616KLrogerm</div><div class=\"userLoc\"><strong...             2   \n",
       "227709  jnow21</div><div class=\"userLoc\"><strong>San F...            20   \n",
       "679720                                             John U             2   \n",
       "211157                                          Staffan S             3   \n",
       "\n",
       "        rating                                                csv   folder  \\\n",
       "979894     2.0               Strand_Palace-London_England__en.csv  links_5   \n",
       "234010     1.0  Ala_Moana_Honolulu_by_Mantra-Honolulu_Oahu_Haw...  links_1   \n",
       "227709     2.0  The_Roosevelt_Hotel-New_York_City_New_York__en...  links_1   \n",
       "679720     1.0         Alma_Barcelona-Barcelona_Catalonia__en.csv  links_9   \n",
       "211157     1.0     Hudson_New_York-New_York_City_New_York__en.csv  links_1   \n",
       "\n",
       "                          city user_name_clean  polarity  sentiment_int  \\\n",
       "979894          London_England      Argella_13       0.0              0   \n",
       "234010    Honolulu_Oahu_Hawaii    I616KLrogerm       0.0              0   \n",
       "227709  New_York_City_New_York          jnow21       0.0              0   \n",
       "679720     Barcelona_Catalonia          John U       0.0              0   \n",
       "211157  New_York_City_New_York       Staffan S       0.0              0   \n",
       "\n",
       "       sentiment  \n",
       "979894  negative  \n",
       "234010  negative  \n",
       "227709  negative  \n",
       "679720  negative  \n",
       "211157  negative  "
      ]
     },
     "execution_count": 33,
     "metadata": {},
     "output_type": "execute_result"
    }
   ],
   "source": [
    "train_df_us.head()"
   ]
  },
  {
   "cell_type": "code",
   "execution_count": 34,
   "metadata": {},
   "outputs": [],
   "source": [
    "utility_matrix = train_df_us.pivot_table(values='rating',index='user_name_clean',columns='hotel_name')"
   ]
  },
  {
   "cell_type": "code",
   "execution_count": 35,
   "metadata": {},
   "outputs": [
    {
     "data": {
      "text/html": [
       "<div>\n",
       "<style scoped>\n",
       "    .dataframe tbody tr th:only-of-type {\n",
       "        vertical-align: middle;\n",
       "    }\n",
       "\n",
       "    .dataframe tbody tr th {\n",
       "        vertical-align: top;\n",
       "    }\n",
       "\n",
       "    .dataframe thead th {\n",
       "        text-align: right;\n",
       "    }\n",
       "</style>\n",
       "<table border=\"1\" class=\"dataframe\">\n",
       "  <thead>\n",
       "    <tr style=\"text-align: right;\">\n",
       "      <th>hotel_name</th>\n",
       "      <th>'Alohilani Resort Waikiki Beach</th>\n",
       "      <th>414 Hotel</th>\n",
       "      <th>6 Columbus - Central Park Hotel</th>\n",
       "      <th>A.Roma Lifestyle Hotel</th>\n",
       "      <th>AC Hotel Barcelona Forum by Marriott</th>\n",
       "      <th>ANA InterContinental Tokyo</th>\n",
       "      <th>APA Hotel &amp; Resort Nishishinjuku Gochome-eki Tower</th>\n",
       "      <th>APA Hotel Shinjuku Gyoemmae</th>\n",
       "      <th>APA Hotel Shinjuku Kabukicho Tower</th>\n",
       "      <th>ARTOTEL Sanur</th>\n",
       "      <th>...</th>\n",
       "      <th>White Sands Hotel</th>\n",
       "      <th>Wyndham Garden Chinatown</th>\n",
       "      <th>YOTEL New York</th>\n",
       "      <th>Yellow Square</th>\n",
       "      <th>Yes Hotel</th>\n",
       "      <th>Zoetry Agua Punta Cana</th>\n",
       "      <th>dusitD2 Ao Nang Krabi</th>\n",
       "      <th>iQ Hotel Roma</th>\n",
       "      <th>ibis Styles Bangkok Khaosan Viengtai</th>\n",
       "      <th>nine hours Shinjuku-North</th>\n",
       "    </tr>\n",
       "    <tr>\n",
       "      <th>user_name_clean</th>\n",
       "      <th></th>\n",
       "      <th></th>\n",
       "      <th></th>\n",
       "      <th></th>\n",
       "      <th></th>\n",
       "      <th></th>\n",
       "      <th></th>\n",
       "      <th></th>\n",
       "      <th></th>\n",
       "      <th></th>\n",
       "      <th></th>\n",
       "      <th></th>\n",
       "      <th></th>\n",
       "      <th></th>\n",
       "      <th></th>\n",
       "      <th></th>\n",
       "      <th></th>\n",
       "      <th></th>\n",
       "      <th></th>\n",
       "      <th></th>\n",
       "      <th></th>\n",
       "    </tr>\n",
       "  </thead>\n",
       "  <tbody>\n",
       "    <tr>\n",
       "      <th>-80-J-</th>\n",
       "      <td>NaN</td>\n",
       "      <td>NaN</td>\n",
       "      <td>NaN</td>\n",
       "      <td>NaN</td>\n",
       "      <td>NaN</td>\n",
       "      <td>NaN</td>\n",
       "      <td>NaN</td>\n",
       "      <td>NaN</td>\n",
       "      <td>NaN</td>\n",
       "      <td>NaN</td>\n",
       "      <td>...</td>\n",
       "      <td>NaN</td>\n",
       "      <td>NaN</td>\n",
       "      <td>NaN</td>\n",
       "      <td>NaN</td>\n",
       "      <td>NaN</td>\n",
       "      <td>NaN</td>\n",
       "      <td>NaN</td>\n",
       "      <td>NaN</td>\n",
       "      <td>NaN</td>\n",
       "      <td>NaN</td>\n",
       "    </tr>\n",
       "    <tr>\n",
       "      <th>-Alex--Goat--001</th>\n",
       "      <td>NaN</td>\n",
       "      <td>NaN</td>\n",
       "      <td>NaN</td>\n",
       "      <td>NaN</td>\n",
       "      <td>NaN</td>\n",
       "      <td>NaN</td>\n",
       "      <td>NaN</td>\n",
       "      <td>NaN</td>\n",
       "      <td>NaN</td>\n",
       "      <td>NaN</td>\n",
       "      <td>...</td>\n",
       "      <td>NaN</td>\n",
       "      <td>NaN</td>\n",
       "      <td>NaN</td>\n",
       "      <td>NaN</td>\n",
       "      <td>NaN</td>\n",
       "      <td>NaN</td>\n",
       "      <td>NaN</td>\n",
       "      <td>NaN</td>\n",
       "      <td>NaN</td>\n",
       "      <td>NaN</td>\n",
       "    </tr>\n",
       "    <tr>\n",
       "      <th>-Bex-689</th>\n",
       "      <td>NaN</td>\n",
       "      <td>NaN</td>\n",
       "      <td>NaN</td>\n",
       "      <td>NaN</td>\n",
       "      <td>NaN</td>\n",
       "      <td>NaN</td>\n",
       "      <td>NaN</td>\n",
       "      <td>NaN</td>\n",
       "      <td>NaN</td>\n",
       "      <td>NaN</td>\n",
       "      <td>...</td>\n",
       "      <td>NaN</td>\n",
       "      <td>NaN</td>\n",
       "      <td>NaN</td>\n",
       "      <td>NaN</td>\n",
       "      <td>NaN</td>\n",
       "      <td>NaN</td>\n",
       "      <td>NaN</td>\n",
       "      <td>NaN</td>\n",
       "      <td>NaN</td>\n",
       "      <td>NaN</td>\n",
       "    </tr>\n",
       "    <tr>\n",
       "      <th>-ElenaG1898-0000</th>\n",
       "      <td>NaN</td>\n",
       "      <td>NaN</td>\n",
       "      <td>NaN</td>\n",
       "      <td>NaN</td>\n",
       "      <td>NaN</td>\n",
       "      <td>NaN</td>\n",
       "      <td>NaN</td>\n",
       "      <td>NaN</td>\n",
       "      <td>NaN</td>\n",
       "      <td>NaN</td>\n",
       "      <td>...</td>\n",
       "      <td>NaN</td>\n",
       "      <td>NaN</td>\n",
       "      <td>NaN</td>\n",
       "      <td>NaN</td>\n",
       "      <td>NaN</td>\n",
       "      <td>NaN</td>\n",
       "      <td>NaN</td>\n",
       "      <td>NaN</td>\n",
       "      <td>NaN</td>\n",
       "      <td>NaN</td>\n",
       "    </tr>\n",
       "    <tr>\n",
       "      <th>-OuidaWarren-</th>\n",
       "      <td>NaN</td>\n",
       "      <td>NaN</td>\n",
       "      <td>NaN</td>\n",
       "      <td>NaN</td>\n",
       "      <td>NaN</td>\n",
       "      <td>NaN</td>\n",
       "      <td>NaN</td>\n",
       "      <td>NaN</td>\n",
       "      <td>NaN</td>\n",
       "      <td>NaN</td>\n",
       "      <td>...</td>\n",
       "      <td>NaN</td>\n",
       "      <td>NaN</td>\n",
       "      <td>NaN</td>\n",
       "      <td>NaN</td>\n",
       "      <td>NaN</td>\n",
       "      <td>NaN</td>\n",
       "      <td>NaN</td>\n",
       "      <td>NaN</td>\n",
       "      <td>NaN</td>\n",
       "      <td>NaN</td>\n",
       "    </tr>\n",
       "    <tr>\n",
       "      <th>...</th>\n",
       "      <td>...</td>\n",
       "      <td>...</td>\n",
       "      <td>...</td>\n",
       "      <td>...</td>\n",
       "      <td>...</td>\n",
       "      <td>...</td>\n",
       "      <td>...</td>\n",
       "      <td>...</td>\n",
       "      <td>...</td>\n",
       "      <td>...</td>\n",
       "      <td>...</td>\n",
       "      <td>...</td>\n",
       "      <td>...</td>\n",
       "      <td>...</td>\n",
       "      <td>...</td>\n",
       "      <td>...</td>\n",
       "      <td>...</td>\n",
       "      <td>...</td>\n",
       "      <td>...</td>\n",
       "      <td>...</td>\n",
       "      <td>...</td>\n",
       "    </tr>\n",
       "    <tr>\n",
       "      <th>지호 우</th>\n",
       "      <td>NaN</td>\n",
       "      <td>NaN</td>\n",
       "      <td>NaN</td>\n",
       "      <td>NaN</td>\n",
       "      <td>NaN</td>\n",
       "      <td>NaN</td>\n",
       "      <td>NaN</td>\n",
       "      <td>NaN</td>\n",
       "      <td>NaN</td>\n",
       "      <td>NaN</td>\n",
       "      <td>...</td>\n",
       "      <td>NaN</td>\n",
       "      <td>NaN</td>\n",
       "      <td>NaN</td>\n",
       "      <td>NaN</td>\n",
       "      <td>NaN</td>\n",
       "      <td>NaN</td>\n",
       "      <td>NaN</td>\n",
       "      <td>NaN</td>\n",
       "      <td>NaN</td>\n",
       "      <td>NaN</td>\n",
       "    </tr>\n",
       "    <tr>\n",
       "      <th>지훈 배</th>\n",
       "      <td>NaN</td>\n",
       "      <td>NaN</td>\n",
       "      <td>NaN</td>\n",
       "      <td>NaN</td>\n",
       "      <td>NaN</td>\n",
       "      <td>NaN</td>\n",
       "      <td>NaN</td>\n",
       "      <td>NaN</td>\n",
       "      <td>NaN</td>\n",
       "      <td>NaN</td>\n",
       "      <td>...</td>\n",
       "      <td>NaN</td>\n",
       "      <td>NaN</td>\n",
       "      <td>NaN</td>\n",
       "      <td>NaN</td>\n",
       "      <td>NaN</td>\n",
       "      <td>NaN</td>\n",
       "      <td>NaN</td>\n",
       "      <td>NaN</td>\n",
       "      <td>NaN</td>\n",
       "      <td>NaN</td>\n",
       "    </tr>\n",
       "    <tr>\n",
       "      <th>진구 윤</th>\n",
       "      <td>NaN</td>\n",
       "      <td>NaN</td>\n",
       "      <td>NaN</td>\n",
       "      <td>NaN</td>\n",
       "      <td>NaN</td>\n",
       "      <td>NaN</td>\n",
       "      <td>NaN</td>\n",
       "      <td>NaN</td>\n",
       "      <td>NaN</td>\n",
       "      <td>NaN</td>\n",
       "      <td>...</td>\n",
       "      <td>NaN</td>\n",
       "      <td>NaN</td>\n",
       "      <td>NaN</td>\n",
       "      <td>NaN</td>\n",
       "      <td>NaN</td>\n",
       "      <td>NaN</td>\n",
       "      <td>NaN</td>\n",
       "      <td>NaN</td>\n",
       "      <td>NaN</td>\n",
       "      <td>NaN</td>\n",
       "    </tr>\n",
       "    <tr>\n",
       "      <th>해요 안</th>\n",
       "      <td>NaN</td>\n",
       "      <td>NaN</td>\n",
       "      <td>NaN</td>\n",
       "      <td>NaN</td>\n",
       "      <td>NaN</td>\n",
       "      <td>NaN</td>\n",
       "      <td>NaN</td>\n",
       "      <td>NaN</td>\n",
       "      <td>NaN</td>\n",
       "      <td>NaN</td>\n",
       "      <td>...</td>\n",
       "      <td>NaN</td>\n",
       "      <td>NaN</td>\n",
       "      <td>NaN</td>\n",
       "      <td>NaN</td>\n",
       "      <td>NaN</td>\n",
       "      <td>NaN</td>\n",
       "      <td>NaN</td>\n",
       "      <td>NaN</td>\n",
       "      <td>NaN</td>\n",
       "      <td>NaN</td>\n",
       "    </tr>\n",
       "    <tr>\n",
       "      <th>현도 정</th>\n",
       "      <td>NaN</td>\n",
       "      <td>NaN</td>\n",
       "      <td>NaN</td>\n",
       "      <td>NaN</td>\n",
       "      <td>NaN</td>\n",
       "      <td>NaN</td>\n",
       "      <td>NaN</td>\n",
       "      <td>NaN</td>\n",
       "      <td>NaN</td>\n",
       "      <td>NaN</td>\n",
       "      <td>...</td>\n",
       "      <td>NaN</td>\n",
       "      <td>NaN</td>\n",
       "      <td>NaN</td>\n",
       "      <td>NaN</td>\n",
       "      <td>NaN</td>\n",
       "      <td>NaN</td>\n",
       "      <td>NaN</td>\n",
       "      <td>NaN</td>\n",
       "      <td>NaN</td>\n",
       "      <td>NaN</td>\n",
       "    </tr>\n",
       "  </tbody>\n",
       "</table>\n",
       "<p>130682 rows × 759 columns</p>\n",
       "</div>"
      ],
      "text/plain": [
       "hotel_name        'Alohilani Resort Waikiki Beach  414 Hotel  \\\n",
       "user_name_clean                                                \n",
       "-80-J-                                        NaN        NaN   \n",
       "-Alex--Goat--001                              NaN        NaN   \n",
       "-Bex-689                                      NaN        NaN   \n",
       "-ElenaG1898-0000                              NaN        NaN   \n",
       "-OuidaWarren-                                 NaN        NaN   \n",
       "...                                           ...        ...   \n",
       "지호 우                                          NaN        NaN   \n",
       "지훈 배                                          NaN        NaN   \n",
       "진구 윤                                          NaN        NaN   \n",
       "해요 안                                          NaN        NaN   \n",
       "현도 정                                          NaN        NaN   \n",
       "\n",
       "hotel_name        6 Columbus - Central Park Hotel  A.Roma Lifestyle Hotel  \\\n",
       "user_name_clean                                                             \n",
       "-80-J-                                        NaN                     NaN   \n",
       "-Alex--Goat--001                              NaN                     NaN   \n",
       "-Bex-689                                      NaN                     NaN   \n",
       "-ElenaG1898-0000                              NaN                     NaN   \n",
       "-OuidaWarren-                                 NaN                     NaN   \n",
       "...                                           ...                     ...   \n",
       "지호 우                                          NaN                     NaN   \n",
       "지훈 배                                          NaN                     NaN   \n",
       "진구 윤                                          NaN                     NaN   \n",
       "해요 안                                          NaN                     NaN   \n",
       "현도 정                                          NaN                     NaN   \n",
       "\n",
       "hotel_name        AC Hotel Barcelona Forum by Marriott  \\\n",
       "user_name_clean                                          \n",
       "-80-J-                                             NaN   \n",
       "-Alex--Goat--001                                   NaN   \n",
       "-Bex-689                                           NaN   \n",
       "-ElenaG1898-0000                                   NaN   \n",
       "-OuidaWarren-                                      NaN   \n",
       "...                                                ...   \n",
       "지호 우                                               NaN   \n",
       "지훈 배                                               NaN   \n",
       "진구 윤                                               NaN   \n",
       "해요 안                                               NaN   \n",
       "현도 정                                               NaN   \n",
       "\n",
       "hotel_name        ANA InterContinental Tokyo  \\\n",
       "user_name_clean                                \n",
       "-80-J-                                   NaN   \n",
       "-Alex--Goat--001                         NaN   \n",
       "-Bex-689                                 NaN   \n",
       "-ElenaG1898-0000                         NaN   \n",
       "-OuidaWarren-                            NaN   \n",
       "...                                      ...   \n",
       "지호 우                                     NaN   \n",
       "지훈 배                                     NaN   \n",
       "진구 윤                                     NaN   \n",
       "해요 안                                     NaN   \n",
       "현도 정                                     NaN   \n",
       "\n",
       "hotel_name        APA Hotel & Resort Nishishinjuku Gochome-eki Tower  \\\n",
       "user_name_clean                                                        \n",
       "-80-J-                                                          NaN    \n",
       "-Alex--Goat--001                                                NaN    \n",
       "-Bex-689                                                        NaN    \n",
       "-ElenaG1898-0000                                                NaN    \n",
       "-OuidaWarren-                                                   NaN    \n",
       "...                                                             ...    \n",
       "지호 우                                                            NaN    \n",
       "지훈 배                                                            NaN    \n",
       "진구 윤                                                            NaN    \n",
       "해요 안                                                            NaN    \n",
       "현도 정                                                            NaN    \n",
       "\n",
       "hotel_name        APA Hotel Shinjuku Gyoemmae  \\\n",
       "user_name_clean                                 \n",
       "-80-J-                                    NaN   \n",
       "-Alex--Goat--001                          NaN   \n",
       "-Bex-689                                  NaN   \n",
       "-ElenaG1898-0000                          NaN   \n",
       "-OuidaWarren-                             NaN   \n",
       "...                                       ...   \n",
       "지호 우                                      NaN   \n",
       "지훈 배                                      NaN   \n",
       "진구 윤                                      NaN   \n",
       "해요 안                                      NaN   \n",
       "현도 정                                      NaN   \n",
       "\n",
       "hotel_name        APA Hotel Shinjuku Kabukicho Tower  ARTOTEL Sanur  ...  \\\n",
       "user_name_clean                                                      ...   \n",
       "-80-J-                                           NaN            NaN  ...   \n",
       "-Alex--Goat--001                                 NaN            NaN  ...   \n",
       "-Bex-689                                         NaN            NaN  ...   \n",
       "-ElenaG1898-0000                                 NaN            NaN  ...   \n",
       "-OuidaWarren-                                    NaN            NaN  ...   \n",
       "...                                              ...            ...  ...   \n",
       "지호 우                                             NaN            NaN  ...   \n",
       "지훈 배                                             NaN            NaN  ...   \n",
       "진구 윤                                             NaN            NaN  ...   \n",
       "해요 안                                             NaN            NaN  ...   \n",
       "현도 정                                             NaN            NaN  ...   \n",
       "\n",
       "hotel_name        White Sands Hotel  Wyndham Garden Chinatown  YOTEL New York  \\\n",
       "user_name_clean                                                                 \n",
       "-80-J-                          NaN                       NaN             NaN   \n",
       "-Alex--Goat--001                NaN                       NaN             NaN   \n",
       "-Bex-689                        NaN                       NaN             NaN   \n",
       "-ElenaG1898-0000                NaN                       NaN             NaN   \n",
       "-OuidaWarren-                   NaN                       NaN             NaN   \n",
       "...                             ...                       ...             ...   \n",
       "지호 우                            NaN                       NaN             NaN   \n",
       "지훈 배                            NaN                       NaN             NaN   \n",
       "진구 윤                            NaN                       NaN             NaN   \n",
       "해요 안                            NaN                       NaN             NaN   \n",
       "현도 정                            NaN                       NaN             NaN   \n",
       "\n",
       "hotel_name        Yellow Square  Yes Hotel  Zoetry Agua Punta Cana  \\\n",
       "user_name_clean                                                      \n",
       "-80-J-                      NaN        NaN                     NaN   \n",
       "-Alex--Goat--001            NaN        NaN                     NaN   \n",
       "-Bex-689                    NaN        NaN                     NaN   \n",
       "-ElenaG1898-0000            NaN        NaN                     NaN   \n",
       "-OuidaWarren-               NaN        NaN                     NaN   \n",
       "...                         ...        ...                     ...   \n",
       "지호 우                        NaN        NaN                     NaN   \n",
       "지훈 배                        NaN        NaN                     NaN   \n",
       "진구 윤                        NaN        NaN                     NaN   \n",
       "해요 안                        NaN        NaN                     NaN   \n",
       "현도 정                        NaN        NaN                     NaN   \n",
       "\n",
       "hotel_name        dusitD2 Ao Nang Krabi  iQ Hotel Roma  \\\n",
       "user_name_clean                                          \n",
       "-80-J-                              NaN            NaN   \n",
       "-Alex--Goat--001                    NaN            NaN   \n",
       "-Bex-689                            NaN            NaN   \n",
       "-ElenaG1898-0000                    NaN            NaN   \n",
       "-OuidaWarren-                       NaN            NaN   \n",
       "...                                 ...            ...   \n",
       "지호 우                                NaN            NaN   \n",
       "지훈 배                                NaN            NaN   \n",
       "진구 윤                                NaN            NaN   \n",
       "해요 안                                NaN            NaN   \n",
       "현도 정                                NaN            NaN   \n",
       "\n",
       "hotel_name        ibis Styles Bangkok Khaosan Viengtai  \\\n",
       "user_name_clean                                          \n",
       "-80-J-                                             NaN   \n",
       "-Alex--Goat--001                                   NaN   \n",
       "-Bex-689                                           NaN   \n",
       "-ElenaG1898-0000                                   NaN   \n",
       "-OuidaWarren-                                      NaN   \n",
       "...                                                ...   \n",
       "지호 우                                               NaN   \n",
       "지훈 배                                               NaN   \n",
       "진구 윤                                               NaN   \n",
       "해요 안                                               NaN   \n",
       "현도 정                                               NaN   \n",
       "\n",
       "hotel_name        nine hours Shinjuku-North  \n",
       "user_name_clean                              \n",
       "-80-J-                                  NaN  \n",
       "-Alex--Goat--001                        NaN  \n",
       "-Bex-689                                NaN  \n",
       "-ElenaG1898-0000                        NaN  \n",
       "-OuidaWarren-                           NaN  \n",
       "...                                     ...  \n",
       "지호 우                                    NaN  \n",
       "지훈 배                                    NaN  \n",
       "진구 윤                                    NaN  \n",
       "해요 안                                    NaN  \n",
       "현도 정                                    NaN  \n",
       "\n",
       "[130682 rows x 759 columns]"
      ]
     },
     "execution_count": 35,
     "metadata": {},
     "output_type": "execute_result"
    }
   ],
   "source": [
    "utility_matrix"
   ]
  },
  {
   "cell_type": "code",
   "execution_count": 36,
   "metadata": {},
   "outputs": [
    {
     "data": {
      "text/plain": [
       "<matplotlib.axes._subplots.AxesSubplot at 0x1a7c718d50>"
      ]
     },
     "execution_count": 36,
     "metadata": {},
     "output_type": "execute_result"
    },
    {
     "name": "stdout",
     "output_type": "stream",
     "text": [
      "Min number of ratings: 1\n"
     ]
    },
    {
     "data": {
      "image/png": "[encoded data removed]",
      "text/plain": [
       "<Figure size 432x288 with 1 Axes>"
      ]
     },
     "metadata": {},
     "output_type": "display_data"
    }
   ],
   "source": [
    "ratings = (utility_matrix > 0).sum(axis=1)\n",
    "ratings.hist(bins=100)\n",
    "print('Min number of ratings: {}'.format(ratings.min()))"
   ]
  },
  {
   "cell_type": "code",
   "execution_count": 37,
   "metadata": {},
   "outputs": [],
   "source": [
    "num_reviews_by_user = train_df_us.groupby('user_name_clean').count()['rating']"
   ]
  },
  {
   "cell_type": "code",
   "execution_count": 38,
   "metadata": {},
   "outputs": [
    {
     "data": {
      "text/plain": [
       "user_name_clean\n",
       "A S         7\n",
       "Adam B     11\n",
       "Adam H      7\n",
       "Adam P      6\n",
       "Ahmad A     6\n",
       "           ..\n",
       "C S         7\n",
       "Carol B    10\n",
       "Carol C     6\n",
       "Carol M     6\n",
       "Carol R     7\n",
       "Name: rating, Length: 100, dtype: int64"
      ]
     },
     "execution_count": 38,
     "metadata": {},
     "output_type": "execute_result"
    }
   ],
   "source": [
    "num_reviews_by_user[num_reviews_by_user > 5][0:100]"
   ]
  },
  {
   "cell_type": "code",
   "execution_count": 39,
   "metadata": {},
   "outputs": [],
   "source": [
    "num_reviews_by_user_loc = train_df_us.groupby('user_location').count()['rating']"
   ]
  },
  {
   "cell_type": "code",
   "execution_count": 40,
   "metadata": {},
   "outputs": [
    {
     "data": {
      "text/plain": [
       "user_location\n",
       " Australia             1\n",
       " Israel                1\n",
       " Sunderland England    1\n",
       ", The Netherlands      1\n",
       "-                      1\n",
       "                      ..\n",
       "福岡                     2\n",
       "阿德莱德                   1\n",
       "香港, 中國                 1\n",
       "싱가폴, Singapore         1\n",
       "용인                     1\n",
       "Name: rating, Length: 21193, dtype: int64"
      ]
     },
     "execution_count": 40,
     "metadata": {},
     "output_type": "execute_result"
    }
   ],
   "source": [
    "num_reviews_by_user_loc"
   ]
  },
  {
   "cell_type": "code",
   "execution_count": 41,
   "metadata": {},
   "outputs": [
    {
     "data": {
      "text/plain": [
       "user_location\n",
       ".                     41\n",
       "Aachen, Germany        6\n",
       "Aalborg, Denmark      11\n",
       "Aarhus, Denmark       23\n",
       "Abbotsford, Canada    17\n",
       "                      ..\n",
       "wales                 10\n",
       "washington             6\n",
       "west midlands          6\n",
       "worcester              6\n",
       "yorkshire             10\n",
       "Name: rating, Length: 2414, dtype: int64"
      ]
     },
     "execution_count": 41,
     "metadata": {},
     "output_type": "execute_result"
    }
   ],
   "source": [
    "num_reviews_by_user_loc[num_reviews_by_user_loc > 5]"
   ]
  },
  {
   "cell_type": "code",
   "execution_count": 42,
   "metadata": {},
   "outputs": [
    {
     "data": {
      "text/plain": [
       "<matplotlib.axes._subplots.AxesSubplot at 0x1a7cc52850>"
      ]
     },
     "execution_count": 42,
     "metadata": {},
     "output_type": "execute_result"
    },
    {
     "name": "stdout",
     "output_type": "stream",
     "text": [
      "Min number of ratings: 1\n"
     ]
    },
    {
     "data": {
      "image/png": "[encoded data removed]",
      "text/plain": [
       "<Figure size 432x288 with 1 Axes>"
      ]
     },
     "metadata": {},
     "output_type": "display_data"
    }
   ],
   "source": [
    "ratings = (utility_matrix > 0).sum(axis=0)\n",
    "ratings.hist(bins=100)\n",
    "print('Min number of ratings: {}'.format(ratings.min()))"
   ]
  },
  {
   "cell_type": "code",
   "execution_count": 43,
   "metadata": {},
   "outputs": [
    {
     "name": "stdout",
     "output_type": "stream",
     "text": [
      "The density is: 0.0014925045397290336 \n"
     ]
    }
   ],
   "source": [
    "number_ratings = (train_df_us['rating'] > 0).sum()\n",
    "density = number_ratings / (utility_matrix.shape[0] * utility_matrix.shape[1])\n",
    "print('The density is: {} '.format(density))"
   ]
  },
  {
   "cell_type": "code",
   "execution_count": null,
   "metadata": {},
   "outputs": [],
   "source": []
  }
 ],
 "metadata": {
  "kernelspec": {
   "display_name": "Python 3",
   "language": "python",
   "name": "python3"
  },
  "language_info": {
   "codemirror_mode": {
    "name": "ipython",
    "version": 3
   },
   "file_extension": ".py",
   "mimetype": "text/x-python",
   "name": "python",
   "nbconvert_exporter": "python",
   "pygments_lexer": "ipython3",
   "version": "3.7.7"
  }
 },
 "nbformat": 4,
 "nbformat_minor": 4
}
