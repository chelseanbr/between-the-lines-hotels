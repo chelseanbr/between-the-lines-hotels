{
 "cells": [
  {
   "cell_type": "code",
   "execution_count": 1,
   "metadata": {},
   "outputs": [],
   "source": [
    "%load_ext autoreload\n",
    "%autoreload 2"
   ]
  },
  {
   "cell_type": "code",
   "execution_count": 2,
   "metadata": {},
   "outputs": [],
   "source": [
    "import src.preprocess as prep\n",
    "import src.eda as eda\n",
    "\n",
    "import numpy as np\n",
    "import pandas as pd\n",
    "import matplotlib.pyplot as plt\n",
    "import seaborn as sns\n",
    "\n",
    "from nltk.tokenize import word_tokenize\n",
    "\n",
    "import re"
   ]
  },
  {
   "cell_type": "code",
   "execution_count": 3,
   "metadata": {},
   "outputs": [],
   "source": [
    "# Set plot sizes\n",
    "SMALL_SIZE = 22\n",
    "MEDIUM_SIZE = 24\n",
    "BIGGER_SIZE = 26\n",
    "BIGGEST_SIZE = 28\n",
    "plt.rc('font', size=SMALL_SIZE)          # controls default text sizes\n",
    "plt.rc('axes', titlesize=SMALL_SIZE)     # fontsize of the axes title\n",
    "plt.rc('axes', labelsize=MEDIUM_SIZE)    # fontsize of the x and y labels\n",
    "plt.rc('xtick', labelsize=SMALL_SIZE)    # fontsize of the tick labels\n",
    "plt.rc('ytick', labelsize=SMALL_SIZE)    # fontsize of the tick labels\n",
    "plt.rc('legend', fontsize=SMALL_SIZE)    # legend fontsize\n",
    "plt.rc('figure', titlesize=BIGGEST_SIZE)  # fontsize of the figure title"
   ]
  },
  {
   "cell_type": "code",
   "execution_count": 4,
   "metadata": {},
   "outputs": [],
   "source": [
    "# Constants\n",
    "TARGET = 'sentiment'\n",
    "FEATURE = 'review_body'\n",
    "FEATURES = [FEATURE]\n",
    "CSV = 'data/tripadvisor_reviews_1p2m.csv'"
   ]
  },
  {
   "cell_type": "markdown",
   "metadata": {},
   "source": [
    "# Load Data"
   ]
  },
  {
   "cell_type": "markdown",
   "metadata": {},
   "source": [
    "### Load and merge all scraped data"
   ]
  },
  {
   "cell_type": "code",
   "execution_count": 5,
   "metadata": {},
   "outputs": [
    {
     "name": "stdout",
     "output_type": "stream",
     "text": [
      "Processing files in data...\n",
      "\tNon-zip folders/files found in data: ['links_4', 'links_7', 'links_1', 'links_10', 'links_5', 'links_9', 'links_3', 'links_2', 'links_6', 'links_8']\n"
     ]
    }
   ],
   "source": [
    "# # Loading from multiple CSVs in multiple folders (folders inside 'data')\n",
    "# path_to_dir = 'data'\n",
    "# merge_df = prep.load_data(path_to_dir)"
   ]
  },
  {
   "cell_type": "code",
   "execution_count": 6,
   "metadata": {},
   "outputs": [
    {
     "name": "stdout",
     "output_type": "stream",
     "text": [
      "Shape: (1217375, 11)\n"
     ]
    },
    {
     "data": {
      "text/html": [
       "<div>\n",
       "<style scoped>\n",
       "    .dataframe tbody tr th:only-of-type {\n",
       "        vertical-align: middle;\n",
       "    }\n",
       "\n",
       "    .dataframe tbody tr th {\n",
       "        vertical-align: top;\n",
       "    }\n",
       "\n",
       "    .dataframe thead th {\n",
       "        text-align: right;\n",
       "    }\n",
       "</style>\n",
       "<table border=\"1\" class=\"dataframe\">\n",
       "  <thead>\n",
       "    <tr style=\"text-align: right;\">\n",
       "      <th></th>\n",
       "      <th>review_id</th>\n",
       "      <th>url</th>\n",
       "      <th>hotel_name</th>\n",
       "      <th>review_date</th>\n",
       "      <th>review_body</th>\n",
       "      <th>user_location</th>\n",
       "      <th>user_name</th>\n",
       "      <th>helpful_vote</th>\n",
       "      <th>rating</th>\n",
       "      <th>csv</th>\n",
       "      <th>folder</th>\n",
       "    </tr>\n",
       "  </thead>\n",
       "  <tbody>\n",
       "    <tr>\n",
       "      <th>0</th>\n",
       "      <td>755288563</td>\n",
       "      <td>https://www.tripadvisor.com/Hotel_Review-g1877...</td>\n",
       "      <td>The St. Regis Rome</td>\n",
       "      <td>May 21, 2020</td>\n",
       "      <td>I can't believe I did not write the review as ...</td>\n",
       "      <td>Santa Barbara, California</td>\n",
       "      <td>CharAugustine&lt;/div&gt;&lt;div class=\"userLoc\"&gt;&lt;stron...</td>\n",
       "      <td>17</td>\n",
       "      <td>5.0</td>\n",
       "      <td>The_St_Regis_Rome-Rome_Lazio__en.csv</td>\n",
       "      <td>links_4</td>\n",
       "    </tr>\n",
       "    <tr>\n",
       "      <th>1</th>\n",
       "      <td>752876440</td>\n",
       "      <td>https://www.tripadvisor.com/Hotel_Review-g1877...</td>\n",
       "      <td>The St. Regis Rome</td>\n",
       "      <td>April 23, 2020</td>\n",
       "      <td>This review is for the Lumen Lobby Bar, we did...</td>\n",
       "      <td>Perth, Australia</td>\n",
       "      <td>NeedToSeeItAll&lt;/div&gt;&lt;div class=\"userLoc\"&gt;&lt;stro...</td>\n",
       "      <td>112</td>\n",
       "      <td>5.0</td>\n",
       "      <td>The_St_Regis_Rome-Rome_Lazio__en.csv</td>\n",
       "      <td>links_4</td>\n",
       "    </tr>\n",
       "    <tr>\n",
       "      <th>2</th>\n",
       "      <td>751572137</td>\n",
       "      <td>https://www.tripadvisor.com/Hotel_Review-g1877...</td>\n",
       "      <td>The St. Regis Rome</td>\n",
       "      <td>March 21, 2020</td>\n",
       "      <td>This hotel was the highlight of my stay in Rom...</td>\n",
       "      <td>White Plains, New York</td>\n",
       "      <td>kbpvpf&lt;/div&gt;&lt;div class=\"userLoc\"&gt;&lt;strong&gt;White...</td>\n",
       "      <td>51</td>\n",
       "      <td>5.0</td>\n",
       "      <td>The_St_Regis_Rome-Rome_Lazio__en.csv</td>\n",
       "      <td>links_4</td>\n",
       "    </tr>\n",
       "    <tr>\n",
       "      <th>3</th>\n",
       "      <td>751258144</td>\n",
       "      <td>https://www.tripadvisor.com/Hotel_Review-g1877...</td>\n",
       "      <td>The St. Regis Rome</td>\n",
       "      <td>March 17, 2020</td>\n",
       "      <td>This is a great hotel as far as luxury hotels ...</td>\n",
       "      <td>St. Catharines, Canada</td>\n",
       "      <td>thegymlad&lt;/div&gt;&lt;div class=\"userLoc\"&gt;&lt;strong&gt;St...</td>\n",
       "      <td>34</td>\n",
       "      <td>5.0</td>\n",
       "      <td>The_St_Regis_Rome-Rome_Lazio__en.csv</td>\n",
       "      <td>links_4</td>\n",
       "    </tr>\n",
       "    <tr>\n",
       "      <th>4</th>\n",
       "      <td>750463304</td>\n",
       "      <td>https://www.tripadvisor.com/Hotel_Review-g1877...</td>\n",
       "      <td>The St. Regis Rome</td>\n",
       "      <td>March 11, 2020</td>\n",
       "      <td>We visited Rome for 4 days and stayed at the h...</td>\n",
       "      <td>London, United Kingdom</td>\n",
       "      <td>helentoll&lt;/div&gt;&lt;div class=\"userLoc\"&gt;&lt;strong&gt;Lo...</td>\n",
       "      <td>0</td>\n",
       "      <td>5.0</td>\n",
       "      <td>The_St_Regis_Rome-Rome_Lazio__en.csv</td>\n",
       "      <td>links_4</td>\n",
       "    </tr>\n",
       "  </tbody>\n",
       "</table>\n",
       "</div>"
      ],
      "text/plain": [
       "   review_id                                                url  \\\n",
       "0  755288563  https://www.tripadvisor.com/Hotel_Review-g1877...   \n",
       "1  752876440  https://www.tripadvisor.com/Hotel_Review-g1877...   \n",
       "2  751572137  https://www.tripadvisor.com/Hotel_Review-g1877...   \n",
       "3  751258144  https://www.tripadvisor.com/Hotel_Review-g1877...   \n",
       "4  750463304  https://www.tripadvisor.com/Hotel_Review-g1877...   \n",
       "\n",
       "           hotel_name     review_date  \\\n",
       "0  The St. Regis Rome    May 21, 2020   \n",
       "1  The St. Regis Rome  April 23, 2020   \n",
       "2  The St. Regis Rome  March 21, 2020   \n",
       "3  The St. Regis Rome  March 17, 2020   \n",
       "4  The St. Regis Rome  March 11, 2020   \n",
       "\n",
       "                                         review_body  \\\n",
       "0  I can't believe I did not write the review as ...   \n",
       "1  This review is for the Lumen Lobby Bar, we did...   \n",
       "2  This hotel was the highlight of my stay in Rom...   \n",
       "3  This is a great hotel as far as luxury hotels ...   \n",
       "4  We visited Rome for 4 days and stayed at the h...   \n",
       "\n",
       "               user_location  \\\n",
       "0  Santa Barbara, California   \n",
       "1           Perth, Australia   \n",
       "2     White Plains, New York   \n",
       "3     St. Catharines, Canada   \n",
       "4     London, United Kingdom   \n",
       "\n",
       "                                           user_name  helpful_vote  rating  \\\n",
       "0  CharAugustine</div><div class=\"userLoc\"><stron...            17     5.0   \n",
       "1  NeedToSeeItAll</div><div class=\"userLoc\"><stro...           112     5.0   \n",
       "2  kbpvpf</div><div class=\"userLoc\"><strong>White...            51     5.0   \n",
       "3  thegymlad</div><div class=\"userLoc\"><strong>St...            34     5.0   \n",
       "4  helentoll</div><div class=\"userLoc\"><strong>Lo...             0     5.0   \n",
       "\n",
       "                                    csv   folder  \n",
       "0  The_St_Regis_Rome-Rome_Lazio__en.csv  links_4  \n",
       "1  The_St_Regis_Rome-Rome_Lazio__en.csv  links_4  \n",
       "2  The_St_Regis_Rome-Rome_Lazio__en.csv  links_4  \n",
       "3  The_St_Regis_Rome-Rome_Lazio__en.csv  links_4  \n",
       "4  The_St_Regis_Rome-Rome_Lazio__en.csv  links_4  "
      ]
     },
     "execution_count": 6,
     "metadata": {},
     "output_type": "execute_result"
    }
   ],
   "source": [
    "# # Preview data\n",
    "# print('Shape:', merge_df.shape)\n",
    "# merge_df.head()"
   ]
  },
  {
   "cell_type": "markdown",
   "metadata": {},
   "source": [
    "### Save all data into a single CSV"
   ]
  },
  {
   "cell_type": "code",
   "execution_count": 7,
   "metadata": {},
   "outputs": [],
   "source": [
    "# merge_df.to_csv(CSV, index=False)"
   ]
  },
  {
   "cell_type": "markdown",
   "metadata": {},
   "source": [
    "## To save time, load from single CSV with all data merged already"
   ]
  },
  {
   "cell_type": "code",
   "execution_count": 390,
   "metadata": {},
   "outputs": [
    {
     "name": "stdout",
     "output_type": "stream",
     "text": [
      "Reading data/tripadvisor_reviews_1p2m.csv...\n"
     ]
    }
   ],
   "source": [
    "orig_df = prep.load_data(CSV)"
   ]
  },
  {
   "cell_type": "code",
   "execution_count": 391,
   "metadata": {},
   "outputs": [
    {
     "name": "stdout",
     "output_type": "stream",
     "text": [
      "Shape: (1217375, 11)\n"
     ]
    },
    {
     "data": {
      "text/html": [
       "<div>\n",
       "<style scoped>\n",
       "    .dataframe tbody tr th:only-of-type {\n",
       "        vertical-align: middle;\n",
       "    }\n",
       "\n",
       "    .dataframe tbody tr th {\n",
       "        vertical-align: top;\n",
       "    }\n",
       "\n",
       "    .dataframe thead th {\n",
       "        text-align: right;\n",
       "    }\n",
       "</style>\n",
       "<table border=\"1\" class=\"dataframe\">\n",
       "  <thead>\n",
       "    <tr style=\"text-align: right;\">\n",
       "      <th></th>\n",
       "      <th>review_id</th>\n",
       "      <th>url</th>\n",
       "      <th>hotel_name</th>\n",
       "      <th>review_date</th>\n",
       "      <th>review_body</th>\n",
       "      <th>user_location</th>\n",
       "      <th>user_name</th>\n",
       "      <th>helpful_vote</th>\n",
       "      <th>rating</th>\n",
       "      <th>csv</th>\n",
       "      <th>folder</th>\n",
       "    </tr>\n",
       "  </thead>\n",
       "  <tbody>\n",
       "    <tr>\n",
       "      <th>0</th>\n",
       "      <td>751960476</td>\n",
       "      <td>https://www.tripadvisor.com/Hotel_Review-g6098...</td>\n",
       "      <td>Best Western The Plaza Hotel</td>\n",
       "      <td>March 28, 2020</td>\n",
       "      <td>Originally I picked this hotel as it was near ...</td>\n",
       "      <td>Phoenix, Arizona</td>\n",
       "      <td>thechronictraveller&lt;/div&gt;&lt;div class=\"userLoc\"&gt;...</td>\n",
       "      <td>23</td>\n",
       "      <td>4.0</td>\n",
       "      <td>Best_Western_The_Plaza_Hotel-Honolulu_Oahu_Haw...</td>\n",
       "      <td>links_1</td>\n",
       "    </tr>\n",
       "    <tr>\n",
       "      <th>1</th>\n",
       "      <td>736861148</td>\n",
       "      <td>https://www.tripadvisor.com/Hotel_Review-g6098...</td>\n",
       "      <td>Best Western The Plaza Hotel</td>\n",
       "      <td>January 4, 2020</td>\n",
       "      <td>This is a great hotel. It's away from Waikiki ...</td>\n",
       "      <td>Lewisburg, Tennessee</td>\n",
       "      <td>bitsmom_tn&lt;/div&gt;&lt;div class=\"userLoc\"&gt;&lt;strong&gt;L...</td>\n",
       "      <td>56</td>\n",
       "      <td>5.0</td>\n",
       "      <td>Best_Western_The_Plaza_Hotel-Honolulu_Oahu_Haw...</td>\n",
       "      <td>links_1</td>\n",
       "    </tr>\n",
       "    <tr>\n",
       "      <th>2</th>\n",
       "      <td>751805209</td>\n",
       "      <td>https://www.tripadvisor.com/Hotel_Review-g6098...</td>\n",
       "      <td>Best Western The Plaza Hotel</td>\n",
       "      <td>March 25, 2020</td>\n",
       "      <td>When I checked out of my room, I left my Kindl...</td>\n",
       "      <td>NaN</td>\n",
       "      <td>D7133GLjoannew</td>\n",
       "      <td>0</td>\n",
       "      <td>5.0</td>\n",
       "      <td>Best_Western_The_Plaza_Hotel-Honolulu_Oahu_Haw...</td>\n",
       "      <td>links_1</td>\n",
       "    </tr>\n",
       "    <tr>\n",
       "      <th>3</th>\n",
       "      <td>749977541</td>\n",
       "      <td>https://www.tripadvisor.com/Hotel_Review-g6098...</td>\n",
       "      <td>Best Western The Plaza Hotel</td>\n",
       "      <td>March 8, 2020</td>\n",
       "      <td>Honestly, I was not expecting much but the hot...</td>\n",
       "      <td>Los Angeles</td>\n",
       "      <td>Adrian L&lt;/div&gt;&lt;div class=\"userLoc\"&gt;&lt;strong&gt;Los...</td>\n",
       "      <td>209</td>\n",
       "      <td>4.0</td>\n",
       "      <td>Best_Western_The_Plaza_Hotel-Honolulu_Oahu_Haw...</td>\n",
       "      <td>links_1</td>\n",
       "    </tr>\n",
       "    <tr>\n",
       "      <th>4</th>\n",
       "      <td>749895049</td>\n",
       "      <td>https://www.tripadvisor.com/Hotel_Review-g6098...</td>\n",
       "      <td>Best Western The Plaza Hotel</td>\n",
       "      <td>March 8, 2020</td>\n",
       "      <td>Clean and convenient place if you need to be n...</td>\n",
       "      <td>NaN</td>\n",
       "      <td>Lydia B</td>\n",
       "      <td>0</td>\n",
       "      <td>4.0</td>\n",
       "      <td>Best_Western_The_Plaza_Hotel-Honolulu_Oahu_Haw...</td>\n",
       "      <td>links_1</td>\n",
       "    </tr>\n",
       "  </tbody>\n",
       "</table>\n",
       "</div>"
      ],
      "text/plain": [
       "   review_id                                                url  \\\n",
       "0  751960476  https://www.tripadvisor.com/Hotel_Review-g6098...   \n",
       "1  736861148  https://www.tripadvisor.com/Hotel_Review-g6098...   \n",
       "2  751805209  https://www.tripadvisor.com/Hotel_Review-g6098...   \n",
       "3  749977541  https://www.tripadvisor.com/Hotel_Review-g6098...   \n",
       "4  749895049  https://www.tripadvisor.com/Hotel_Review-g6098...   \n",
       "\n",
       "                     hotel_name      review_date  \\\n",
       "0  Best Western The Plaza Hotel   March 28, 2020   \n",
       "1  Best Western The Plaza Hotel  January 4, 2020   \n",
       "2  Best Western The Plaza Hotel   March 25, 2020   \n",
       "3  Best Western The Plaza Hotel    March 8, 2020   \n",
       "4  Best Western The Plaza Hotel    March 8, 2020   \n",
       "\n",
       "                                         review_body         user_location  \\\n",
       "0  Originally I picked this hotel as it was near ...      Phoenix, Arizona   \n",
       "1  This is a great hotel. It's away from Waikiki ...  Lewisburg, Tennessee   \n",
       "2  When I checked out of my room, I left my Kindl...                   NaN   \n",
       "3  Honestly, I was not expecting much but the hot...           Los Angeles   \n",
       "4  Clean and convenient place if you need to be n...                   NaN   \n",
       "\n",
       "                                           user_name  helpful_vote  rating  \\\n",
       "0  thechronictraveller</div><div class=\"userLoc\">...            23     4.0   \n",
       "1  bitsmom_tn</div><div class=\"userLoc\"><strong>L...            56     5.0   \n",
       "2                                     D7133GLjoannew             0     5.0   \n",
       "3  Adrian L</div><div class=\"userLoc\"><strong>Los...           209     4.0   \n",
       "4                                            Lydia B             0     4.0   \n",
       "\n",
       "                                                 csv   folder  \n",
       "0  Best_Western_The_Plaza_Hotel-Honolulu_Oahu_Haw...  links_1  \n",
       "1  Best_Western_The_Plaza_Hotel-Honolulu_Oahu_Haw...  links_1  \n",
       "2  Best_Western_The_Plaza_Hotel-Honolulu_Oahu_Haw...  links_1  \n",
       "3  Best_Western_The_Plaza_Hotel-Honolulu_Oahu_Haw...  links_1  \n",
       "4  Best_Western_The_Plaza_Hotel-Honolulu_Oahu_Haw...  links_1  "
      ]
     },
     "execution_count": 391,
     "metadata": {},
     "output_type": "execute_result"
    }
   ],
   "source": [
    "# Preview data\n",
    "print('Shape:', orig_df.shape)\n",
    "orig_df.head()"
   ]
  },
  {
   "cell_type": "code",
   "execution_count": 392,
   "metadata": {
    "scrolled": true
   },
   "outputs": [
    {
     "data": {
      "text/html": [
       "<div>\n",
       "<style scoped>\n",
       "    .dataframe tbody tr th:only-of-type {\n",
       "        vertical-align: middle;\n",
       "    }\n",
       "\n",
       "    .dataframe tbody tr th {\n",
       "        vertical-align: top;\n",
       "    }\n",
       "\n",
       "    .dataframe thead th {\n",
       "        text-align: right;\n",
       "    }\n",
       "</style>\n",
       "<table border=\"1\" class=\"dataframe\">\n",
       "  <thead>\n",
       "    <tr style=\"text-align: right;\">\n",
       "      <th></th>\n",
       "      <th>Total</th>\n",
       "      <th>Percent</th>\n",
       "      <th>Type</th>\n",
       "    </tr>\n",
       "  </thead>\n",
       "  <tbody>\n",
       "    <tr>\n",
       "      <th>user_location</th>\n",
       "      <td>233152</td>\n",
       "      <td>0.19152</td>\n",
       "      <td>object</td>\n",
       "    </tr>\n",
       "    <tr>\n",
       "      <th>folder</th>\n",
       "      <td>0</td>\n",
       "      <td>0.00000</td>\n",
       "      <td>object</td>\n",
       "    </tr>\n",
       "    <tr>\n",
       "      <th>csv</th>\n",
       "      <td>0</td>\n",
       "      <td>0.00000</td>\n",
       "      <td>object</td>\n",
       "    </tr>\n",
       "    <tr>\n",
       "      <th>rating</th>\n",
       "      <td>0</td>\n",
       "      <td>0.00000</td>\n",
       "      <td>float64</td>\n",
       "    </tr>\n",
       "    <tr>\n",
       "      <th>helpful_vote</th>\n",
       "      <td>0</td>\n",
       "      <td>0.00000</td>\n",
       "      <td>int64</td>\n",
       "    </tr>\n",
       "    <tr>\n",
       "      <th>user_name</th>\n",
       "      <td>0</td>\n",
       "      <td>0.00000</td>\n",
       "      <td>object</td>\n",
       "    </tr>\n",
       "    <tr>\n",
       "      <th>review_body</th>\n",
       "      <td>0</td>\n",
       "      <td>0.00000</td>\n",
       "      <td>object</td>\n",
       "    </tr>\n",
       "    <tr>\n",
       "      <th>review_date</th>\n",
       "      <td>0</td>\n",
       "      <td>0.00000</td>\n",
       "      <td>object</td>\n",
       "    </tr>\n",
       "    <tr>\n",
       "      <th>hotel_name</th>\n",
       "      <td>0</td>\n",
       "      <td>0.00000</td>\n",
       "      <td>object</td>\n",
       "    </tr>\n",
       "    <tr>\n",
       "      <th>url</th>\n",
       "      <td>0</td>\n",
       "      <td>0.00000</td>\n",
       "      <td>object</td>\n",
       "    </tr>\n",
       "    <tr>\n",
       "      <th>review_id</th>\n",
       "      <td>0</td>\n",
       "      <td>0.00000</td>\n",
       "      <td>int64</td>\n",
       "    </tr>\n",
       "  </tbody>\n",
       "</table>\n",
       "</div>"
      ],
      "text/plain": [
       "                Total  Percent     Type\n",
       "user_location  233152  0.19152   object\n",
       "folder              0  0.00000   object\n",
       "csv                 0  0.00000   object\n",
       "rating              0  0.00000  float64\n",
       "helpful_vote        0  0.00000    int64\n",
       "user_name           0  0.00000   object\n",
       "review_body         0  0.00000   object\n",
       "review_date         0  0.00000   object\n",
       "hotel_name          0  0.00000   object\n",
       "url                 0  0.00000   object\n",
       "review_id           0  0.00000    int64"
      ]
     },
     "execution_count": 392,
     "metadata": {},
     "output_type": "execute_result"
    }
   ],
   "source": [
    "eda.get_nulls(orig_df)"
   ]
  },
  {
   "cell_type": "markdown",
   "metadata": {},
   "source": [
    "### Clean data"
   ]
  },
  {
   "cell_type": "code",
   "execution_count": 393,
   "metadata": {},
   "outputs": [
    {
     "name": "stdout",
     "output_type": "stream",
     "text": [
      "Shape: (1217375, 17)\n"
     ]
    },
    {
     "data": {
      "text/html": [
       "<div>\n",
       "<style scoped>\n",
       "    .dataframe tbody tr th:only-of-type {\n",
       "        vertical-align: middle;\n",
       "    }\n",
       "\n",
       "    .dataframe tbody tr th {\n",
       "        vertical-align: top;\n",
       "    }\n",
       "\n",
       "    .dataframe thead th {\n",
       "        text-align: right;\n",
       "    }\n",
       "</style>\n",
       "<table border=\"1\" class=\"dataframe\">\n",
       "  <thead>\n",
       "    <tr style=\"text-align: right;\">\n",
       "      <th></th>\n",
       "      <th>review_id</th>\n",
       "      <th>url</th>\n",
       "      <th>hotel_name</th>\n",
       "      <th>review_date</th>\n",
       "      <th>review_body</th>\n",
       "      <th>user_location</th>\n",
       "      <th>user_name</th>\n",
       "      <th>helpful_vote</th>\n",
       "      <th>rating</th>\n",
       "      <th>csv</th>\n",
       "      <th>folder</th>\n",
       "      <th>city</th>\n",
       "      <th>loc</th>\n",
       "      <th>user_name_clean</th>\n",
       "      <th>polarity</th>\n",
       "      <th>sentiment_int</th>\n",
       "      <th>sentiment</th>\n",
       "    </tr>\n",
       "  </thead>\n",
       "  <tbody>\n",
       "    <tr>\n",
       "      <th>0</th>\n",
       "      <td>751960476</td>\n",
       "      <td>https://www.tripadvisor.com/Hotel_Review-g6098...</td>\n",
       "      <td>Best Western The Plaza Hotel</td>\n",
       "      <td>March 28, 2020</td>\n",
       "      <td>Originally I picked this hotel as it was near ...</td>\n",
       "      <td>Phoenix, Arizona</td>\n",
       "      <td>thechronictraveller&lt;/div&gt;&lt;div class=\"userLoc\"&gt;...</td>\n",
       "      <td>23</td>\n",
       "      <td>4.0</td>\n",
       "      <td>Best_Western_The_Plaza_Hotel-Honolulu_Oahu_Haw...</td>\n",
       "      <td>links_1</td>\n",
       "      <td>Honolulu_Oahu_Hawaii</td>\n",
       "      <td>Honolulu_Oahu_Hawaii</td>\n",
       "      <td>thechronictraveller</td>\n",
       "      <td>1.0</td>\n",
       "      <td>2</td>\n",
       "      <td>positive</td>\n",
       "    </tr>\n",
       "    <tr>\n",
       "      <th>1</th>\n",
       "      <td>736861148</td>\n",
       "      <td>https://www.tripadvisor.com/Hotel_Review-g6098...</td>\n",
       "      <td>Best Western The Plaza Hotel</td>\n",
       "      <td>January 4, 2020</td>\n",
       "      <td>This is a great hotel. It's away from Waikiki ...</td>\n",
       "      <td>Lewisburg, Tennessee</td>\n",
       "      <td>bitsmom_tn&lt;/div&gt;&lt;div class=\"userLoc\"&gt;&lt;strong&gt;L...</td>\n",
       "      <td>56</td>\n",
       "      <td>5.0</td>\n",
       "      <td>Best_Western_The_Plaza_Hotel-Honolulu_Oahu_Haw...</td>\n",
       "      <td>links_1</td>\n",
       "      <td>Honolulu_Oahu_Hawaii</td>\n",
       "      <td>Honolulu_Oahu_Hawaii</td>\n",
       "      <td>bitsmom_tn</td>\n",
       "      <td>1.0</td>\n",
       "      <td>2</td>\n",
       "      <td>positive</td>\n",
       "    </tr>\n",
       "    <tr>\n",
       "      <th>2</th>\n",
       "      <td>751805209</td>\n",
       "      <td>https://www.tripadvisor.com/Hotel_Review-g6098...</td>\n",
       "      <td>Best Western The Plaza Hotel</td>\n",
       "      <td>March 25, 2020</td>\n",
       "      <td>When I checked out of my room, I left my Kindl...</td>\n",
       "      <td>n/a</td>\n",
       "      <td>D7133GLjoannew</td>\n",
       "      <td>0</td>\n",
       "      <td>5.0</td>\n",
       "      <td>Best_Western_The_Plaza_Hotel-Honolulu_Oahu_Haw...</td>\n",
       "      <td>links_1</td>\n",
       "      <td>Honolulu_Oahu_Hawaii</td>\n",
       "      <td>Honolulu_Oahu_Hawaii</td>\n",
       "      <td>D7133GLjoannew</td>\n",
       "      <td>1.0</td>\n",
       "      <td>2</td>\n",
       "      <td>positive</td>\n",
       "    </tr>\n",
       "    <tr>\n",
       "      <th>3</th>\n",
       "      <td>749977541</td>\n",
       "      <td>https://www.tripadvisor.com/Hotel_Review-g6098...</td>\n",
       "      <td>Best Western The Plaza Hotel</td>\n",
       "      <td>March 8, 2020</td>\n",
       "      <td>Honestly, I was not expecting much but the hot...</td>\n",
       "      <td>Los Angeles</td>\n",
       "      <td>Adrian L&lt;/div&gt;&lt;div class=\"userLoc\"&gt;&lt;strong&gt;Los...</td>\n",
       "      <td>209</td>\n",
       "      <td>4.0</td>\n",
       "      <td>Best_Western_The_Plaza_Hotel-Honolulu_Oahu_Haw...</td>\n",
       "      <td>links_1</td>\n",
       "      <td>Honolulu_Oahu_Hawaii</td>\n",
       "      <td>Honolulu_Oahu_Hawaii</td>\n",
       "      <td>Adrian L</td>\n",
       "      <td>1.0</td>\n",
       "      <td>2</td>\n",
       "      <td>positive</td>\n",
       "    </tr>\n",
       "    <tr>\n",
       "      <th>4</th>\n",
       "      <td>749895049</td>\n",
       "      <td>https://www.tripadvisor.com/Hotel_Review-g6098...</td>\n",
       "      <td>Best Western The Plaza Hotel</td>\n",
       "      <td>March 8, 2020</td>\n",
       "      <td>Clean and convenient place if you need to be n...</td>\n",
       "      <td>n/a</td>\n",
       "      <td>Lydia B</td>\n",
       "      <td>0</td>\n",
       "      <td>4.0</td>\n",
       "      <td>Best_Western_The_Plaza_Hotel-Honolulu_Oahu_Haw...</td>\n",
       "      <td>links_1</td>\n",
       "      <td>Honolulu_Oahu_Hawaii</td>\n",
       "      <td>Honolulu_Oahu_Hawaii</td>\n",
       "      <td>Lydia B</td>\n",
       "      <td>1.0</td>\n",
       "      <td>2</td>\n",
       "      <td>positive</td>\n",
       "    </tr>\n",
       "  </tbody>\n",
       "</table>\n",
       "</div>"
      ],
      "text/plain": [
       "   review_id                                                url  \\\n",
       "0  751960476  https://www.tripadvisor.com/Hotel_Review-g6098...   \n",
       "1  736861148  https://www.tripadvisor.com/Hotel_Review-g6098...   \n",
       "2  751805209  https://www.tripadvisor.com/Hotel_Review-g6098...   \n",
       "3  749977541  https://www.tripadvisor.com/Hotel_Review-g6098...   \n",
       "4  749895049  https://www.tripadvisor.com/Hotel_Review-g6098...   \n",
       "\n",
       "                     hotel_name      review_date  \\\n",
       "0  Best Western The Plaza Hotel   March 28, 2020   \n",
       "1  Best Western The Plaza Hotel  January 4, 2020   \n",
       "2  Best Western The Plaza Hotel   March 25, 2020   \n",
       "3  Best Western The Plaza Hotel    March 8, 2020   \n",
       "4  Best Western The Plaza Hotel    March 8, 2020   \n",
       "\n",
       "                                         review_body         user_location  \\\n",
       "0  Originally I picked this hotel as it was near ...      Phoenix, Arizona   \n",
       "1  This is a great hotel. It's away from Waikiki ...  Lewisburg, Tennessee   \n",
       "2  When I checked out of my room, I left my Kindl...                   n/a   \n",
       "3  Honestly, I was not expecting much but the hot...           Los Angeles   \n",
       "4  Clean and convenient place if you need to be n...                   n/a   \n",
       "\n",
       "                                           user_name  helpful_vote  rating  \\\n",
       "0  thechronictraveller</div><div class=\"userLoc\">...            23     4.0   \n",
       "1  bitsmom_tn</div><div class=\"userLoc\"><strong>L...            56     5.0   \n",
       "2                                     D7133GLjoannew             0     5.0   \n",
       "3  Adrian L</div><div class=\"userLoc\"><strong>Los...           209     4.0   \n",
       "4                                            Lydia B             0     4.0   \n",
       "\n",
       "                                                 csv   folder  \\\n",
       "0  Best_Western_The_Plaza_Hotel-Honolulu_Oahu_Haw...  links_1   \n",
       "1  Best_Western_The_Plaza_Hotel-Honolulu_Oahu_Haw...  links_1   \n",
       "2  Best_Western_The_Plaza_Hotel-Honolulu_Oahu_Haw...  links_1   \n",
       "3  Best_Western_The_Plaza_Hotel-Honolulu_Oahu_Haw...  links_1   \n",
       "4  Best_Western_The_Plaza_Hotel-Honolulu_Oahu_Haw...  links_1   \n",
       "\n",
       "                   city                   loc      user_name_clean  polarity  \\\n",
       "0  Honolulu_Oahu_Hawaii  Honolulu_Oahu_Hawaii  thechronictraveller       1.0   \n",
       "1  Honolulu_Oahu_Hawaii  Honolulu_Oahu_Hawaii           bitsmom_tn       1.0   \n",
       "2  Honolulu_Oahu_Hawaii  Honolulu_Oahu_Hawaii       D7133GLjoannew       1.0   \n",
       "3  Honolulu_Oahu_Hawaii  Honolulu_Oahu_Hawaii             Adrian L       1.0   \n",
       "4  Honolulu_Oahu_Hawaii  Honolulu_Oahu_Hawaii              Lydia B       1.0   \n",
       "\n",
       "   sentiment_int sentiment  \n",
       "0              2  positive  \n",
       "1              2  positive  \n",
       "2              2  positive  \n",
       "3              2  positive  \n",
       "4              2  positive  "
      ]
     },
     "execution_count": 393,
     "metadata": {},
     "output_type": "execute_result"
    }
   ],
   "source": [
    "df = prep.clean_and_prep(orig_df)\n",
    "print('Shape:', df.shape)\n",
    "df.head()"
   ]
  },
  {
   "cell_type": "code",
   "execution_count": 394,
   "metadata": {},
   "outputs": [
    {
     "name": "stdout",
     "output_type": "stream",
     "text": [
      "<class 'pandas.core.frame.DataFrame'>\n",
      "Int64Index: 1217375 entries, 0 to 1217374\n",
      "Data columns (total 17 columns):\n",
      " #   Column           Non-Null Count    Dtype  \n",
      "---  ------           --------------    -----  \n",
      " 0   review_id        1217375 non-null  int64  \n",
      " 1   url              1217375 non-null  object \n",
      " 2   hotel_name       1217375 non-null  object \n",
      " 3   review_date      1217375 non-null  object \n",
      " 4   review_body      1217375 non-null  object \n",
      " 5   user_location    1217375 non-null  object \n",
      " 6   user_name        1217375 non-null  object \n",
      " 7   helpful_vote     1217375 non-null  int64  \n",
      " 8   rating           1217375 non-null  float64\n",
      " 9   csv              1217375 non-null  object \n",
      " 10  folder           1217375 non-null  object \n",
      " 11  city             1217375 non-null  object \n",
      " 12  loc              1217375 non-null  object \n",
      " 13  user_name_clean  1217375 non-null  object \n",
      " 14  polarity         1217375 non-null  float64\n",
      " 15  sentiment_int    1217375 non-null  int64  \n",
      " 16  sentiment        1217375 non-null  object \n",
      "dtypes: float64(2), int64(3), object(12)\n",
      "memory usage: 207.2+ MB\n"
     ]
    }
   ],
   "source": [
    "df.info()"
   ]
  },
  {
   "cell_type": "markdown",
   "metadata": {},
   "source": [
    "# EDA"
   ]
  },
  {
   "cell_type": "code",
   "execution_count": 395,
   "metadata": {},
   "outputs": [
    {
     "name": "stdout",
     "output_type": "stream",
     "text": [
      "Count of Unique Values per Column:\n",
      "\n",
      "review_id: 1217371\n",
      "url: 243667\n",
      "hotel_name: 779\n",
      "review_date: 6099\n",
      "review_body: 1217194\n",
      "user_location: 72284\n",
      "user_name: 998536\n",
      "helpful_vote: 1279\n",
      "rating: 5\n",
      "csv: 779\n",
      "folder: 10\n",
      "city: 96\n",
      "loc: 13\n",
      "user_name_clean: 875089\n",
      "polarity: 3\n",
      "sentiment_int: 3\n",
      "sentiment: 3\n"
     ]
    }
   ],
   "source": [
    "eda.print_unique_ct(df)"
   ]
  },
  {
   "cell_type": "code",
   "execution_count": 396,
   "metadata": {},
   "outputs": [
    {
     "data": {
      "text/html": [
       "<div>\n",
       "<style scoped>\n",
       "    .dataframe tbody tr th:only-of-type {\n",
       "        vertical-align: middle;\n",
       "    }\n",
       "\n",
       "    .dataframe tbody tr th {\n",
       "        vertical-align: top;\n",
       "    }\n",
       "\n",
       "    .dataframe thead th {\n",
       "        text-align: right;\n",
       "    }\n",
       "</style>\n",
       "<table border=\"1\" class=\"dataframe\">\n",
       "  <thead>\n",
       "    <tr style=\"text-align: right;\">\n",
       "      <th></th>\n",
       "      <th>review_id</th>\n",
       "      <th>helpful_vote</th>\n",
       "      <th>rating</th>\n",
       "      <th>polarity</th>\n",
       "      <th>sentiment_int</th>\n",
       "    </tr>\n",
       "  </thead>\n",
       "  <tbody>\n",
       "    <tr>\n",
       "      <th>count</th>\n",
       "      <td>1.217375e+06</td>\n",
       "      <td>1.217375e+06</td>\n",
       "      <td>1.217375e+06</td>\n",
       "      <td>1.217375e+06</td>\n",
       "      <td>1.217375e+06</td>\n",
       "    </tr>\n",
       "    <tr>\n",
       "      <th>mean</th>\n",
       "      <td>4.363706e+08</td>\n",
       "      <td>2.590393e+01</td>\n",
       "      <td>4.362044e+00</td>\n",
       "      <td>8.929820e-01</td>\n",
       "      <td>1.785964e+00</td>\n",
       "    </tr>\n",
       "    <tr>\n",
       "      <th>std</th>\n",
       "      <td>1.962223e+08</td>\n",
       "      <td>2.732269e+02</td>\n",
       "      <td>9.776615e-01</td>\n",
       "      <td>2.715207e-01</td>\n",
       "      <td>5.430415e-01</td>\n",
       "    </tr>\n",
       "    <tr>\n",
       "      <th>min</th>\n",
       "      <td>6.937280e+05</td>\n",
       "      <td>0.000000e+00</td>\n",
       "      <td>1.000000e+00</td>\n",
       "      <td>0.000000e+00</td>\n",
       "      <td>0.000000e+00</td>\n",
       "    </tr>\n",
       "    <tr>\n",
       "      <th>25%</th>\n",
       "      <td>2.644167e+08</td>\n",
       "      <td>1.000000e+00</td>\n",
       "      <td>4.000000e+00</td>\n",
       "      <td>1.000000e+00</td>\n",
       "      <td>2.000000e+00</td>\n",
       "    </tr>\n",
       "    <tr>\n",
       "      <th>50%</th>\n",
       "      <td>4.504562e+08</td>\n",
       "      <td>6.000000e+00</td>\n",
       "      <td>5.000000e+00</td>\n",
       "      <td>1.000000e+00</td>\n",
       "      <td>2.000000e+00</td>\n",
       "    </tr>\n",
       "    <tr>\n",
       "      <th>75%</th>\n",
       "      <td>6.083789e+08</td>\n",
       "      <td>2.300000e+01</td>\n",
       "      <td>5.000000e+00</td>\n",
       "      <td>1.000000e+00</td>\n",
       "      <td>2.000000e+00</td>\n",
       "    </tr>\n",
       "    <tr>\n",
       "      <th>max</th>\n",
       "      <td>7.568581e+08</td>\n",
       "      <td>1.172290e+05</td>\n",
       "      <td>5.000000e+00</td>\n",
       "      <td>1.000000e+00</td>\n",
       "      <td>2.000000e+00</td>\n",
       "    </tr>\n",
       "  </tbody>\n",
       "</table>\n",
       "</div>"
      ],
      "text/plain": [
       "          review_id  helpful_vote        rating      polarity  sentiment_int\n",
       "count  1.217375e+06  1.217375e+06  1.217375e+06  1.217375e+06   1.217375e+06\n",
       "mean   4.363706e+08  2.590393e+01  4.362044e+00  8.929820e-01   1.785964e+00\n",
       "std    1.962223e+08  2.732269e+02  9.776615e-01  2.715207e-01   5.430415e-01\n",
       "min    6.937280e+05  0.000000e+00  1.000000e+00  0.000000e+00   0.000000e+00\n",
       "25%    2.644167e+08  1.000000e+00  4.000000e+00  1.000000e+00   2.000000e+00\n",
       "50%    4.504562e+08  6.000000e+00  5.000000e+00  1.000000e+00   2.000000e+00\n",
       "75%    6.083789e+08  2.300000e+01  5.000000e+00  1.000000e+00   2.000000e+00\n",
       "max    7.568581e+08  1.172290e+05  5.000000e+00  1.000000e+00   2.000000e+00"
      ]
     },
     "execution_count": 396,
     "metadata": {},
     "output_type": "execute_result"
    }
   ],
   "source": [
    "df.describe()"
   ]
  },
  {
   "cell_type": "code",
   "execution_count": 397,
   "metadata": {},
   "outputs": [
    {
     "data": {
      "text/plain": [
       "(<Figure size 720x720 with 1 Axes>,\n",
       " <matplotlib.axes._subplots.AxesSubplot at 0x1af0fa3250>)"
      ]
     },
     "execution_count": 397,
     "metadata": {},
     "output_type": "execute_result"
    },
    {
     "data": {
      "text/plain": [
       "Text(0.5, 1, 'Initial Balance of Review Sentiments')"
      ]
     },
     "execution_count": 397,
     "metadata": {},
     "output_type": "execute_result"
    },
    {
     "data": {
      "text/plain": [
       "Text(93.2, 0.5, '')"
      ]
     },
     "execution_count": 397,
     "metadata": {},
     "output_type": "execute_result"
    },
    {
     "data": {
      "image/png": "[encoded data removed]",
      "text/plain": [
       "<Figure size 720x720 with 1 Axes>"
      ]
     },
     "metadata": {},
     "output_type": "display_data"
    }
   ],
   "source": [
    "# Plot pie - Sentiments\n",
    "fig, ax = plt.subplots(figsize=(10,10))\n",
    "eda.plot_pie(df['sentiment'], fig, ax)\n",
    "ax.set_title('Initial Balance of Review Sentiments', size=BIGGEST_SIZE)\n",
    "ax.set_ylabel('')\n",
    "fig.savefig('imgs/pie_sentiments_initial')"
   ]
  },
  {
   "cell_type": "code",
   "execution_count": 398,
   "metadata": {},
   "outputs": [
    {
     "name": "stdout",
     "output_type": "stream",
     "text": [
      "Total Number of Ratings:  1217375\n"
     ]
    },
    {
     "data": {
      "text/plain": [
       "(<Figure size 864x576 with 1 Axes>,\n",
       " <matplotlib.axes._subplots.AxesSubplot at 0x1af1298a10>)"
      ]
     },
     "execution_count": 398,
     "metadata": {},
     "output_type": "execute_result"
    },
    {
     "data": {
      "text/plain": [
       "Text(0.5, 1, 'Counts of Hotel Ratings')"
      ]
     },
     "execution_count": 398,
     "metadata": {},
     "output_type": "execute_result"
    },
    {
     "data": {
      "text/plain": [
       "Text(0.5, 41.400000000000006, 'Hotel Rating')"
      ]
     },
     "execution_count": 398,
     "metadata": {},
     "output_type": "execute_result"
    },
    {
     "data": {
      "image/png": "[encoded data removed]",
      "text/plain": [
       "<Figure size 864x576 with 1 Axes>"
      ]
     },
     "metadata": {},
     "output_type": "display_data"
    }
   ],
   "source": [
    "# Plot counts - Ratings\n",
    "print('Total Number of Ratings: ', df.shape[0])\n",
    "\n",
    "fig, ax = plt.subplots(figsize=(12,8))\n",
    "eda.plot_counts(df, 'rating', fig, ax)\n",
    "ax.set_title('Counts of Hotel Ratings', size=BIGGEST_SIZE)\n",
    "ax.set_xlabel('Hotel Rating')\n",
    "fig.savefig('imgs/countplot_ratings_full')"
   ]
  },
  {
   "cell_type": "code",
   "execution_count": 399,
   "metadata": {},
   "outputs": [
    {
     "name": "stdout",
     "output_type": "stream",
     "text": [
      "Total Number of Reviews: 1217375\n"
     ]
    },
    {
     "data": {
      "text/plain": [
       "Text(0.5, 1.0, 'Count of Hotel Reviews per Location')"
      ]
     },
     "execution_count": 399,
     "metadata": {},
     "output_type": "execute_result"
    },
    {
     "data": {
      "text/plain": [
       "Text(0, 0.5, 'Location')"
      ]
     },
     "execution_count": 399,
     "metadata": {},
     "output_type": "execute_result"
    },
    {
     "data": {
      "image/png": "[encoded data removed]",
      "text/plain": [
       "<Figure size 864x432 with 1 Axes>"
      ]
     },
     "metadata": {},
     "output_type": "display_data"
    }
   ],
   "source": [
    "# Plot counts - Reviews per location\n",
    "print('Total Number of Reviews:', df.shape[0])\n",
    "\n",
    "fig, ax = plt.subplots(figsize=(12,6))\n",
    "plot = sns.countplot(data=df, y='loc', ax=ax, order = df['loc'].value_counts().index, orient='h')\n",
    "ax.set_title('Count of Hotel Reviews per Location', size=BIGGEST_SIZE)\n",
    "ax.set_ylabel('Location')\n",
    "fig.tight_layout()\n",
    "fig.savefig('imgs/countplot_reviews_byLocation_full')"
   ]
  },
  {
   "cell_type": "code",
   "execution_count": 400,
   "metadata": {
    "scrolled": false
   },
   "outputs": [
    {
     "data": {
      "text/plain": [
       "Text(0.5, 1.0, 'Distribution of Ratings per Location')"
      ]
     },
     "execution_count": 400,
     "metadata": {},
     "output_type": "execute_result"
    },
    {
     "data": {
      "text/plain": [
       "Text(0, 0.5, 'Hotel Rating')"
      ]
     },
     "execution_count": 400,
     "metadata": {},
     "output_type": "execute_result"
    },
    {
     "data": {
      "text/plain": [
       "Text(0.5, 0, 'Location')"
      ]
     },
     "execution_count": 400,
     "metadata": {},
     "output_type": "execute_result"
    },
    {
     "data": {
      "image/png": "[encoded data removed]",
      "text/plain": [
       "<Figure size 864x432 with 1 Axes>"
      ]
     },
     "metadata": {},
     "output_type": "display_data"
    }
   ],
   "source": [
    "# Plot boxplot - Ratings per city\n",
    "figsize=(12, 6)\n",
    "fig, ax = plt.subplots(figsize=figsize)\n",
    "plot = sns.boxplot(y='loc', x='rating', data=df, ax=ax, order = df['loc'].value_counts().index)\n",
    "ax.set_title('Distribution of Ratings per Location', size=BIGGEST_SIZE)\n",
    "ax.set_ylabel('Hotel Rating')\n",
    "ax.set_xlabel('Location')\n",
    "fig.tight_layout()\n",
    "fig.savefig('imgs/boxplt_ratings_byLocation_full')"
   ]
  },
  {
   "cell_type": "code",
   "execution_count": 401,
   "metadata": {},
   "outputs": [
    {
     "data": {
      "text/plain": [
       "count    1000.000000\n",
       "mean       92.197000\n",
       "std        91.168788\n",
       "min        18.000000\n",
       "25%        37.000000\n",
       "50%        59.000000\n",
       "75%       109.000000\n",
       "max       727.000000\n",
       "Name: review_len, dtype: float64"
      ]
     },
     "execution_count": 401,
     "metadata": {},
     "output_type": "execute_result"
    },
    {
     "name": "stdout",
     "output_type": "stream",
     "text": [
      "95th percentile: 268.14999999999986\n"
     ]
    }
   ],
   "source": [
    "# Get sample of data to tokenize and analyze review length\n",
    "num_samples = 1000\n",
    "sample_df = df.sample(num_samples, random_state=42).copy()\n",
    "\n",
    "# Stem and remove punctuation from nltk English stopwords\n",
    "stemmed_stopwords = prep.set_stopwords()\n",
    "\n",
    "# Lower case, remove punctuation and stop words\n",
    "sample_df['tokenized'] = sample_df[FEATURE].str.lower()\n",
    "sample_df['tokenized'] = sample_df['tokenized'].str.replace('[^\\w\\s]', '')\n",
    "stop_pat = ' | '.join(stemmed_stopwords)\n",
    "sample_df['tokenized'] = sample_df['tokenized'].str.replace(stop_pat, ' ')\n",
    "\n",
    "# Tokenize\n",
    "sample_df['tokenized'] = sample_df['tokenized'].apply(word_tokenize)\n",
    "\n",
    "# Get review length\n",
    "sample_df['review_len'] = sample_df['tokenized'].str.len()\n",
    "sample_df['review_len'].describe()\n",
    "print('95th percentile:', np.percentile(sample_df['review_len'],95))"
   ]
  },
  {
   "cell_type": "code",
   "execution_count": 402,
   "metadata": {
    "scrolled": false
   },
   "outputs": [
    {
     "data": {
      "text/plain": [
       "<seaborn.axisgrid.FacetGrid at 0x1add6348d0>"
      ]
     },
     "execution_count": 402,
     "metadata": {},
     "output_type": "execute_result"
    },
    {
     "data": {
      "text/plain": [
       "Text(0.5, 1.0, 'Length of Reviews from Sample of 1000 Reviews')"
      ]
     },
     "execution_count": 402,
     "metadata": {},
     "output_type": "execute_result"
    },
    {
     "data": {
      "text/plain": [
       "<matplotlib.legend.Legend at 0x1aed5f38d0>"
      ]
     },
     "execution_count": 402,
     "metadata": {},
     "output_type": "execute_result"
    },
    {
     "data": {
      "text/plain": [
       "Text(0.5, 0, 'Review Length')"
      ]
     },
     "execution_count": 402,
     "metadata": {},
     "output_type": "execute_result"
    },
    {
     "data": {
      "text/plain": [
       "<matplotlib.lines.Line2D at 0x1aed5a4690>"
      ]
     },
     "execution_count": 402,
     "metadata": {},
     "output_type": "execute_result"
    },
    {
     "data": {
      "image/png": "[encoded data removed]",
      "text/plain": [
       "<Figure size 864x432 with 1 Axes>"
      ]
     },
     "metadata": {},
     "output_type": "display_data"
    },
    {
     "data": {
      "image/png": "[encoded data removed]",
      "text/plain": [
       "<Figure size 216x216 with 1 Axes>"
      ]
     },
     "metadata": {},
     "output_type": "display_data"
    }
   ],
   "source": [
    "fig, ax = plt.subplots(figsize=(12,6))\n",
    "g = sns.FacetGrid(sample_df, hue=TARGET, hue_order=['neutral', 'positive', 'negative'])\n",
    "g.map(sns.distplot, 'review_len',  kde=False, ax=ax)\n",
    "ax.set_title('Length of Reviews from Sample of {} Reviews'.format(num_samples))\n",
    "ax.legend()\n",
    "ax.set_xlabel('Review Length')\n",
    "ax.axvline(280, alpha=0.5, linestyle='dashed', color='orange')\n",
    "fig.savefig('imgs/sample1000_review_len_dist')"
   ]
  },
  {
   "cell_type": "markdown",
   "metadata": {},
   "source": [
    "# Train-Test-Val Split"
   ]
  },
  {
   "cell_type": "code",
   "execution_count": 403,
   "metadata": {},
   "outputs": [
    {
     "name": "stdout",
     "output_type": "stream",
     "text": [
      "\tTrain: 779120, Test: 243475, Val: 194780\n"
     ]
    }
   ],
   "source": [
    "# Train-test-val split - shuffled, stratified, 80:20 ratios --> 64/20/16 train/test/val\n",
    "train_df, val_df, test_df = prep.train_test_val_split(df, TARGET)"
   ]
  },
  {
   "cell_type": "markdown",
   "metadata": {},
   "source": [
    "## Handling class imbalance by under-sampling train data"
   ]
  },
  {
   "cell_type": "code",
   "execution_count": 404,
   "metadata": {},
   "outputs": [
    {
     "name": "stdout",
     "output_type": "stream",
     "text": [
      "\tMajority Class: positive, Middle Class: neutral, Minority Class: negative\n",
      "\t\tNumber positive in train: 661705\n",
      "\t\tNumber neutral in train: 68069\n",
      "\t\tNumber negative in train: 49346\n",
      "\tFinal undersampled train size: 148038\n"
     ]
    }
   ],
   "source": [
    "train_df_us = prep.undersample_train(train_df, TARGET)"
   ]
  },
  {
   "cell_type": "code",
   "execution_count": 405,
   "metadata": {},
   "outputs": [
    {
     "data": {
      "text/html": [
       "<div>\n",
       "<style scoped>\n",
       "    .dataframe tbody tr th:only-of-type {\n",
       "        vertical-align: middle;\n",
       "    }\n",
       "\n",
       "    .dataframe tbody tr th {\n",
       "        vertical-align: top;\n",
       "    }\n",
       "\n",
       "    .dataframe thead th {\n",
       "        text-align: right;\n",
       "    }\n",
       "</style>\n",
       "<table border=\"1\" class=\"dataframe\">\n",
       "  <thead>\n",
       "    <tr style=\"text-align: right;\">\n",
       "      <th></th>\n",
       "      <th>review_id</th>\n",
       "      <th>url</th>\n",
       "      <th>hotel_name</th>\n",
       "      <th>review_date</th>\n",
       "      <th>review_body</th>\n",
       "      <th>user_location</th>\n",
       "      <th>user_name</th>\n",
       "      <th>helpful_vote</th>\n",
       "      <th>rating</th>\n",
       "      <th>csv</th>\n",
       "      <th>folder</th>\n",
       "      <th>city</th>\n",
       "      <th>loc</th>\n",
       "      <th>user_name_clean</th>\n",
       "      <th>polarity</th>\n",
       "      <th>sentiment_int</th>\n",
       "      <th>sentiment</th>\n",
       "    </tr>\n",
       "  </thead>\n",
       "  <tbody>\n",
       "    <tr>\n",
       "      <th>979894</th>\n",
       "      <td>736523580</td>\n",
       "      <td>https://www.tripadvisor.com/Hotel_Review-g1863...</td>\n",
       "      <td>Strand Palace</td>\n",
       "      <td>January 3, 2020</td>\n",
       "      <td>Booked a Superior twin for 3 nights for just o...</td>\n",
       "      <td>Europe</td>\n",
       "      <td>Argella_13&lt;/div&gt;&lt;div class=\"userLoc\"&gt;&lt;strong&gt;E...</td>\n",
       "      <td>30</td>\n",
       "      <td>2.0</td>\n",
       "      <td>Strand_Palace-London_England__en.csv</td>\n",
       "      <td>links_5</td>\n",
       "      <td>London_England</td>\n",
       "      <td>London_England</td>\n",
       "      <td>Argella_13</td>\n",
       "      <td>0.0</td>\n",
       "      <td>0</td>\n",
       "      <td>negative</td>\n",
       "    </tr>\n",
       "    <tr>\n",
       "      <th>234010</th>\n",
       "      <td>529284069</td>\n",
       "      <td>https://www.tripadvisor.com/Hotel_Review-g6098...</td>\n",
       "      <td>Ala Moana Honolulu by Mantra</td>\n",
       "      <td>October 2, 2017</td>\n",
       "      <td>Not Good and I will never recommend the Ala Mo...</td>\n",
       "      <td>Keauhou, Hawaii</td>\n",
       "      <td>I616KLrogerm&lt;/div&gt;&lt;div class=\"userLoc\"&gt;&lt;strong...</td>\n",
       "      <td>2</td>\n",
       "      <td>1.0</td>\n",
       "      <td>Ala_Moana_Honolulu_by_Mantra-Honolulu_Oahu_Haw...</td>\n",
       "      <td>links_1</td>\n",
       "      <td>Honolulu_Oahu_Hawaii</td>\n",
       "      <td>Honolulu_Oahu_Hawaii</td>\n",
       "      <td>I616KLrogerm</td>\n",
       "      <td>0.0</td>\n",
       "      <td>0</td>\n",
       "      <td>negative</td>\n",
       "    </tr>\n",
       "    <tr>\n",
       "      <th>227709</th>\n",
       "      <td>575488218</td>\n",
       "      <td>https://www.tripadvisor.com/Hotel_Review-g6076...</td>\n",
       "      <td>The Roosevelt Hotel</td>\n",
       "      <td>April 24, 2018</td>\n",
       "      <td>I recently stayed at the Roosevelt hotel for a...</td>\n",
       "      <td>San Francisco, California</td>\n",
       "      <td>jnow21&lt;/div&gt;&lt;div class=\"userLoc\"&gt;&lt;strong&gt;San F...</td>\n",
       "      <td>20</td>\n",
       "      <td>2.0</td>\n",
       "      <td>The_Roosevelt_Hotel-New_York_City_New_York__en...</td>\n",
       "      <td>links_1</td>\n",
       "      <td>New_York_City_New_York</td>\n",
       "      <td>New_York</td>\n",
       "      <td>jnow21</td>\n",
       "      <td>0.0</td>\n",
       "      <td>0</td>\n",
       "      <td>negative</td>\n",
       "    </tr>\n",
       "    <tr>\n",
       "      <th>679720</th>\n",
       "      <td>498994180</td>\n",
       "      <td>https://www.tripadvisor.com/Hotel_Review-g1874...</td>\n",
       "      <td>Alma Barcelona</td>\n",
       "      <td>July 5, 2017</td>\n",
       "      <td>The hotel and rooms are very well designed aes...</td>\n",
       "      <td>n/a</td>\n",
       "      <td>John U</td>\n",
       "      <td>2</td>\n",
       "      <td>1.0</td>\n",
       "      <td>Alma_Barcelona-Barcelona_Catalonia__en.csv</td>\n",
       "      <td>links_9</td>\n",
       "      <td>Barcelona_Catalonia</td>\n",
       "      <td>Barcelona_Catalonia</td>\n",
       "      <td>John U</td>\n",
       "      <td>0.0</td>\n",
       "      <td>0</td>\n",
       "      <td>negative</td>\n",
       "    </tr>\n",
       "    <tr>\n",
       "      <th>211157</th>\n",
       "      <td>398932369</td>\n",
       "      <td>https://www.tripadvisor.com/Hotel_Review-g6076...</td>\n",
       "      <td>Hudson New York</td>\n",
       "      <td>July 29, 2016</td>\n",
       "      <td>Designed, but not workingbasically a freezer-s...</td>\n",
       "      <td>n/a</td>\n",
       "      <td>Staffan S</td>\n",
       "      <td>3</td>\n",
       "      <td>1.0</td>\n",
       "      <td>Hudson_New_York-New_York_City_New_York__en.csv</td>\n",
       "      <td>links_1</td>\n",
       "      <td>New_York_City_New_York</td>\n",
       "      <td>New_York</td>\n",
       "      <td>Staffan S</td>\n",
       "      <td>0.0</td>\n",
       "      <td>0</td>\n",
       "      <td>negative</td>\n",
       "    </tr>\n",
       "    <tr>\n",
       "      <th>...</th>\n",
       "      <td>...</td>\n",
       "      <td>...</td>\n",
       "      <td>...</td>\n",
       "      <td>...</td>\n",
       "      <td>...</td>\n",
       "      <td>...</td>\n",
       "      <td>...</td>\n",
       "      <td>...</td>\n",
       "      <td>...</td>\n",
       "      <td>...</td>\n",
       "      <td>...</td>\n",
       "      <td>...</td>\n",
       "      <td>...</td>\n",
       "      <td>...</td>\n",
       "      <td>...</td>\n",
       "      <td>...</td>\n",
       "      <td>...</td>\n",
       "    </tr>\n",
       "    <tr>\n",
       "      <th>691155</th>\n",
       "      <td>258980930</td>\n",
       "      <td>https://www.tripadvisor.com/Hotel_Review-g1874...</td>\n",
       "      <td>Hotel 1898</td>\n",
       "      <td>March 11, 2015</td>\n",
       "      <td>I absolutely love this hotel, it has a very ma...</td>\n",
       "      <td>Aguascalientes, Mexico</td>\n",
       "      <td>Herrsanchez&lt;/div&gt;&lt;div class=\"userLoc\"&gt;&lt;strong&gt;...</td>\n",
       "      <td>160</td>\n",
       "      <td>5.0</td>\n",
       "      <td>Hotel_1898-Barcelona_Catalonia__en.csv</td>\n",
       "      <td>links_9</td>\n",
       "      <td>Barcelona_Catalonia</td>\n",
       "      <td>Barcelona_Catalonia</td>\n",
       "      <td>Herrsanchez</td>\n",
       "      <td>1.0</td>\n",
       "      <td>2</td>\n",
       "      <td>positive</td>\n",
       "    </tr>\n",
       "    <tr>\n",
       "      <th>898055</th>\n",
       "      <td>643350872</td>\n",
       "      <td>https://www.tripadvisor.com/Hotel_Review-g3200...</td>\n",
       "      <td>Excellence El Carmen</td>\n",
       "      <td>January 3, 2019</td>\n",
       "      <td>This is a difficult review. Only because Excel...</td>\n",
       "      <td>Atlanta, Georgia</td>\n",
       "      <td>bertshowbert&lt;/div&gt;&lt;div class=\"userLoc\"&gt;&lt;strong...</td>\n",
       "      <td>83</td>\n",
       "      <td>4.0</td>\n",
       "      <td>Excellence_El_Carmen-Uvero_Alto_Punta_Cana_La_...</td>\n",
       "      <td>links_10</td>\n",
       "      <td>Uvero_Alto_Punta_Cana_La_Altagracia_Province_D...</td>\n",
       "      <td>Dominican_Republic</td>\n",
       "      <td>bertshowbert</td>\n",
       "      <td>1.0</td>\n",
       "      <td>2</td>\n",
       "      <td>positive</td>\n",
       "    </tr>\n",
       "    <tr>\n",
       "      <th>563991</th>\n",
       "      <td>715864553</td>\n",
       "      <td>https://www.tripadvisor.com/Hotel_Review-g2954...</td>\n",
       "      <td>Hilton Dubai Jumeirah</td>\n",
       "      <td>October 6, 2019</td>\n",
       "      <td>JBR have many hotels but what you want....matt...</td>\n",
       "      <td>Bangalore District, India</td>\n",
       "      <td>varunkamra&lt;/div&gt;&lt;div class=\"userLoc\"&gt;&lt;strong&gt;B...</td>\n",
       "      <td>68</td>\n",
       "      <td>5.0</td>\n",
       "      <td>Hilton_Dubai_Jumeirah-Dubai_Emirate_of_Dubai__...</td>\n",
       "      <td>links_8</td>\n",
       "      <td>Dubai_Emirate_of_Dubai</td>\n",
       "      <td>Dubai</td>\n",
       "      <td>varunkamra</td>\n",
       "      <td>1.0</td>\n",
       "      <td>2</td>\n",
       "      <td>positive</td>\n",
       "    </tr>\n",
       "    <tr>\n",
       "      <th>792245</th>\n",
       "      <td>574755813</td>\n",
       "      <td>https://www.tripadvisor.com/Hotel_Review-g6084...</td>\n",
       "      <td>Mercure Bali Legian</td>\n",
       "      <td>April 21, 2018</td>\n",
       "      <td>Stayed here with my fiancé for 9 nights and ha...</td>\n",
       "      <td>n/a</td>\n",
       "      <td>Chris N</td>\n",
       "      <td>9</td>\n",
       "      <td>5.0</td>\n",
       "      <td>Mercure_Bali_Legian-Legian_Kuta_District_Bali_...</td>\n",
       "      <td>links_7</td>\n",
       "      <td>Legian_Kuta_District_Bali</td>\n",
       "      <td>Bali</td>\n",
       "      <td>Chris N</td>\n",
       "      <td>1.0</td>\n",
       "      <td>2</td>\n",
       "      <td>positive</td>\n",
       "    </tr>\n",
       "    <tr>\n",
       "      <th>797272</th>\n",
       "      <td>122400383</td>\n",
       "      <td>https://www.tripadvisor.com/Hotel_Review-g1465...</td>\n",
       "      <td>Conrad Bali</td>\n",
       "      <td>January 2, 2012</td>\n",
       "      <td>My wife and I stayed here for 12 nights in Dec...</td>\n",
       "      <td>Southlake, Texas</td>\n",
       "      <td>JohnTMauiCEO&lt;/div&gt;&lt;div class=\"userLoc\"&gt;&lt;strong...</td>\n",
       "      <td>41</td>\n",
       "      <td>5.0</td>\n",
       "      <td>Conrad_Bali-Tanjung_Benoa_Nusa_Dua_Peninsula_B...</td>\n",
       "      <td>links_7</td>\n",
       "      <td>Tanjung_Benoa_Nusa_Dua_Peninsula_Bali</td>\n",
       "      <td>Bali</td>\n",
       "      <td>JohnTMauiCEO</td>\n",
       "      <td>1.0</td>\n",
       "      <td>2</td>\n",
       "      <td>positive</td>\n",
       "    </tr>\n",
       "  </tbody>\n",
       "</table>\n",
       "<p>148038 rows × 17 columns</p>\n",
       "</div>"
      ],
      "text/plain": [
       "        review_id                                                url  \\\n",
       "979894  736523580  https://www.tripadvisor.com/Hotel_Review-g1863...   \n",
       "234010  529284069  https://www.tripadvisor.com/Hotel_Review-g6098...   \n",
       "227709  575488218  https://www.tripadvisor.com/Hotel_Review-g6076...   \n",
       "679720  498994180  https://www.tripadvisor.com/Hotel_Review-g1874...   \n",
       "211157  398932369  https://www.tripadvisor.com/Hotel_Review-g6076...   \n",
       "...           ...                                                ...   \n",
       "691155  258980930  https://www.tripadvisor.com/Hotel_Review-g1874...   \n",
       "898055  643350872  https://www.tripadvisor.com/Hotel_Review-g3200...   \n",
       "563991  715864553  https://www.tripadvisor.com/Hotel_Review-g2954...   \n",
       "792245  574755813  https://www.tripadvisor.com/Hotel_Review-g6084...   \n",
       "797272  122400383  https://www.tripadvisor.com/Hotel_Review-g1465...   \n",
       "\n",
       "                          hotel_name      review_date  \\\n",
       "979894                 Strand Palace  January 3, 2020   \n",
       "234010  Ala Moana Honolulu by Mantra  October 2, 2017   \n",
       "227709           The Roosevelt Hotel   April 24, 2018   \n",
       "679720                Alma Barcelona     July 5, 2017   \n",
       "211157               Hudson New York    July 29, 2016   \n",
       "...                              ...              ...   \n",
       "691155                    Hotel 1898   March 11, 2015   \n",
       "898055          Excellence El Carmen  January 3, 2019   \n",
       "563991         Hilton Dubai Jumeirah  October 6, 2019   \n",
       "792245           Mercure Bali Legian   April 21, 2018   \n",
       "797272                   Conrad Bali  January 2, 2012   \n",
       "\n",
       "                                              review_body  \\\n",
       "979894  Booked a Superior twin for 3 nights for just o...   \n",
       "234010  Not Good and I will never recommend the Ala Mo...   \n",
       "227709  I recently stayed at the Roosevelt hotel for a...   \n",
       "679720  The hotel and rooms are very well designed aes...   \n",
       "211157  Designed, but not workingbasically a freezer-s...   \n",
       "...                                                   ...   \n",
       "691155  I absolutely love this hotel, it has a very ma...   \n",
       "898055  This is a difficult review. Only because Excel...   \n",
       "563991  JBR have many hotels but what you want....matt...   \n",
       "792245  Stayed here with my fiancé for 9 nights and ha...   \n",
       "797272  My wife and I stayed here for 12 nights in Dec...   \n",
       "\n",
       "                    user_location  \\\n",
       "979894                     Europe   \n",
       "234010            Keauhou, Hawaii   \n",
       "227709  San Francisco, California   \n",
       "679720                        n/a   \n",
       "211157                        n/a   \n",
       "...                           ...   \n",
       "691155     Aguascalientes, Mexico   \n",
       "898055           Atlanta, Georgia   \n",
       "563991  Bangalore District, India   \n",
       "792245                        n/a   \n",
       "797272           Southlake, Texas   \n",
       "\n",
       "                                                user_name  helpful_vote  \\\n",
       "979894  Argella_13</div><div class=\"userLoc\"><strong>E...            30   \n",
       "234010  I616KLrogerm</div><div class=\"userLoc\"><strong...             2   \n",
       "227709  jnow21</div><div class=\"userLoc\"><strong>San F...            20   \n",
       "679720                                             John U             2   \n",
       "211157                                          Staffan S             3   \n",
       "...                                                   ...           ...   \n",
       "691155  Herrsanchez</div><div class=\"userLoc\"><strong>...           160   \n",
       "898055  bertshowbert</div><div class=\"userLoc\"><strong...            83   \n",
       "563991  varunkamra</div><div class=\"userLoc\"><strong>B...            68   \n",
       "792245                                            Chris N             9   \n",
       "797272  JohnTMauiCEO</div><div class=\"userLoc\"><strong...            41   \n",
       "\n",
       "        rating                                                csv    folder  \\\n",
       "979894     2.0               Strand_Palace-London_England__en.csv   links_5   \n",
       "234010     1.0  Ala_Moana_Honolulu_by_Mantra-Honolulu_Oahu_Haw...   links_1   \n",
       "227709     2.0  The_Roosevelt_Hotel-New_York_City_New_York__en...   links_1   \n",
       "679720     1.0         Alma_Barcelona-Barcelona_Catalonia__en.csv   links_9   \n",
       "211157     1.0     Hudson_New_York-New_York_City_New_York__en.csv   links_1   \n",
       "...        ...                                                ...       ...   \n",
       "691155     5.0             Hotel_1898-Barcelona_Catalonia__en.csv   links_9   \n",
       "898055     4.0  Excellence_El_Carmen-Uvero_Alto_Punta_Cana_La_...  links_10   \n",
       "563991     5.0  Hilton_Dubai_Jumeirah-Dubai_Emirate_of_Dubai__...   links_8   \n",
       "792245     5.0  Mercure_Bali_Legian-Legian_Kuta_District_Bali_...   links_7   \n",
       "797272     5.0  Conrad_Bali-Tanjung_Benoa_Nusa_Dua_Peninsula_B...   links_7   \n",
       "\n",
       "                                                     city  \\\n",
       "979894                                     London_England   \n",
       "234010                               Honolulu_Oahu_Hawaii   \n",
       "227709                             New_York_City_New_York   \n",
       "679720                                Barcelona_Catalonia   \n",
       "211157                             New_York_City_New_York   \n",
       "...                                                   ...   \n",
       "691155                                Barcelona_Catalonia   \n",
       "898055  Uvero_Alto_Punta_Cana_La_Altagracia_Province_D...   \n",
       "563991                             Dubai_Emirate_of_Dubai   \n",
       "792245                          Legian_Kuta_District_Bali   \n",
       "797272              Tanjung_Benoa_Nusa_Dua_Peninsula_Bali   \n",
       "\n",
       "                         loc user_name_clean  polarity  sentiment_int  \\\n",
       "979894        London_England      Argella_13       0.0              0   \n",
       "234010  Honolulu_Oahu_Hawaii    I616KLrogerm       0.0              0   \n",
       "227709              New_York          jnow21       0.0              0   \n",
       "679720   Barcelona_Catalonia          John U       0.0              0   \n",
       "211157              New_York       Staffan S       0.0              0   \n",
       "...                      ...             ...       ...            ...   \n",
       "691155   Barcelona_Catalonia     Herrsanchez       1.0              2   \n",
       "898055    Dominican_Republic    bertshowbert       1.0              2   \n",
       "563991                 Dubai      varunkamra       1.0              2   \n",
       "792245                  Bali         Chris N       1.0              2   \n",
       "797272                  Bali    JohnTMauiCEO       1.0              2   \n",
       "\n",
       "       sentiment  \n",
       "979894  negative  \n",
       "234010  negative  \n",
       "227709  negative  \n",
       "679720  negative  \n",
       "211157  negative  \n",
       "...          ...  \n",
       "691155  positive  \n",
       "898055  positive  \n",
       "563991  positive  \n",
       "792245  positive  \n",
       "797272  positive  \n",
       "\n",
       "[148038 rows x 17 columns]"
      ]
     },
     "execution_count": 405,
     "metadata": {},
     "output_type": "execute_result"
    }
   ],
   "source": [
    "train_df_us"
   ]
  },
  {
   "cell_type": "code",
   "execution_count": 406,
   "metadata": {},
   "outputs": [
    {
     "name": "stdout",
     "output_type": "stream",
     "text": [
      "Total Number of Ratings:  148038\n"
     ]
    },
    {
     "data": {
      "text/plain": [
       "(<Figure size 720x720 with 1 Axes>,\n",
       " <matplotlib.axes._subplots.AxesSubplot at 0x1a7c42bf90>)"
      ]
     },
     "execution_count": 406,
     "metadata": {},
     "output_type": "execute_result"
    },
    {
     "data": {
      "text/plain": [
       "Text(0.5, 1, 'Balance of Review Sentiments,\\nAfter Under-Sampling Train')"
      ]
     },
     "execution_count": 406,
     "metadata": {},
     "output_type": "execute_result"
    },
    {
     "data": {
      "text/plain": [
       "Text(93.2, 0.5, '')"
      ]
     },
     "execution_count": 406,
     "metadata": {},
     "output_type": "execute_result"
    },
    {
     "data": {
      "image/png": "[encoded data removed]",
      "text/plain": [
       "<Figure size 720x720 with 1 Axes>"
      ]
     },
     "metadata": {},
     "output_type": "display_data"
    }
   ],
   "source": [
    "# Plot pie - Classes after undersampling\n",
    "print('Total Number of Ratings: ', train_df_us.shape[0])\n",
    "\n",
    "fig, ax = plt.subplots(figsize=(10,10))\n",
    "eda.plot_pie(train_df_us[TARGET], fig, ax)\n",
    "ax.set_title('Balance of Review Sentiments,\\nAfter Under-Sampling Train', size=BIGGEST_SIZE)\n",
    "ax.set_ylabel('')\n",
    "fig.savefig('imgs/pie_sentiments_train_undersample')"
   ]
  },
  {
   "cell_type": "markdown",
   "metadata": {},
   "source": [
    "# Modeling with TF-IDF"
   ]
  },
  {
   "cell_type": "code",
   "execution_count": null,
   "metadata": {
    "scrolled": false
   },
   "outputs": [],
   "source": [
    "# ! python src/preprocess.py data model"
   ]
  },
  {
   "cell_type": "markdown",
   "metadata": {},
   "source": [
    "```\n",
    "Processing files in data...\n",
    "\tNon-zip folders/files found in data: ['links_1']\n",
    "\n",
    "Splitting data into train/val/test...\n",
    "\tTrain: 213140, Val: 53285, Test: 66607\n",
    "\tMajority Class: positive, Middle Class: neutral, Minority Class: negative\n",
    "\t\tNumber positive in train: 166155\n",
    "\t\tNumber neutral in train: 26299\n",
    "\t\tNumber negative in train: 20686\n",
    "\tFinal undersampled train size: 62058\n",
    "    \n",
    "Getting bag of words for train data...\n",
    "\n",
    "Starting modeling...\n",
    "\n",
    "\tFitting LogisticRegression...\n",
    "                Scores: {'fit_time': array([14.73221493, 14.67445898, 14.61940336, 14.66072369, 14.82588744]), 'score_time': array([1.42016864, 1.41654634, 1.41894245, 1.41845775, 1.41838765]), 'test_accuracy': array([0.75580084, 0.75733161, 0.7546729 , 0.75707034, 0.75183305]), 'train_accuracy': array([0.81660154, 0.81801152, 0.81873666, 0.81743106, 0.81745121])}\n",
    "                Average train accuracy: 0.8176463969614115\n",
    "                Average test accuracy: 0.7553417483627481\n",
    "        \n",
    "        \n",
    "    Fitting MultinomialNB...\n",
    "                Scores: {'fit_time': array([10.13023186, 10.1286757 , 10.13355589, 10.13215995, 10.13620377]), 'score_time': array([1.41610551, 1.41577578, 1.4157331 , 1.41798496, 1.41525722]), 'test_accuracy': array([0.7296165 , 0.7340477 , 0.72655495, 0.73168963, 0.72959471]), 'train_accuracy': array([0.7589131 , 0.75846997, 0.75959795, 0.75797128, 0.75811227])}\n",
    "                Average train accuracy: 0.7586129151047422\n",
    "                Average test accuracy: 0.7303006974596283\n",
    "\n",
    "\n",
    "        Fitting RandomForestClassifier...\n",
    "                Scores: {'fit_time': array([135.37750936, 135.43342757, 136.33951545, 135.32857227,\n",
    "       135.47986341]), 'score_time': array([1.94026279, 1.93801475, 1.94030833, 1.94585085, 1.93872213]), 'test_accuracy': array([0.70488237, 0.70995811, 0.7087496 , 0.70904842, 0.69680122]), 'train_accuracy': array([1., 1., 1., 1., 1.])}\n",
    "                Average train accuracy: 1.0\n",
    "                Average test accuracy: 0.705887944725258\n",
    "\n",
    "\n",
    "        Fitting GradientBoostingClassifier...\n",
    "                Scores: {'fit_time': array([263.72342896, 266.55406952, 263.8704145 , 265.59878659,\n",
    "       265.58436465]), 'score_time': array([1.4826808 , 1.48225331, 1.47889447, 1.48168659, 1.48074532]), 'test_accuracy': array([0.69416694, 0.69972607, 0.69344183, 0.69800983, 0.6876964 ]), 'train_accuracy': array([0.71729847, 0.71687548, 0.71788261, 0.71780772, 0.71849256])}\n",
    "                Average train accuracy: 0.7176713680849213\n",
    "                Average test accuracy: 0.6946082131200184\n",
    "\n",
    "\n",
    "        Fitting XGBClassifier...\n",
    "                Scores: {'fit_time': array([21.48981547, 21.50380468, 21.49269342, 21.56712437, 21.57016969]), 'score_time': array([1.61389542, 1.61442304, 1.61841702, 1.60971189, 1.61087203]), 'test_accuracy': array([0.72824686, 0.73324202, 0.73001934, 0.73249537, 0.72129562]), 'train_accuracy': array([0.85400637, 0.8536438 , 0.85275752, 0.85267992, 0.85541926])}\n",
    "                Average train accuracy: 0.8537013733264303\n",
    "                Average test accuracy: 0.7290598419431495\n",
    "```"
   ]
  },
  {
   "cell_type": "markdown",
   "metadata": {},
   "source": [
    "# LSTM"
   ]
  },
  {
   "cell_type": "code",
   "execution_count": 8,
   "metadata": {
    "scrolled": true
   },
   "outputs": [
    {
     "name": "stdout",
     "output_type": "stream",
     "text": [
      "Reading data/tripadvisor_reviews_1p2m.csv...\n",
      "Cleaning data...\n",
      "\n",
      "Splitting data into train/test/val...\n",
      "\tTrain: 779120, Test: 243475, Val: 194780\n"
     ]
    }
   ],
   "source": [
    "train_df, test_df, val_df = prep.preprocess_split(CSV)"
   ]
  },
  {
   "cell_type": "code",
   "execution_count": 9,
   "metadata": {},
   "outputs": [
    {
     "name": "stdout",
     "output_type": "stream",
     "text": [
      "Taking 5pct of data - Train: 38956, Val: 9739\n"
     ]
    }
   ],
   "source": [
    "from sklearn.model_selection import train_test_split\n",
    "train_df, _ = train_test_split(train_df, train_size=0.05, shuffle=True, \\\n",
    "        stratify=train_df[TARGET], random_state=42)\n",
    "val_df, _ = train_test_split(val_df, train_size=0.05, shuffle=True, \\\n",
    "        stratify=val_df[TARGET],random_state=42)\n",
    "print('Taking 5pct of data - Train: {}, Val: {}'.format(train_df.shape[0], val_df.shape[0]))\n"
   ]
  },
  {
   "cell_type": "code",
   "execution_count": 10,
   "metadata": {},
   "outputs": [],
   "source": [
    "y_train = train_df[TARGET]"
   ]
  },
  {
   "cell_type": "code",
   "execution_count": 11,
   "metadata": {},
   "outputs": [],
   "source": [
    "from sklearn.utils import class_weight\n",
    "class_weights = class_weight.compute_class_weight('balanced',\n",
    "                                                 np.unique(y_train),\n",
    "                                                 y_train)"
   ]
  },
  {
   "cell_type": "code",
   "execution_count": 12,
   "metadata": {},
   "outputs": [
    {
     "data": {
      "text/plain": [
       "array([5.26361303, 3.81472777, 0.39248401])"
      ]
     },
     "execution_count": 12,
     "metadata": {},
     "output_type": "execute_result"
    }
   ],
   "source": [
    "class_weights"
   ]
  },
  {
   "cell_type": "code",
   "execution_count": 13,
   "metadata": {},
   "outputs": [
    {
     "name": "stdout",
     "output_type": "stream",
     "text": [
      "\n",
      "Removing punctuation and stop words from X_train/val data...\n",
      "\n",
      "Tokenizing X_train/val data...\n"
     ]
    }
   ],
   "source": [
    "# Lower case, remove punctuation and stop words from X data\n",
    "X_train_vals = train_df[FEATURE].str.lower()\n",
    "X_val_vals = val_df[FEATURE].str.lower()\n",
    "\n",
    "stopwords = prep.set_stopwords()\n",
    "stop_pat = ' | '.join(stopwords)\n",
    "\n",
    "print('\\nRemoving punctuation and stop words from X_train/val data...')\n",
    "X_train_vals = X_train_vals.str.replace('[^\\w\\s]', '')\n",
    "X_val_vals = X_val_vals.str.replace('[^\\w\\s]', '')\n",
    "\n",
    "X_train_vals = X_train_vals.str.replace(stop_pat, ' ')\n",
    "X_val_vals = X_val_vals.str.replace(stop_pat, ' ')\n",
    "\n",
    "# Tokenize X data\n",
    "print('\\nTokenizing X_train/val data...')\n",
    "X_train_vals = X_train_vals.values\n",
    "X_val_vals = X_val_vals.values"
   ]
  },
  {
   "cell_type": "code",
   "execution_count": 14,
   "metadata": {},
   "outputs": [
    {
     "data": {
      "text/plain": [
       "array(['the sheer size opulence grandeur this hotel grab the moment walk through those famous doors staff are you expect attentive unobtrusive  could easily away few days here closeted the hustle bustle the city',\n",
       "       'we spent weekend our friends this hotel was fantastic rooms were very functional marvellous d more comfy mine home bathroom very well equipped biggest plus the hotel that its very quiet quarter didnt hear anything our room 2 minutes subway station leads directly the city center  takes cca 12 mins  would trully recommend hotel ah  almost forgot price more fair such hotel  would expected higher price',\n",
       "       'stayed this hotel every year since opened have loyal customers the jumeirah brand 20 years wife  stayed here the 17th september 7 nights an executive club room celebrate 60th birthday have always loved staying this hotel have never previously the need criticise any aspect however stay extremely disappointing is now dedicated checkin executive club guests it seem the hotel completely overbooked was complete confusion to and what time afternoon tea take place resulting not enough room accommodate everyone addition guests were given less 24 hours notice the cocktail time being changed points may not appear be overly concerning when hotel charges significant amount more an executive club experience it failed deliver aligned this appears be reduction staffing numbers exacerbated confusion  staff were working were excellent did formally lodged complaint whilst  was staying the hotel  just wanted express concern complaint never addressed resulting me putting a followup email outlining issues management the hotel chosen completely ignore concerns  have no response either email would appear our custom no longer valued the jumeirah management this hotel we shall not  booking stay again',\n",
       "       ...,\n",
       "       'my wife  stayed the grand mirage april 17 till may 5 2010 had stayed the hotel ten years ago wished return sentimental reasons our stay a pleasant one the staff very very friendly were one two early irritations these were conveyed writing mr ralf luthe general manager early our stay much our surprise concerns were addressed personally mr luthe within 24 hours our complete satisfaction then our stay a delightthe d comfortable linens above average cleanliness up par grounds pool area were kept impeccably clean breakfast buffet style had enough variety satisfy any tasteof course what makes any hotel establishment the attitude staff people bal are generally friendly course the staff this hotel were exception were well turnedout endlessly cheerful helpful',\n",
       "       ' stayed here my 30th birthday last year didnt to stay an over top hotel you felt out place its not our thing had never stayed this hotel my partner heard it business check yourself on arrival put our cases away we early going the room the great thing that were central everything we walk everywhere save taxis its very modern hotel dont stay here you the traditional classical looks lobby filled artfashion books computers very nice bar serving very nice cocktails its how  would an office room lobby my house vogues kate moss book donning shelves  was heaven corridors a lovely feel them muted lighting cool pictures the wall rooms were small this didnt matter bed took up far side the room wall wall corner corner curtains infront it and blind over window you controlled a remoteas the tv  believe lighting stayed here 2 nights it amazingwe definitely  back',\n",
       "       'we stayed here our second time the quality location are perfect  would revise over over again in view hotel great staff looked us dealt all our requirements very well as returning guest had flowers my wife a cake my daughter whos birthday fell before arrived '],\n",
       "      dtype=object)"
      ]
     },
     "execution_count": 14,
     "metadata": {},
     "output_type": "execute_result"
    }
   ],
   "source": [
    "X_train_vals"
   ]
  },
  {
   "cell_type": "code",
   "execution_count": 31,
   "metadata": {},
   "outputs": [
    {
     "data": {
      "text/plain": [
       "array(['negative', 'neutral', 'positive'], dtype=object)"
      ]
     },
     "execution_count": 31,
     "metadata": {},
     "output_type": "execute_result"
    }
   ],
   "source": [
    "np.unique(y_train)"
   ]
  },
  {
   "cell_type": "markdown",
   "metadata": {},
   "source": [
    "```\n",
    "Train: 262240, Val: 65560, Test: 81950\n",
    "Majority Class: positive, Middle Class: neutral, Minority Class: negative\n",
    "\t\tNumber positive in train: 210407\n",
    "\t\tNumber neutral in train: 29262\n",
    "\t\tNumber negative in train: 22571\n",
    "\tFinal undersampled train size: 67713\n",
    "```"
   ]
  },
  {
   "cell_type": "markdown",
   "metadata": {},
   "source": [
    "## Initial"
   ]
  },
  {
   "cell_type": "markdown",
   "metadata": {},
   "source": [
    "```\n",
    "Model: \"sequential\"\n",
    "_________________________________________________________________\n",
    "Layer (type)                 Output Shape              Param #\n",
    "=================================================================\n",
    "embedding (Embedding)        (None, 250, 50)           9273100\n",
    "_________________________________________________________________\n",
    "lstm (LSTM)                  (None, 250, 50)           20200\n",
    "_________________________________________________________________\n",
    "lstm_1 (LSTM)                (None, 10)                2440\n",
    "_________________________________________________________________\n",
    "dropout (Dropout)            (None, 10)                0\n",
    "_________________________________________________________________\n",
    "dense (Dense)                (None, 8)                 88\n",
    "_________________________________________________________________\n",
    "dense_1 (Dense)              (None, 3)                 27\n",
    "=================================================================\n",
    "Total params: 9,295,855\n",
    "Trainable params: 9,295,855\n",
    "Non-trainable params: 0\n",
    "\n",
    "Epoch 1/10\n",
    "1059/1059 [==============================] - 362s 342ms/step - loss: 1.0864 - accuracy: 0.3643\n",
    "Epoch 2/10\n",
    "1059/1059 [==============================] - 373s 352ms/step - loss: 0.9109 - accuracy: 0.5358\n",
    "Epoch 3/10\n",
    "1059/1059 [==============================] - 381s 360ms/step - loss: 0.7072 - accuracy: 0.6770\n",
    "Epoch 4/10\n",
    "1059/1059 [==============================] - 381s 360ms/step - loss: 0.6283 - accuracy: 0.7241\n",
    "Epoch 5/10\n",
    "1059/1059 [==============================] - 373s 352ms/step - loss: 0.5818 - accuracy: 0.7497\n",
    "Epoch 6/10\n",
    "1059/1059 [==============================] - 376s 355ms/step - loss: 0.5502 - accuracy: 0.7666\n",
    "Epoch 7/10\n",
    "1059/1059 [==============================] - 386s 365ms/step - loss: 0.5234 - accuracy: 0.7808\n",
    "Epoch 8/10\n",
    "1059/1059 [==============================] - 384s 363ms/step - loss: 0.4974 - accuracy: 0.7972\n",
    "Epoch 9/10\n",
    "1059/1059 [==============================] - 378s 357ms/step - loss: 0.4776 - accuracy: 0.8064\n",
    "Epoch 10/10\n",
    "1059/1059 [==============================] - 386s 364ms/step - loss: 0.4598 - accuracy: 0.8167\n",
    "2117/2117 [==============================] - 97s 46ms/step - loss: 0.3970 - accuracy: 0.8528\n",
    "\n",
    "2117/2117 [==============================] - 99s 47ms/step - loss: 0.3970 - accuracy: 0.8528\n",
    "Training Accuracy:  0.852760910987854\n",
    "2049/2049 [==============================] - 117s 57ms/step - loss: 0.5592 - accuracy: 0.7957\n",
    "Test Accuracy:  0.7957443594932556\n",
    "```"
   ]
  },
  {
   "cell_type": "markdown",
   "metadata": {},
   "source": [
    "## 2nd - max_length = 200"
   ]
  },
  {
   "cell_type": "markdown",
   "metadata": {},
   "source": [
    "```\n",
    "Model: \"sequential\"\n",
    "_________________________________________________________________\n",
    "Layer (type)                 Output Shape              Param #\n",
    "=================================================================\n",
    "embedding (Embedding)        (None, None, 64)          11869568\n",
    "_________________________________________________________________\n",
    "bidirectional (Bidirectional (None, 128)               66048\n",
    "_________________________________________________________________\n",
    "dense (Dense)                (None, 64)                8256\n",
    "_________________________________________________________________\n",
    "dense_1 (Dense)              (None, 3)                 195\n",
    "=================================================================\n",
    "\n",
    "Total params: 11,944,067\n",
    "Trainable params: 11,944,067\n",
    "Non-trainable params: 0\n",
    "_________________________________________________________________\n",
    "Epoch 1/2\n",
    "2117/2117 [==============================] - 928s 438ms/step - loss: 0.6532 - accuracy: 0.7020 - val_loss: 0.4346 - val_accuracy: 0.8075\n",
    "Epoch 2/2\n",
    "2117/2117 [==============================] - 939s 444ms/step - loss: 0.5507 - accuracy: 0.7600 - val_loss: 0.3763 - val_accuracy: 0.8435\n",
    "\n",
    "Took 1871.23s to train\n",
    "2117/2117 [==============================] - 109s 52ms/step - loss: 0.4894 - accuracy: 0.7941\n",
    "Training Accuracy:  0.7940868139266968\n",
    "2049/2049 [==============================] - 103s 50ms/step - loss: 0.3763 - accuracy: 0.8435\n",
    "Test Accuracy:  0.8434563875198364\n",
    "\n",
    "saved_models/lstm_tokens5000_2epochs_20200602-21:39:36.h5\n",
    "```\n",
    "\n",
    "**Added 2 more Epochs**\n",
    "```\n",
    "Will save model to: saved_models/lstm_tokens5000_2epochs_20200602-22:34:44.h5\n",
    "\n",
    "Epoch 1/2\n",
    "2117/2117 [==============================] - 942s 445ms/step - loss: 0.5055 - accuracy: 0.7823 - val_loss: 0.4022 - val_accuracy: 0.8396\n",
    "Epoch 2/2\n",
    "2117/2117 [==============================] - 934s 441ms/step - loss: 0.4651 - accuracy: 0.8040 - val_loss: 0.4806 - val_accuracy: 0.8138\n",
    "\n",
    "Took 1880.52s to train\n",
    "```"
   ]
  },
  {
   "cell_type": "markdown",
   "metadata": {},
   "source": [
    "## 3rd - maxlen = 200, embedding_dim = 128"
   ]
  },
  {
   "cell_type": "markdown",
   "metadata": {},
   "source": [
    "```\n",
    "Will save model to: saved_models/lstm_tokens5000_2epochs_20200602-23:18:07.h5\n",
    "\n",
    "\n",
    "\n",
    "Model: \"sequential\"\n",
    "_________________________________________________________________\n",
    "Layer (type)                 Output Shape              Param #\n",
    "=================================================================\n",
    "embedding (Embedding)        (None, None, 128)         23739136\n",
    "_________________________________________________________________\n",
    "bidirectional (Bidirectional (None, 256)               263168\n",
    "_________________________________________________________________\n",
    "dense (Dense)                (None, 128)               32896\n",
    "_________________________________________________________________\n",
    "dense_1 (Dense)              (None, 3)                 387\n",
    "=================================================================\n",
    "Total params: 24,035,587\n",
    "Trainable params: 24,035,587\n",
    "Non-trainable params: 0\n",
    "_________________________________________________________________\n",
    "Epoch 1/2\n",
    "2117/2117 [==============================] - 961s 454ms/step - loss: 0.6566 - accuracy: 0.7026 - val_loss: 0.5774 - val_accuracy: 0.7563\n",
    "Epoch 2/2\n",
    "2117/2117 [==============================] - 983s 464ms/step - loss: 0.5426 - accuracy: 0.7653 - val_loss: 0.4475 - val_accuracy: 0.8238\n",
    "\n",
    "Took 1948.19s to train\n",
    "2117/2117 [==============================] - 111s 52ms/step - loss: 0.5011 - accuracy: 0.7897\n",
    "Training Accuracy:  0.7897301912307739\n",
    "2049/2049 [==============================] - 106s 52ms/step - loss: 0.4475 - accuracy: 0.8238\n",
    "Test Accuracy:  0.823825478553772\n",
    "```\n",
    "\n",
    "**Added 2 more Epochs**\n",
    "```\n",
    "Will save model to: saved_models/lstm_tokens5000_2epochs_20200602-23:58:30.h5\n",
    "\n",
    "Epoch 1/2\n",
    "2117/2117 [==============================] - 938s 443ms/step - loss: 0.4882 - accuracy: 0.7922 - val_loss: 0.4260 - val_accuracy: 0.8349\n",
    "Epoch 2/2\n",
    "2117/2117 [==============================] - 934s 441ms/step - loss: 0.4365 - accuracy: 0.8178 - val_loss: 0.5029 - val_accuracy: 0.7982\n",
    "\n",
    "Took 1876.64s to train\n",
    "2117/2117 [==============================] - 110s 52ms/step - loss: 0.3579 - accuracy: 0.8578\n",
    "Training Accuracy:  0.8578264117240906\n",
    "2049/2049 [==============================] - 106s 52ms/step - loss: 0.5029 - accuracy: 0.7982\n",
    "Test Accuracy:  0.798245906829834\n",
    "```"
   ]
  },
  {
   "cell_type": "markdown",
   "metadata": {},
   "source": [
    "## 4th - maxlen = 400, embedding_dim = 100, num_words = 10000 (prev 5000), added dropout, batch_size=500"
   ]
  },
  {
   "cell_type": "markdown",
   "metadata": {},
   "source": [
    "```\n",
    "Will save model to: saved_models/lstm_tokens5000_4epochs_20200603-01:17:09.h5\n",
    "\n",
    "Model: \"sequential\"\n",
    "_________________________________________________________________\n",
    "Layer (type)                 Output Shape              Param #\n",
    "=================================================================\n",
    "embedding (Embedding)        (None, 400, 100)          18546200\n",
    "_________________________________________________________________\n",
    "bidirectional (Bidirectional (None, 200)               160800\n",
    "_________________________________________________________________\n",
    "dense (Dense)                (None, 100)               20100\n",
    "_________________________________________________________________\n",
    "dropout (Dropout)            (None, 100)               0\n",
    "_________________________________________________________________\n",
    "dense_1 (Dense)              (None, 3)                 303\n",
    "=================================================================\n",
    "Total params: 18,727,403\n",
    "Trainable params: 18,727,403\n",
    "Non-trainable params: 0\n",
    "_________________________________________________________________\n",
    "Epoch 1/4\n",
    "136/136 [==============================] - 462s 3s/step - loss: 0.8017 - accuracy: 0.6131 - val_loss: 0.4982 - val_accuracy: 0.7918\n",
    "Epoch 2/4\n",
    "136/136 [==============================] - 460s 3s/step - loss: 0.5711 - accuracy: 0.7511 - val_loss: 0.3904 - val_accuracy: 0.8361\n",
    "Epoch 3/4\n",
    "136/136 [==============================] - 462s 3s/step - loss: 0.5264 - accuracy: 0.7771 - val_loss: 0.4610 - val_accuracy: 0.8239\n",
    "Epoch 4/4\n",
    "136/136 [==============================] - 461s 3s/step - loss: 0.4864 - accuracy: 0.7947 - val_loss: 0.4550 - val_accuracy: 0.8014\n",
    "\n",
    "Took 1858.39s to train\n",
    "2117/2117 [==============================] - 184s 87ms/step - loss: 0.4243 - accuracy: 0.8273\n",
    "Training Accuracy:  0.8273300528526306\n",
    "2049/2049 [==============================] - 173s 85ms/step - loss: 0.4550 - accuracy: 0.8014\n",
    "Test Accuracy:  0.801372766494751\n",
    "```"
   ]
  },
  {
   "cell_type": "markdown",
   "metadata": {},
   "source": [
    "## 4th - maxlen = 500, embedding_dim = 200, num_words = 10000 (prev 5000), added dropout, batch_size=1000"
   ]
  },
  {
   "cell_type": "markdown",
   "metadata": {},
   "source": [
    "```\n",
    "Will save model to: saved_models/lstm_tokens5000_5epochs_20200603-02:01:18.h5\n",
    "\n",
    "\n",
    "\n",
    "Model: \"sequential\"\n",
    "_________________________________________________________________\n",
    "Layer (type)                 Output Shape              Param #\n",
    "=================================================================\n",
    "embedding (Embedding)        (None, 500, 200)          37092400\n",
    "_________________________________________________________________\n",
    "bidirectional (Bidirectional (None, 400)               641600\n",
    "_________________________________________________________________\n",
    "dense (Dense)                (None, 200)               80200\n",
    "_________________________________________________________________\n",
    "dropout (Dropout)            (None, 200)               0\n",
    "_________________________________________________________________\n",
    "dense_1 (Dense)              (None, 3)                 603\n",
    "=================================================================\n",
    "Total params: 37,814,803\n",
    "Trainable params: 37,814,803\n",
    "Non-trainable params: 0\n",
    "_________________________________________________________________\n",
    "Epoch 1/5\n",
    "68/68 [==============================] - 673s 10s/step - loss: 0.8739 - accuracy: 0.5732 - val_loss: 0.4085 - val_accuracy: 0.8338\n",
    "Epoch 2/5\n",
    "68/68 [==============================] - 675s 10s/step - loss: 0.5580 - accuracy: 0.7590 - val_loss: 0.4630 - val_accuracy: 0.7952\n",
    "Epoch 3/5\n",
    "68/68 [==============================] - 672s 10s/step - loss: 0.4998 - accuracy: 0.7890 - val_loss: 0.4149 - val_accuracy: 0.8224\n",
    "Epoch 4/5\n",
    "68/68 [==============================] - 674s 10s/step - loss: 0.4620 - accuracy: 0.8059 - val_loss: 0.4421 - val_accuracy: 0.8206\n",
    "Epoch 5/5\n",
    "68/68 [==============================] - 676s 10s/step - loss: 0.4371 - accuracy: 0.8197 - val_loss: 0.4888 - val_accuracy: 0.7863\n",
    "\n",
    "Took 3411.24s to train\n",
    "2117/2117 [==============================] - 356s 168ms/step - loss: 0.4065 - accuracy: 0.8345\n",
    "Training Accuracy:  0.8344631195068359\n",
    "2049/2049 [==============================] - 338s 165ms/step - loss: 0.4888 - accuracy: 0.7863\n",
    "Test Accuracy:  0.7863331437110901\n",
    "```"
   ]
  },
  {
   "cell_type": "markdown",
   "metadata": {},
   "source": [
    "**Added 15 more epochs**"
   ]
  },
  {
   "cell_type": "markdown",
   "metadata": {},
   "source": []
  },
  {
   "cell_type": "markdown",
   "metadata": {},
   "source": [
    "## 4th - maxlen = 500, embedding_dim = 64, lstm_cells = 100, num_words = 5000, added another dropout layer, batch_size=500"
   ]
  },
  {
   "cell_type": "markdown",
   "metadata": {},
   "source": [
    "```\n",
    "        Train: 262240, Val: 65560, Test: 81950\n",
    "        Majority Class: positive, Middle Class: neutral, Minority Class: negative\n",
    "                Number positive in train: 210407\n",
    "                Number neutral in train: 29262\n",
    "                Number negative in train: 22571\n",
    "        Final undersampled train size: 67713\n",
    "\n",
    "Will save model to: saved_models/lstm_tokens5000_10epochs_20200603-03:54:24.h5\n",
    "\n",
    "Model: \"sequential\"\n",
    "_________________________________________________________________\n",
    "Layer (type)                 Output Shape              Param #\n",
    "=================================================================\n",
    "embedding (Embedding)        (None, 500, 64)           11869568\n",
    "_________________________________________________________________\n",
    "dropout (Dropout)            (None, 500, 64)           0\n",
    "_________________________________________________________________\n",
    "bidirectional (Bidirectional (None, 200)               132000\n",
    "_________________________________________________________________\n",
    "dense (Dense)                (None, 400)               80400\n",
    "_________________________________________________________________\n",
    "dropout_1 (Dropout)          (None, 400)               0\n",
    "_________________________________________________________________\n",
    "dense_1 (Dense)              (None, 3)                 1203\n",
    "=================================================================\n",
    "Total params: 12,083,171\n",
    "Trainable params: 12,083,171\n",
    "Non-trainable params: 0\n",
    "__________________________________________________________\n",
    "Epoch 1/10\n",
    "136/136 [==============================] - 565s 4s/step - loss: 0.7649 - accuracy: 0.6313 - val_loss: 0.5214 - val_accuracy: 0.7995\n",
    "Epoch 2/10\n",
    "136/136 [==============================] - 569s 4s/step - loss: 0.5628 - accuracy: 0.7526 - val_loss: 0.4160 - val_accuracy: 0.8436\n",
    "Epoch 3/10\n",
    "136/136 [==============================] - 564s 4s/step - loss: 0.5211 - accuracy: 0.7749 - val_loss: 0.4198 - val_accuracy: 0.8173\n",
    "Epoch 4/10\n",
    "136/136 [==============================] - 569s 4s/step - loss: 0.5006 - accuracy: 0.7862 - val_loss: 0.3700 - val_accuracy: 0.8438\n",
    "Epoch 5/10\n",
    "136/136 [==============================] - 568s 4s/step - loss: 0.4915 - accuracy: 0.7914 - val_loss: 0.4074 - val_accuracy: 0.8350\n",
    "Epoch 6/10\n",
    "136/136 [==============================] - 564s 4s/step - loss: 0.4723 - accuracy: 0.7996 - val_loss: 0.3928 - val_accuracy: 0.8379\n",
    "Epoch 7/10\n",
    "136/136 [==============================] - 563s 4s/step - loss: 0.4586 - accuracy: 0.8072 - val_loss: 0.4425 - val_accuracy: 0.8199\n",
    "Epoch 8/10\n",
    "136/136 [==============================] - 565s 4s/step - loss: 0.4618 - accuracy: 0.8071 - val_loss: 0.4907 - val_accuracy: 0.8134\n",
    "Epoch 9/10\n",
    "136/136 [==============================] - 565s 4s/step - loss: 0.4475 - accuracy: 0.8130 - val_loss: 0.4125 - val_accuracy: 0.8351\n",
    "Epoch 10/10\n",
    "136/136 [==============================] - 566s 4s/step - loss: 0.4327 - accuracy: 0.8185 - val_loss: 0.4203 - val_accuracy: 0.8363\n",
    "\n",
    "Took 5689.54s to train\n",
    "2117/2117 [==============================] - 234s 110ms/step - loss: 0.3933 - accuracy: 0.8364\n",
    "Training Accuracy:  0.8364420533180237\n",
    "2049/2049 [==============================] - 216s 105ms/step - loss: 0.4203 - accuracy: 0.8363\n",
    "Test Accuracy:  0.8363178968429565\n",
    "```"
   ]
  },
  {
   "cell_type": "markdown",
   "metadata": {},
   "source": [
    "## 5th - Same as above + 1 LSTM layer, more data!"
   ]
  },
  {
   "cell_type": "markdown",
   "metadata": {},
   "source": [
    "```\n",
    "       Train: 529232, Val: 132309, Test: 165386\n",
    "        Majority Class: positive, Middle Class: neutral, Minority Class: negative\n",
    "                Number positive in train: 441995\n",
    "                Number neutral in train: 50299\n",
    "                Number negative in train: 36938\n",
    "        Final undersampled train size: 110814\n",
    "\n",
    "Will save model to: saved_models/lstm_tokens5000_7epochs_20200603-17:10:40.h5\n",
    "\n",
    "\n",
    "\n",
    "Model: \"sequential\"\n",
    "_________________________________________________________________\n",
    "Layer (type)                 Output Shape              Param #\n",
    "=================================================================\n",
    "embedding (Embedding)        (None, 500, 64)           18985408\n",
    "_________________________________________________________________\n",
    "dropout (Dropout)            (None, 500, 64)           0\n",
    "_________________________________________________________________\n",
    "bidirectional (Bidirectional (None, 500, 200)          132000\n",
    "_________________________________________________________________\n",
    "bidirectional_1 (Bidirection (None, 200)               240800\n",
    "_________________________________________________________________\n",
    "dropout_1 (Dropout)          (None, 200)               0\n",
    "_________________________________________________________________\n",
    "dense (Dense)                (None, 400)               80400\n",
    "_________________________________________________________________\n",
    "dense_1 (Dense)              (None, 3)                 1203\n",
    "=================================================================\n",
    "Total params: 19,439,811\n",
    "Trainable params: 19,439,811\n",
    "Non-trainable params: 0\n",
    "_________________________________________________________________\n",
    "Epoch 1/7\n",
    "111/111 [==============================] - 1649s 15s/step - loss: 0.7433 - accuracy: 0.6435 - val_loss: 0.4512 - val_accuracy: 0.8069\n",
    "Epoch 2/7\n",
    "111/111 [==============================] - 1648s 15s/step - loss: 0.5435 - accuracy: 0.7643 - val_loss: 0.4282 - val_accuracy: 0.8177\n",
    "Epoch 3/7\n",
    "111/111 [==============================] - 1651s 15s/step - loss: 0.5121 - accuracy: 0.7813 - val_loss: 0.4322 - val_accuracy: 0.8137\n",
    "Epoch 4/7\n",
    "111/111 [==============================] - 1653s 15s/step - loss: 0.4957 - accuracy: 0.7875 - val_loss: 0.4342 - val_accuracy: 0.8161\n",
    "Epoch 5/7\n",
    "111/111 [==============================] - 1654s 15s/step - loss: 0.4857 - accuracy: 0.7934 - val_loss: 0.3630 - val_accuracy: 0.8485\n",
    "Epoch 6/7\n",
    "111/111 [==============================] - 1654s 15s/step - loss: 0.4729 - accuracy: 0.7991 - val_loss: 0.3904 - val_accuracy: 0.8349\n",
    "Epoch 7/7\n",
    "111/111 [==============================] - 1651s 15s/step - loss: 0.4692 - accuracy: 0.8011 - val_loss: 0.3930 - val_accuracy: 0.8361\n",
    "\n",
    "Took 11638.19s to train\n",
    "3463/3463 [==============================] - 1409s 407ms/step - loss: 0.4372 - accuracy: 0.8174\n",
    "Training Accuracy:  0.8173967003822327\n",
    "4135/4135 [==============================] - 2448s 592ms/step - loss: 0.3930 - accuracy: 0.8361\n",
    "Test Accuracy:  0.8360655903816223\n",
    "```"
   ]
  },
  {
   "cell_type": "markdown",
   "metadata": {},
   "source": [
    "# 6th\n",
    "* Changed trunc type 'pre' -> 'post'\n",
    "* Fit tokenizer on undersampled train data only (prev fit on all data...)\n",
    "* Added oov token\n",
    "```\n",
    "    maxlen = 400 #PARAMS\n",
    "    oov_tok = '<OOV>'\n",
    "    num_words = 5000\n",
    "    trunc_type = 'post'\n",
    "    padding_type = 'post'\n",
    "    embedding_dim=64 #PARAMS\n",
    "    lstm_cells = 96 #PARAMS\n",
    "    batch_size=1024 #PARAMS\n",
    "```\n",
    "\n",
    "```\n",
    "Will save model to: saved_models/lstm_tokens5000_10epochs_20200603-20:33:06.h5\n",
    "Model: \"sequential\"\n",
    "_________________________________________________________________\n",
    "Layer (type)                 Output Shape              Param #\n",
    "=================================================================\n",
    "embedding (Embedding)        (None, 400, 64)           6489728\n",
    "_________________________________________________________________\n",
    "dropout (Dropout)            (None, 400, 64)           0\n",
    "_________________________________________________________________\n",
    "bidirectional (Bidirectional (None, 400, 192)          123648\n",
    "_________________________________________________________________\n",
    "bidirectional_1 (Bidirection (None, 192)               221952\n",
    "_________________________________________________________________\n",
    "dropout_1 (Dropout)          (None, 192)               0\n",
    "_________________________________________________________________\n",
    "dense (Dense)                (None, 384)               74112\n",
    "_________________________________________________________________\n",
    "dense_1 (Dense)              (None, 3)                 1155\n",
    "=================================================================\n",
    "Total params: 6,910,595\n",
    "Trainable params: 6,910,595\n",
    "Non-trainable params: 0\n",
    "```\n",
    "```_________________________________________________________________\n",
    "Epoch 1/10\n",
    "109/109 [==============================] - 2188s 20s/step - loss: 0.7259 - accuracy: 0.6476 - val_loss: 0.3155 - val_accuracy: 0.8693\n",
    "Epoch 2/10\n",
    "109/109 [==============================] - 1792s 16s/step - loss: 0.5380 - accuracy: 0.7657 - val_loss: 0.4426 - val_accuracy: 0.8186\n",
    "Epoch 3/10\n",
    "109/109 [==============================] - 1252s 11s/step - loss: 0.5082 - accuracy: 0.7808 - val_loss: 0.4700 - val_accuracy: 0.8048\n",
    "Epoch 4/10\n",
    "109/109 [==============================] - 1253s 11s/step - loss: 0.4923 - accuracy: 0.7899 - val_loss: 0.3965 - val_accuracy: 0.8461\n",
    "Epoch 5/10\n",
    "109/109 [==============================] - 1251s 11s/step - loss: 0.4809 - accuracy: 0.7947 - val_loss: 0.4030 - val_accuracy: 0.8402\n",
    "Epoch 6/10\n",
    "109/109 [==============================] - 1251s 11s/step - loss: 0.4706 - accuracy: 0.7992 - val_loss: 0.4467 - val_accuracy: 0.8115\n",
    "Epoch 7/10\n",
    "109/109 [==============================] - 1255s 12s/step - loss: 0.4608 - accuracy: 0.8045 - val_loss: 0.4321 - val_accuracy: 0.8258\n",
    "Epoch 8/10\n",
    "109/109 [==============================] - 1254s 12s/step - loss: 0.4521 - accuracy: 0.8085 - val_loss: 0.3993 - val_accuracy: 0.8421\n",
    "Epoch 9/10\n",
    "109/109 [==============================] - 1252s 11s/step - loss: 0.4453 - accuracy: 0.8116 - val_loss: 0.3885 - val_accuracy: 0.8482\n",
    "Epoch 10/10\n",
    "109/109 [==============================] - 1251s 11s/step - loss: 0.4374 - accuracy: 0.8151 - val_loss: 0.3958 - val_accuracy: 0.8468\n",
    "\n",
    "Took 14100.57s to train\n",
    "3463/3463 [==============================] - 618s 178ms/step - loss: 0.4206 - accuracy: 0.8255\n",
    "Training Accuracy:  0.8255454897880554\n",
    "4135/4135 [==============================] - 775s 187ms/step - loss: 0.3958 - accuracy: 0.8468\n",
    "Test Accuracy:  0.8467527031898499\n",
    "```"
   ]
  },
  {
   "cell_type": "markdown",
   "metadata": {},
   "source": [
    "    * Future steps - Filter stopwords, stem/lemmatize!"
   ]
  },
  {
   "cell_type": "markdown",
   "metadata": {},
   "source": [
    "# Filtered stopwords, punctuation"
   ]
  },
  {
   "cell_type": "markdown",
   "metadata": {},
   "source": [
    "```\n",
    "Will save model to: saved_models/lstm_tokens5000_15epochs_20200604-01:15:42.h5\n",
    "\n",
    "\n",
    "\n",
    "Model: \"sequential\"\n",
    "_________________________________________________________________\n",
    "Layer (type)                 Output Shape              Param #\n",
    "=================================================================\n",
    "embedding (Embedding)        (None, 400, 64)           11723712\n",
    "_________________________________________________________________\n",
    "dropout (Dropout)            (None, 400, 64)           0\n",
    "_________________________________________________________________\n",
    "bidirectional (Bidirectional (None, 400, 192)          123648\n",
    "_________________________________________________________________\n",
    "bidirectional_1 (Bidirection (None, 192)               221952\n",
    "_________________________________________________________________\n",
    "dropout_1 (Dropout)          (None, 192)               0\n",
    "_________________________________________________________________\n",
    "dense (Dense)                (None, 384)               74112\n",
    "_________________________________________________________________\n",
    "dense_1 (Dense)              (None, 4)                 1540\n",
    "=================================================================\n",
    "Total params: 12,144,964\n",
    "Trainable params: 12,144,964\n",
    "Non-trainable params: 0\n",
    "_________________________________________________________________\n",
    "Epoch 1/15\n",
    "109/109 [==============================] - 1256s 12s/step - loss: 0.8117 - accuracy: 0.5944 - val_loss: 0.3260 - val_accuracy: 0.8708\n",
    "Epoch 2/15\n",
    "109/109 [==============================] - 1260s 12s/step - loss: 0.5677 - accuracy: 0.7496 - val_loss: 0.4532 - val_accuracy: 0.8121\n",
    "Epoch 3/15\n",
    "109/109 [==============================] - 1259s 12s/step - loss: 0.5267 - accuracy: 0.7723 - val_loss: 0.4615 - val_accuracy: 0.8253\n",
    "Epoch 4/15\n",
    "109/109 [==============================] - 1261s 12s/step - loss: 0.5062 - accuracy: 0.7834 - val_loss: 0.4083 - val_accuracy: 0.8211\n",
    "Epoch 5/15\n",
    "109/109 [==============================] - 1261s 12s/step - loss: 0.4958 - accuracy: 0.7893 - val_loss: 0.3933 - val_accuracy: 0.8405\n",
    "Epoch 6/15\n",
    "109/109 [==============================] - 1260s 12s/step - loss: 0.4838 - accuracy: 0.7938 - val_loss: 0.3510 - val_accuracy: 0.8596\n",
    "Epoch 7/15\n",
    "109/109 [==============================] - 1256s 12s/step - loss: 0.4715 - accuracy: 0.8010 - val_loss: 0.4201 - val_accuracy: 0.8359\n",
    "Epoch 8/15\n",
    "109/109 [==============================] - 1256s 12s/step - loss: 0.4637 - accuracy: 0.8041 - val_loss: 0.4225 - val_accuracy: 0.8284\n",
    "Epoch 9/15\n",
    "109/109 [==============================] - 1261s 12s/step - loss: 0.4577 - accuracy: 0.8073 - val_loss: 0.3611 - val_accuracy: 0.8566\n",
    "Epoch 10/15\n",
    "109/109 [==============================] - 1267s 12s/step - loss: 0.4477 - accuracy: 0.8114 - val_loss: 0.4180 - val_accuracy: 0.8329\n",
    "Epoch 11/15\n",
    "109/109 [==============================] - 1266s 12s/step - loss: 0.4397 - accuracy: 0.8157 - val_loss: 0.4120 - val_accuracy: 0.8358\n",
    "Epoch 12/15\n",
    "109/109 [==============================] - 1263s 12s/step - loss: 0.4350 - accuracy: 0.8162 - val_loss: 0.4117 - val_accuracy: 0.8349\n",
    "Epoch 13/15\n",
    "109/109 [==============================] - 1259s 12s/step - loss: 0.4265 - accuracy: 0.8216 - val_loss: 0.4176 - val_accuracy: 0.8328\n",
    "Epoch 14/15\n",
    "109/109 [==============================] - 1265s 12s/step - loss: 0.4225 - accuracy: 0.8225 - val_loss: 0.4480 - val_accuracy: 0.8161\n",
    "Epoch 15/15\n",
    "109/109 [==============================] - 1257s 12s/step - loss: 0.4118 - accuracy: 0.8292 - val_loss: 0.4059 - val_accuracy: 0.8382\n",
    "\n",
    "Took 19032.49s to train\n",
    "3463/3463 [==============================] - 638s 184ms/step - loss: 0.3843 - accuracy: 0.8424\n",
    "Training Accuracy:  0.8423574566841125\n",
    "4135/4135 [==============================] - 748s 181ms/step - loss: 0.4059 - accuracy: 0.8382\n",
    "Test Accuracy:  0.8382498621940613\n",
    "\n",
    "```"
   ]
  },
  {
   "cell_type": "markdown",
   "metadata": {},
   "source": [
    "```\n",
    "Will save model to: saved_models/lstm_tokens5000_5epochs_20200604-17:50:30.h5\n",
    "\n",
    "\n",
    "\n",
    "Model: \"sequential\"\n",
    "_________________________________________________________________\n",
    "Layer (type)                 Output Shape              Param #\n",
    "=================================================================\n",
    "embedding (Embedding)        (None, None, 64)          16755840\n",
    "_________________________________________________________________\n",
    "bidirectional (Bidirectional (None, 128)               66048\n",
    "_________________________________________________________________\n",
    "dropout (Dropout)            (None, 128)               0\n",
    "_________________________________________________________________\n",
    "dense (Dense)                (None, 64)                8256\n",
    "_________________________________________________________________\n",
    "dense_1 (Dense)              (None, 4)                 260\n",
    "=================================================================\n",
    "Total params: 16,830,404\n",
    "Trainable params: 16,830,404\n",
    "Non-trainable params: 0\n",
    "_________________________________________________________________\n",
    "```"
   ]
  },
  {
   "cell_type": "markdown",
   "metadata": {},
   "source": [
    "# Final LSTM Modeling"
   ]
  },
  {
   "cell_type": "markdown",
   "metadata": {},
   "source": [
    "```\n",
    "Splitting data into train/test/val...\n",
    "        Train: 779120, Test: 243475, Val: 194780\n",
    "Taking 0.1pct of data - Train: 779, Val: 194\n",
    "\n",
    "Removing punctuation and stop words from X_train/val data...\n",
    "\n",
    "Tokenizing X_train/val data...\n",
    "\n",
    "Starting modeling...\n",
    "\n",
    "Will save model to: saved_models/lstm_tokens5000_10epochs_20200605-05:28:10.h5\n",
    "\n",
    "\n",
    "\n",
    "Model: \"sequential\"\n",
    "_________________________________________________________________\n",
    "Layer (type)                 Output Shape              Param #\n",
    "=================================================================\n",
    "embedding (Embedding)        (None, None, 64)          550912\n",
    "_________________________________________________________________\n",
    "bidirectional (Bidirectional (None, 128)               66048\n",
    "_________________________________________________________________\n",
    "dropout (Dropout)            (None, 128)               0\n",
    "_________________________________________________________________\n",
    "dense (Dense)                (None, 64)                8256\n",
    "_________________________________________________________________\n",
    "dense_1 (Dense)              (None, 4)                 260\n",
    "=================================================================\n",
    "Total params: 625,476\n",
    "Trainable params: 625,476\n",
    "Non-trainable params: 0\n",
    "_________________________________________________________________\n",
    "_________________________________________________________________\n",
    "Epoch 1/10\n",
    "25/25 [==============================] - 9s 374ms/step - loss: 0.9142 - accuracy: 0.8087 - precision: 0.5600 - recall: 0.5213 - multiclass_true_positives: 630.0000 - val_loss: 0.5474 - val_accuracy: 0.8505 - val_precision: 1.0000 - val_recall: 1.0000 - val_multiclass_true_positives: 165.0000\n",
    "Epoch 2/10\n",
    "25/25 [==============================] - 9s 344ms/step - loss: 0.5506 - accuracy: 0.8498 - precision: 1.0000 - recall: 1.0000 - multiclass_true_positives: 662.0000 - val_loss: 0.5347 - val_accuracy: 0.8505 - val_precision: 1.0000 - val_recall: 1.0000 - val_multiclass_true_positives: 165.0000\n",
    "Epoch 3/10\n",
    "25/25 [==============================] - 9s 347ms/step - loss: 0.5173 - accuracy: 0.8498 - precision: 1.0000 - recall: 0.9987 - multiclass_true_positives: 662.0000 - val_loss: 0.5216 - val_accuracy: 0.8505 - val_precision: 1.0000 - val_recall: 1.0000 - val_multiclass_true_positives: 165.0000\n",
    "Epoch 4/10\n",
    "25/25 [==============================] - 9s 346ms/step - loss: 0.4348 - accuracy: 0.8498 - precision: 1.0000 - recall: 0.9812 - multiclass_true_positives: 662.0000 - val_loss: 0.4847 - val_accuracy: 0.8505 - val_precision: 1.0000 - val_recall: 0.9688 - val_multiclass_true_positives: 165.0000\n",
    "Epoch 5/10\n",
    "25/25 [==============================] - 9s 347ms/step - loss: 0.3057 - accuracy: 0.8793 - precision: 1.0000 - recall: 0.8965 - multiclass_true_positives: 685.0000 - val_loss: 0.4945 - val_accuracy: 0.8505 - val_precision: 1.0000 - val_recall: 0.9018 - val_multiclass_true_positives: 165.0000\n",
    "Epoch 6/10\n",
    "25/25 [==============================] - 9s 346ms/step - loss: 0.1712 - accuracy: 0.9320 - precision: 1.0000 - recall: 0.9375 - multiclass_true_positives: 726.0000 - val_loss: 0.6507 - val_accuracy: 0.8454 - val_precision: 1.0000 - val_recall: 0.9821 - val_multiclass_true_positives: 164.0000\n",
    "Epoch 7/10\n",
    "25/25 [==============================] - 7s 299ms/step - loss: 0.1071 - accuracy: 0.9461 - precision: 1.0000 - recall: 0.9837 - multiclass_true_positives: 737.0000 - val_loss: 0.7997 - val_accuracy: 0.8505 - val_precision: 1.0000 - val_recall: 0.9955 - val_multiclass_true_positives: 165.0000\n",
    "Epoch 8/10\n",
    "25/25 [==============================] - 7s 296ms/step - loss: 0.1065 - accuracy: 0.9384 - precision: 1.0000 - recall: 0.9937 - multiclass_true_positives: 731.0000 - val_loss: 0.8961 - val_accuracy: 0.8505 - val_precision: 1.0000 - val_recall: 1.0000 - val_multiclass_true_positives: 165.0000\n",
    "Epoch 9/10\n",
    "25/25 [==============================] - 7s 297ms/step - loss: 0.0914 - accuracy: 0.9551 - precision: 1.0000 - recall: 0.9950 - multiclass_true_positives: 744.0000 - val_loss: 0.9024 - val_accuracy: 0.8505 - val_precision: 1.0000 - val_recall: 0.9911 - val_multiclass_true_positives: 165.0000\n",
    "Epoch 10/10\n",
    "25/25 [==============================] - 7s 298ms/step - loss: 0.0761 - accuracy: 0.9718 - precision: 1.0000 - recall: 0.9987 - multiclass_true_positives: 757.0000 - val_loss: 0.7651 - val_accuracy: 0.8247 - val_precision: 1.0000 - val_recall: 1.0000 - val_multiclass_true_positives: 160.0000\n",
    "\n",
    "Took 89.12s to train\n",
    "25/25 [==============================] - 2s 60ms/step - loss: 0.0473 - accuracy: 0.9859 - precision: 1.0000 - recall: 1.0000 - multiclass_true_positives: 768.0000\n",
    "Training Accuracy:  0.9858793616294861\n",
    "7/7 [==============================] - 0s 47ms/step - loss: 0.7651 - accuracy: 0.8247 - precision: 1.0000 - recall: 1.0000 - multiclass_true_positives: 160.0000\n",
    "Test Accuracy:  0.8247422575950623\n",
    "```"
   ]
  },
  {
   "cell_type": "markdown",
   "metadata": {},
   "source": [
    "```\n",
    "lstm_tokens5000_10epochs_20200605-05:34:21\n",
    " * Added additional lstm layer\n",
    "=================================================================\n",
    "embedding (Embedding)        (None, None, 64)          550976\n",
    "_________________________________________________________________\n",
    "bidirectional (Bidirectional (None, None, 128)         66048\n",
    "_________________________________________________________________\n",
    "bidirectional_1 (Bidirection (None, 128)               98816\n",
    "_________________________________________________________________\n",
    "dropout (Dropout)            (None, 128)               0\n",
    "_________________________________________________________________\n",
    "dense (Dense)                (None, 64)                8256\n",
    "_________________________________________________________________\n",
    "dense_1 (Dense)              (None, 4)                 260\n",
    "=================================================================\n",
    "Total params: 724,356\n",
    "Trainable params: 724,356\n",
    "Non-trainable params: 0\n",
    "_________________________________________________________________\n",
    "Epoch 1/10\n",
    "25/25 [==============================] - 19s 746ms/step - loss: 0.7682 - accuracy: 0.8434 - precision: 0.7600 - recall: 0.7175 - multiclass_true_positives: 657.0000 - val_loss: 0.5325 - val_accuracy: 0.8505 - val_precision: 1.0000 - val_recall: 1.0000 - val_multiclass_true_positives: 165.0000\n",
    "Epoch 2/10\n",
    "25/25 [==============================] - 18s 701ms/step - loss: 0.5643 - accuracy: 0.8498 - precision: 1.0000 - recall: 1.0000 - multiclass_true_positives: 662.0000 - val_loss: 0.5389 - val_accuracy: 0.8505 - val_precision: 1.0000 - val_recall: 1.0000 - val_multiclass_true_positives: 165.0000\n",
    "Epoch 3/10\n",
    "25/25 [==============================] - 17s 700ms/step - loss: 0.4875 - accuracy: 0.8524 - precision: 1.0000 - recall: 0.9839 - multiclass_true_positives: 664.0000 - val_loss: 0.4581 - val_accuracy: 0.8454 - val_precision: 1.0000 - val_recall: 0.9107 - val_multiclass_true_positives: 164.0000\n",
    "Epoch 4/10\n",
    "25/25 [==============================] - 18s 715ms/step - loss: 0.2699 - accuracy: 0.8896 - precision: 1.0000 - recall: 0.9162 - multiclass_true_positives: 693.0000 - val_loss: 0.5413 - val_accuracy: 0.8505 - val_precision: 1.0000 - val_recall: 0.8929 - val_multiclass_true_positives: 165.0000\n",
    "Epoch 5/10\n",
    "25/25 [==============================] - 18s 719ms/step - loss: 0.1595 - accuracy: 0.9204 - precision: 1.0000 - recall: 0.9425 - multiclass_true_positives: 717.0000 - val_loss: 0.7885 - val_accuracy: 0.8402 - val_precision: 1.0000 - val_recall: 0.9955 - val_multiclass_true_positives: 163.0000\n",
    "Epoch 6/10\n",
    "25/25 [==============================] - 18s 721ms/step - loss: 0.1213 - accuracy: 0.9384 - precision: 1.0000 - recall: 0.9975 - multiclass_true_positives: 731.0000 - val_loss: 0.7138 - val_accuracy: 0.8144 - val_precision: 1.0000 - val_recall: 0.9821 - val_multiclass_true_positives: 158.0000\n",
    "Epoch 7/10\n",
    "25/25 [==============================] - 18s 720ms/step - loss: 0.1014 - accuracy: 0.9435 - precision: 1.0000 - recall: 0.9950 - multiclass_true_positives: 735.0000 - val_loss: 0.8246 - val_accuracy: 0.8144 - val_precision: 1.0000 - val_recall: 0.9911 - val_multiclass_true_positives: 158.0000\n",
    "Epoch 8/10\n",
    "25/25 [==============================] - 16s 628ms/step - loss: 0.0946 - accuracy: 0.9474 - precision: 1.0000 - recall: 0.9987 - multiclass_true_positives: 738.0000 - val_loss: 0.9326 - val_accuracy: 0.8247 - val_precision: 1.0000 - val_recall: 0.9911 - val_multiclass_true_positives: 160.0000\n",
    "Epoch 9/10\n",
    "25/25 [==============================] - 16s 628ms/step - loss: 0.0920 - accuracy: 0.9551 - precision: 1.0000 - recall: 0.9975 - multiclass_true_positives: 744.0000 - val_loss: 0.9205 - val_accuracy: 0.8144 - val_precision: 1.0000 - val_recall: 0.9911 - val_multiclass_true_positives: 158.0000\n",
    "Epoch 10/10\n",
    "25/25 [==============================] - 16s 632ms/step - loss: 0.0713 - accuracy: 0.9743 - precision: 1.0000 - recall: 0.9987 - multiclass_true_positives: 759.0000 - val_loss: 0.8640 - val_accuracy: 0.7887 - val_precision: 1.0000 - val_recall: 1.0000 - val_multiclass_true_positives: 153.0000\n",
    "\n",
    "Took 185.67s to train\n",
    "25/25 [==============================] - 3s 121ms/step - loss: 0.0586 - accuracy: 0.9641 - precision: 1.0000 - recall: 1.0000 - multiclass_true_positives: 751.0000\n",
    "Training Accuracy:  0.9640564918518066\n",
    "7/7 [==============================] - 1s 95ms/step - loss: 0.8640 - accuracy: 0.7887 - precision: 1.0000 - recall: 1.0000 - multiclass_true_positives: 153.0000\n",
    "Test Accuracy:  0.7886598110198975\n",
    "```"
   ]
  },
  {
   "cell_type": "code",
   "execution_count": null,
   "metadata": {},
   "outputs": [],
   "source": []
  }
 ],
 "metadata": {
  "kernelspec": {
   "display_name": "Python 3",
   "language": "python",
   "name": "python3"
  },
  "language_info": {
   "codemirror_mode": {
    "name": "ipython",
    "version": 3
   },
   "file_extension": ".py",
   "mimetype": "text/x-python",
   "name": "python",
   "nbconvert_exporter": "python",
   "pygments_lexer": "ipython3",
   "version": "3.7.7"
  }
 },
 "nbformat": 4,
 "nbformat_minor": 4
}
