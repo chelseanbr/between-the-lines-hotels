{
 "cells": [
  {
   "cell_type": "code",
   "execution_count": 16,
   "metadata": {},
   "outputs": [
    {
     "name": "stdout",
     "output_type": "stream",
     "text": [
      "The autoreload extension is already loaded. To reload it, use:\n",
      "  %reload_ext autoreload\n"
     ]
    }
   ],
   "source": [
    "%load_ext autoreload\n",
    "%autoreload 2"
   ]
  },
  {
   "cell_type": "code",
   "execution_count": 21,
   "metadata": {},
   "outputs": [],
   "source": [
    "import src.preprocess as prep\n",
    "\n",
    "import pandas as pd"
   ]
  },
  {
   "cell_type": "code",
   "execution_count": 22,
   "metadata": {},
   "outputs": [
    {
     "name": "stdout",
     "output_type": "stream",
     "text": [
      "Non-zip folders/files found in data: ['links_1']\n"
     ]
    }
   ],
   "source": [
    "path_to_dir = 'data'\n",
    "\n",
    "df = prep.merge_csv_mult_dir(path_to_dir)"
   ]
  },
  {
   "cell_type": "code",
   "execution_count": 23,
   "metadata": {},
   "outputs": [
    {
     "data": {
      "text/html": [
       "<div>\n",
       "<style scoped>\n",
       "    .dataframe tbody tr th:only-of-type {\n",
       "        vertical-align: middle;\n",
       "    }\n",
       "\n",
       "    .dataframe tbody tr th {\n",
       "        vertical-align: top;\n",
       "    }\n",
       "\n",
       "    .dataframe thead th {\n",
       "        text-align: right;\n",
       "    }\n",
       "</style>\n",
       "<table border=\"1\" class=\"dataframe\">\n",
       "  <thead>\n",
       "    <tr style=\"text-align: right;\">\n",
       "      <th></th>\n",
       "      <th>review_id</th>\n",
       "      <th>url</th>\n",
       "      <th>hotel_name</th>\n",
       "      <th>review_date</th>\n",
       "      <th>review_body</th>\n",
       "      <th>user_location</th>\n",
       "      <th>user_name</th>\n",
       "      <th>helpful_vote</th>\n",
       "      <th>rating</th>\n",
       "      <th>csv</th>\n",
       "      <th>folder</th>\n",
       "    </tr>\n",
       "  </thead>\n",
       "  <tbody>\n",
       "    <tr>\n",
       "      <th>0</th>\n",
       "      <td>751960476</td>\n",
       "      <td>https://www.tripadvisor.com/Hotel_Review-g6098...</td>\n",
       "      <td>Best Western The Plaza Hotel</td>\n",
       "      <td>March 28, 2020</td>\n",
       "      <td>Originally I picked this hotel as it was near ...</td>\n",
       "      <td>Phoenix, Arizona</td>\n",
       "      <td>thechronictraveller&lt;/div&gt;&lt;div class=\"userLoc\"&gt;...</td>\n",
       "      <td>23</td>\n",
       "      <td>4.0</td>\n",
       "      <td>Best_Western_The_Plaza_Hotel-Honolulu_Oahu_Haw...</td>\n",
       "      <td>links_1</td>\n",
       "    </tr>\n",
       "    <tr>\n",
       "      <th>1</th>\n",
       "      <td>736861148</td>\n",
       "      <td>https://www.tripadvisor.com/Hotel_Review-g6098...</td>\n",
       "      <td>Best Western The Plaza Hotel</td>\n",
       "      <td>January 4, 2020</td>\n",
       "      <td>This is a great hotel. It's away from Waikiki ...</td>\n",
       "      <td>Lewisburg, Tennessee</td>\n",
       "      <td>bitsmom_tn&lt;/div&gt;&lt;div class=\"userLoc\"&gt;&lt;strong&gt;L...</td>\n",
       "      <td>56</td>\n",
       "      <td>5.0</td>\n",
       "      <td>Best_Western_The_Plaza_Hotel-Honolulu_Oahu_Haw...</td>\n",
       "      <td>links_1</td>\n",
       "    </tr>\n",
       "    <tr>\n",
       "      <th>2</th>\n",
       "      <td>751805209</td>\n",
       "      <td>https://www.tripadvisor.com/Hotel_Review-g6098...</td>\n",
       "      <td>Best Western The Plaza Hotel</td>\n",
       "      <td>March 25, 2020</td>\n",
       "      <td>When I checked out of my room, I left my Kindl...</td>\n",
       "      <td>NaN</td>\n",
       "      <td>D7133GLjoannew</td>\n",
       "      <td>0</td>\n",
       "      <td>5.0</td>\n",
       "      <td>Best_Western_The_Plaza_Hotel-Honolulu_Oahu_Haw...</td>\n",
       "      <td>links_1</td>\n",
       "    </tr>\n",
       "    <tr>\n",
       "      <th>3</th>\n",
       "      <td>749977541</td>\n",
       "      <td>https://www.tripadvisor.com/Hotel_Review-g6098...</td>\n",
       "      <td>Best Western The Plaza Hotel</td>\n",
       "      <td>March 8, 2020</td>\n",
       "      <td>Honestly, I was not expecting much but the hot...</td>\n",
       "      <td>Los Angeles</td>\n",
       "      <td>Adrian L&lt;/div&gt;&lt;div class=\"userLoc\"&gt;&lt;strong&gt;Los...</td>\n",
       "      <td>209</td>\n",
       "      <td>4.0</td>\n",
       "      <td>Best_Western_The_Plaza_Hotel-Honolulu_Oahu_Haw...</td>\n",
       "      <td>links_1</td>\n",
       "    </tr>\n",
       "    <tr>\n",
       "      <th>4</th>\n",
       "      <td>749895049</td>\n",
       "      <td>https://www.tripadvisor.com/Hotel_Review-g6098...</td>\n",
       "      <td>Best Western The Plaza Hotel</td>\n",
       "      <td>March 8, 2020</td>\n",
       "      <td>Clean and convenient place if you need to be n...</td>\n",
       "      <td>NaN</td>\n",
       "      <td>Lydia B</td>\n",
       "      <td>0</td>\n",
       "      <td>4.0</td>\n",
       "      <td>Best_Western_The_Plaza_Hotel-Honolulu_Oahu_Haw...</td>\n",
       "      <td>links_1</td>\n",
       "    </tr>\n",
       "  </tbody>\n",
       "</table>\n",
       "</div>"
      ],
      "text/plain": [
       "   review_id                                                url  \\\n",
       "0  751960476  https://www.tripadvisor.com/Hotel_Review-g6098...   \n",
       "1  736861148  https://www.tripadvisor.com/Hotel_Review-g6098...   \n",
       "2  751805209  https://www.tripadvisor.com/Hotel_Review-g6098...   \n",
       "3  749977541  https://www.tripadvisor.com/Hotel_Review-g6098...   \n",
       "4  749895049  https://www.tripadvisor.com/Hotel_Review-g6098...   \n",
       "\n",
       "                     hotel_name      review_date  \\\n",
       "0  Best Western The Plaza Hotel   March 28, 2020   \n",
       "1  Best Western The Plaza Hotel  January 4, 2020   \n",
       "2  Best Western The Plaza Hotel   March 25, 2020   \n",
       "3  Best Western The Plaza Hotel    March 8, 2020   \n",
       "4  Best Western The Plaza Hotel    March 8, 2020   \n",
       "\n",
       "                                         review_body         user_location  \\\n",
       "0  Originally I picked this hotel as it was near ...      Phoenix, Arizona   \n",
       "1  This is a great hotel. It's away from Waikiki ...  Lewisburg, Tennessee   \n",
       "2  When I checked out of my room, I left my Kindl...                   NaN   \n",
       "3  Honestly, I was not expecting much but the hot...           Los Angeles   \n",
       "4  Clean and convenient place if you need to be n...                   NaN   \n",
       "\n",
       "                                           user_name  helpful_vote  rating  \\\n",
       "0  thechronictraveller</div><div class=\"userLoc\">...            23     4.0   \n",
       "1  bitsmom_tn</div><div class=\"userLoc\"><strong>L...            56     5.0   \n",
       "2                                     D7133GLjoannew             0     5.0   \n",
       "3  Adrian L</div><div class=\"userLoc\"><strong>Los...           209     4.0   \n",
       "4                                            Lydia B             0     4.0   \n",
       "\n",
       "                                                 csv   folder  \n",
       "0  Best_Western_The_Plaza_Hotel-Honolulu_Oahu_Haw...  links_1  \n",
       "1  Best_Western_The_Plaza_Hotel-Honolulu_Oahu_Haw...  links_1  \n",
       "2  Best_Western_The_Plaza_Hotel-Honolulu_Oahu_Haw...  links_1  \n",
       "3  Best_Western_The_Plaza_Hotel-Honolulu_Oahu_Haw...  links_1  \n",
       "4  Best_Western_The_Plaza_Hotel-Honolulu_Oahu_Haw...  links_1  "
      ]
     },
     "execution_count": 23,
     "metadata": {},
     "output_type": "execute_result"
    }
   ],
   "source": [
    "df.head()"
   ]
  },
  {
   "cell_type": "code",
   "execution_count": 24,
   "metadata": {},
   "outputs": [
    {
     "name": "stdout",
     "output_type": "stream",
     "text": [
      "<class 'pandas.core.frame.DataFrame'>\n",
      "RangeIndex: 333032 entries, 0 to 333031\n",
      "Data columns (total 11 columns):\n",
      " #   Column         Non-Null Count   Dtype  \n",
      "---  ------         --------------   -----  \n",
      " 0   review_id      333032 non-null  int64  \n",
      " 1   url            333032 non-null  object \n",
      " 2   hotel_name     333032 non-null  object \n",
      " 3   review_date    333032 non-null  object \n",
      " 4   review_body    333032 non-null  object \n",
      " 5   user_location  278816 non-null  object \n",
      " 6   user_name      333032 non-null  object \n",
      " 7   helpful_vote   333032 non-null  int64  \n",
      " 8   rating         333032 non-null  float64\n",
      " 9   csv            333032 non-null  object \n",
      " 10  folder         333032 non-null  object \n",
      "dtypes: float64(1), int64(2), object(8)\n",
      "memory usage: 27.9+ MB\n"
     ]
    }
   ],
   "source": [
    "df.info()"
   ]
  },
  {
   "cell_type": "code",
   "execution_count": null,
   "metadata": {},
   "outputs": [],
   "source": []
  }
 ],
 "metadata": {
  "kernelspec": {
   "display_name": "Python 3",
   "language": "python",
   "name": "python3"
  },
  "language_info": {
   "codemirror_mode": {
    "name": "ipython",
    "version": 3
   },
   "file_extension": ".py",
   "mimetype": "text/x-python",
   "name": "python",
   "nbconvert_exporter": "python",
   "pygments_lexer": "ipython3",
   "version": "3.7.7"
  }
 },
 "nbformat": 4,
 "nbformat_minor": 4
}
