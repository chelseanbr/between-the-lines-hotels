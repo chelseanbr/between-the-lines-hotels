{
 "cells": [
  {
   "cell_type": "code",
   "execution_count": 1,
   "metadata": {},
   "outputs": [],
   "source": [
    "%load_ext autoreload\n",
    "%autoreload 2"
   ]
  },
  {
   "cell_type": "code",
   "execution_count": 2,
   "metadata": {},
   "outputs": [],
   "source": [
    "import src.preprocess as prep\n",
    "import src.eda as eda\n",
    "\n",
    "import numpy as np\n",
    "import pandas as pd\n",
    "import matplotlib.pyplot as plt\n",
    "import seaborn as sns\n",
    "from sklearn.model_selection import train_test_split"
   ]
  },
  {
   "cell_type": "code",
   "execution_count": 3,
   "metadata": {},
   "outputs": [],
   "source": [
    "# Set plot sizes\n",
    "SMALL_SIZE = 22\n",
    "MEDIUM_SIZE = 24\n",
    "BIGGER_SIZE = 26\n",
    "BIGGEST_SIZE = 28\n",
    "\n",
    "plt.rc('font', size=SMALL_SIZE)          # controls default text sizes\n",
    "plt.rc('axes', titlesize=SMALL_SIZE)     # fontsize of the axes title\n",
    "plt.rc('axes', labelsize=MEDIUM_SIZE)    # fontsize of the x and y labels\n",
    "plt.rc('xtick', labelsize=SMALL_SIZE)    # fontsize of the tick labels\n",
    "plt.rc('ytick', labelsize=SMALL_SIZE)    # fontsize of the tick labels\n",
    "plt.rc('legend', fontsize=SMALL_SIZE)    # legend fontsize\n",
    "plt.rc('figure', titlesize=BIGGEST_SIZE)  # fontsize of the figure title"
   ]
  },
  {
   "cell_type": "markdown",
   "metadata": {},
   "source": [
    "# Load Data"
   ]
  },
  {
   "cell_type": "code",
   "execution_count": 4,
   "metadata": {},
   "outputs": [
    {
     "name": "stdout",
     "output_type": "stream",
     "text": [
      "Non-zip folders/files found in data: ['links_1']\n"
     ]
    }
   ],
   "source": [
    "path_to_dir = 'data'\n",
    "\n",
    "df = prep.merge_csv_mult_dir(path_to_dir)"
   ]
  },
  {
   "cell_type": "code",
   "execution_count": 5,
   "metadata": {},
   "outputs": [
    {
     "name": "stdout",
     "output_type": "stream",
     "text": [
      "Shape: (333032, 11)\n"
     ]
    },
    {
     "data": {
      "text/html": [
       "<div>\n",
       "<style scoped>\n",
       "    .dataframe tbody tr th:only-of-type {\n",
       "        vertical-align: middle;\n",
       "    }\n",
       "\n",
       "    .dataframe tbody tr th {\n",
       "        vertical-align: top;\n",
       "    }\n",
       "\n",
       "    .dataframe thead th {\n",
       "        text-align: right;\n",
       "    }\n",
       "</style>\n",
       "<table border=\"1\" class=\"dataframe\">\n",
       "  <thead>\n",
       "    <tr style=\"text-align: right;\">\n",
       "      <th></th>\n",
       "      <th>review_id</th>\n",
       "      <th>url</th>\n",
       "      <th>hotel_name</th>\n",
       "      <th>review_date</th>\n",
       "      <th>review_body</th>\n",
       "      <th>user_location</th>\n",
       "      <th>user_name</th>\n",
       "      <th>helpful_vote</th>\n",
       "      <th>rating</th>\n",
       "      <th>csv</th>\n",
       "      <th>folder</th>\n",
       "    </tr>\n",
       "  </thead>\n",
       "  <tbody>\n",
       "    <tr>\n",
       "      <th>0</th>\n",
       "      <td>751960476</td>\n",
       "      <td>https://www.tripadvisor.com/Hotel_Review-g6098...</td>\n",
       "      <td>Best Western The Plaza Hotel</td>\n",
       "      <td>March 28, 2020</td>\n",
       "      <td>Originally I picked this hotel as it was near ...</td>\n",
       "      <td>Phoenix, Arizona</td>\n",
       "      <td>thechronictraveller&lt;/div&gt;&lt;div class=\"userLoc\"&gt;...</td>\n",
       "      <td>23</td>\n",
       "      <td>4.0</td>\n",
       "      <td>Best_Western_The_Plaza_Hotel-Honolulu_Oahu_Haw...</td>\n",
       "      <td>links_1</td>\n",
       "    </tr>\n",
       "    <tr>\n",
       "      <th>1</th>\n",
       "      <td>736861148</td>\n",
       "      <td>https://www.tripadvisor.com/Hotel_Review-g6098...</td>\n",
       "      <td>Best Western The Plaza Hotel</td>\n",
       "      <td>January 4, 2020</td>\n",
       "      <td>This is a great hotel. It's away from Waikiki ...</td>\n",
       "      <td>Lewisburg, Tennessee</td>\n",
       "      <td>bitsmom_tn&lt;/div&gt;&lt;div class=\"userLoc\"&gt;&lt;strong&gt;L...</td>\n",
       "      <td>56</td>\n",
       "      <td>5.0</td>\n",
       "      <td>Best_Western_The_Plaza_Hotel-Honolulu_Oahu_Haw...</td>\n",
       "      <td>links_1</td>\n",
       "    </tr>\n",
       "    <tr>\n",
       "      <th>2</th>\n",
       "      <td>751805209</td>\n",
       "      <td>https://www.tripadvisor.com/Hotel_Review-g6098...</td>\n",
       "      <td>Best Western The Plaza Hotel</td>\n",
       "      <td>March 25, 2020</td>\n",
       "      <td>When I checked out of my room, I left my Kindl...</td>\n",
       "      <td>NaN</td>\n",
       "      <td>D7133GLjoannew</td>\n",
       "      <td>0</td>\n",
       "      <td>5.0</td>\n",
       "      <td>Best_Western_The_Plaza_Hotel-Honolulu_Oahu_Haw...</td>\n",
       "      <td>links_1</td>\n",
       "    </tr>\n",
       "    <tr>\n",
       "      <th>3</th>\n",
       "      <td>749977541</td>\n",
       "      <td>https://www.tripadvisor.com/Hotel_Review-g6098...</td>\n",
       "      <td>Best Western The Plaza Hotel</td>\n",
       "      <td>March 8, 2020</td>\n",
       "      <td>Honestly, I was not expecting much but the hot...</td>\n",
       "      <td>Los Angeles</td>\n",
       "      <td>Adrian L&lt;/div&gt;&lt;div class=\"userLoc\"&gt;&lt;strong&gt;Los...</td>\n",
       "      <td>209</td>\n",
       "      <td>4.0</td>\n",
       "      <td>Best_Western_The_Plaza_Hotel-Honolulu_Oahu_Haw...</td>\n",
       "      <td>links_1</td>\n",
       "    </tr>\n",
       "    <tr>\n",
       "      <th>4</th>\n",
       "      <td>749895049</td>\n",
       "      <td>https://www.tripadvisor.com/Hotel_Review-g6098...</td>\n",
       "      <td>Best Western The Plaza Hotel</td>\n",
       "      <td>March 8, 2020</td>\n",
       "      <td>Clean and convenient place if you need to be n...</td>\n",
       "      <td>NaN</td>\n",
       "      <td>Lydia B</td>\n",
       "      <td>0</td>\n",
       "      <td>4.0</td>\n",
       "      <td>Best_Western_The_Plaza_Hotel-Honolulu_Oahu_Haw...</td>\n",
       "      <td>links_1</td>\n",
       "    </tr>\n",
       "  </tbody>\n",
       "</table>\n",
       "</div>"
      ],
      "text/plain": [
       "   review_id                                                url  \\\n",
       "0  751960476  https://www.tripadvisor.com/Hotel_Review-g6098...   \n",
       "1  736861148  https://www.tripadvisor.com/Hotel_Review-g6098...   \n",
       "2  751805209  https://www.tripadvisor.com/Hotel_Review-g6098...   \n",
       "3  749977541  https://www.tripadvisor.com/Hotel_Review-g6098...   \n",
       "4  749895049  https://www.tripadvisor.com/Hotel_Review-g6098...   \n",
       "\n",
       "                     hotel_name      review_date  \\\n",
       "0  Best Western The Plaza Hotel   March 28, 2020   \n",
       "1  Best Western The Plaza Hotel  January 4, 2020   \n",
       "2  Best Western The Plaza Hotel   March 25, 2020   \n",
       "3  Best Western The Plaza Hotel    March 8, 2020   \n",
       "4  Best Western The Plaza Hotel    March 8, 2020   \n",
       "\n",
       "                                         review_body         user_location  \\\n",
       "0  Originally I picked this hotel as it was near ...      Phoenix, Arizona   \n",
       "1  This is a great hotel. It's away from Waikiki ...  Lewisburg, Tennessee   \n",
       "2  When I checked out of my room, I left my Kindl...                   NaN   \n",
       "3  Honestly, I was not expecting much but the hot...           Los Angeles   \n",
       "4  Clean and convenient place if you need to be n...                   NaN   \n",
       "\n",
       "                                           user_name  helpful_vote  rating  \\\n",
       "0  thechronictraveller</div><div class=\"userLoc\">...            23     4.0   \n",
       "1  bitsmom_tn</div><div class=\"userLoc\"><strong>L...            56     5.0   \n",
       "2                                     D7133GLjoannew             0     5.0   \n",
       "3  Adrian L</div><div class=\"userLoc\"><strong>Los...           209     4.0   \n",
       "4                                            Lydia B             0     4.0   \n",
       "\n",
       "                                                 csv   folder  \n",
       "0  Best_Western_The_Plaza_Hotel-Honolulu_Oahu_Haw...  links_1  \n",
       "1  Best_Western_The_Plaza_Hotel-Honolulu_Oahu_Haw...  links_1  \n",
       "2  Best_Western_The_Plaza_Hotel-Honolulu_Oahu_Haw...  links_1  \n",
       "3  Best_Western_The_Plaza_Hotel-Honolulu_Oahu_Haw...  links_1  \n",
       "4  Best_Western_The_Plaza_Hotel-Honolulu_Oahu_Haw...  links_1  "
      ]
     },
     "execution_count": 5,
     "metadata": {},
     "output_type": "execute_result"
    }
   ],
   "source": [
    "print('Shape:', df.shape)\n",
    "df.head()"
   ]
  },
  {
   "cell_type": "code",
   "execution_count": 6,
   "metadata": {},
   "outputs": [
    {
     "data": {
      "text/html": [
       "<div>\n",
       "<style scoped>\n",
       "    .dataframe tbody tr th:only-of-type {\n",
       "        vertical-align: middle;\n",
       "    }\n",
       "\n",
       "    .dataframe tbody tr th {\n",
       "        vertical-align: top;\n",
       "    }\n",
       "\n",
       "    .dataframe thead th {\n",
       "        text-align: right;\n",
       "    }\n",
       "</style>\n",
       "<table border=\"1\" class=\"dataframe\">\n",
       "  <thead>\n",
       "    <tr style=\"text-align: right;\">\n",
       "      <th></th>\n",
       "      <th>Total</th>\n",
       "      <th>Percent</th>\n",
       "      <th>Type</th>\n",
       "    </tr>\n",
       "  </thead>\n",
       "  <tbody>\n",
       "    <tr>\n",
       "      <th>user_location</th>\n",
       "      <td>54216</td>\n",
       "      <td>0.162795</td>\n",
       "      <td>object</td>\n",
       "    </tr>\n",
       "    <tr>\n",
       "      <th>folder</th>\n",
       "      <td>0</td>\n",
       "      <td>0.000000</td>\n",
       "      <td>object</td>\n",
       "    </tr>\n",
       "    <tr>\n",
       "      <th>csv</th>\n",
       "      <td>0</td>\n",
       "      <td>0.000000</td>\n",
       "      <td>object</td>\n",
       "    </tr>\n",
       "    <tr>\n",
       "      <th>rating</th>\n",
       "      <td>0</td>\n",
       "      <td>0.000000</td>\n",
       "      <td>float64</td>\n",
       "    </tr>\n",
       "    <tr>\n",
       "      <th>helpful_vote</th>\n",
       "      <td>0</td>\n",
       "      <td>0.000000</td>\n",
       "      <td>int64</td>\n",
       "    </tr>\n",
       "    <tr>\n",
       "      <th>user_name</th>\n",
       "      <td>0</td>\n",
       "      <td>0.000000</td>\n",
       "      <td>object</td>\n",
       "    </tr>\n",
       "    <tr>\n",
       "      <th>review_body</th>\n",
       "      <td>0</td>\n",
       "      <td>0.000000</td>\n",
       "      <td>object</td>\n",
       "    </tr>\n",
       "    <tr>\n",
       "      <th>review_date</th>\n",
       "      <td>0</td>\n",
       "      <td>0.000000</td>\n",
       "      <td>object</td>\n",
       "    </tr>\n",
       "    <tr>\n",
       "      <th>hotel_name</th>\n",
       "      <td>0</td>\n",
       "      <td>0.000000</td>\n",
       "      <td>object</td>\n",
       "    </tr>\n",
       "    <tr>\n",
       "      <th>url</th>\n",
       "      <td>0</td>\n",
       "      <td>0.000000</td>\n",
       "      <td>object</td>\n",
       "    </tr>\n",
       "    <tr>\n",
       "      <th>review_id</th>\n",
       "      <td>0</td>\n",
       "      <td>0.000000</td>\n",
       "      <td>int64</td>\n",
       "    </tr>\n",
       "  </tbody>\n",
       "</table>\n",
       "</div>"
      ],
      "text/plain": [
       "               Total   Percent     Type\n",
       "user_location  54216  0.162795   object\n",
       "folder             0  0.000000   object\n",
       "csv                0  0.000000   object\n",
       "rating             0  0.000000  float64\n",
       "helpful_vote       0  0.000000    int64\n",
       "user_name          0  0.000000   object\n",
       "review_body        0  0.000000   object\n",
       "review_date        0  0.000000   object\n",
       "hotel_name         0  0.000000   object\n",
       "url                0  0.000000   object\n",
       "review_id          0  0.000000    int64"
      ]
     },
     "execution_count": 6,
     "metadata": {},
     "output_type": "execute_result"
    }
   ],
   "source": [
    "eda.get_nulls(df)"
   ]
  },
  {
   "cell_type": "code",
   "execution_count": 7,
   "metadata": {},
   "outputs": [
    {
     "name": "stdout",
     "output_type": "stream",
     "text": [
      "Shape: (333032, 16)\n"
     ]
    },
    {
     "data": {
      "text/html": [
       "<div>\n",
       "<style scoped>\n",
       "    .dataframe tbody tr th:only-of-type {\n",
       "        vertical-align: middle;\n",
       "    }\n",
       "\n",
       "    .dataframe tbody tr th {\n",
       "        vertical-align: top;\n",
       "    }\n",
       "\n",
       "    .dataframe thead th {\n",
       "        text-align: right;\n",
       "    }\n",
       "</style>\n",
       "<table border=\"1\" class=\"dataframe\">\n",
       "  <thead>\n",
       "    <tr style=\"text-align: right;\">\n",
       "      <th></th>\n",
       "      <th>review_id</th>\n",
       "      <th>url</th>\n",
       "      <th>hotel_name</th>\n",
       "      <th>review_date</th>\n",
       "      <th>review_body</th>\n",
       "      <th>user_location</th>\n",
       "      <th>user_name</th>\n",
       "      <th>helpful_vote</th>\n",
       "      <th>rating</th>\n",
       "      <th>csv</th>\n",
       "      <th>folder</th>\n",
       "      <th>city</th>\n",
       "      <th>user_name_clean</th>\n",
       "      <th>polarity</th>\n",
       "      <th>sentiment_int</th>\n",
       "      <th>sentiment</th>\n",
       "    </tr>\n",
       "  </thead>\n",
       "  <tbody>\n",
       "    <tr>\n",
       "      <th>0</th>\n",
       "      <td>751960476</td>\n",
       "      <td>https://www.tripadvisor.com/Hotel_Review-g6098...</td>\n",
       "      <td>Best Western The Plaza Hotel</td>\n",
       "      <td>March 28, 2020</td>\n",
       "      <td>Originally I picked this hotel as it was near ...</td>\n",
       "      <td>Phoenix, Arizona</td>\n",
       "      <td>thechronictraveller&lt;/div&gt;&lt;div class=\"userLoc\"&gt;...</td>\n",
       "      <td>23</td>\n",
       "      <td>4.0</td>\n",
       "      <td>Best_Western_The_Plaza_Hotel-Honolulu_Oahu_Haw...</td>\n",
       "      <td>links_1</td>\n",
       "      <td>Honolulu_Oahu_Hawaii</td>\n",
       "      <td>thechronictraveller</td>\n",
       "      <td>1.0</td>\n",
       "      <td>2</td>\n",
       "      <td>positive</td>\n",
       "    </tr>\n",
       "    <tr>\n",
       "      <th>1</th>\n",
       "      <td>736861148</td>\n",
       "      <td>https://www.tripadvisor.com/Hotel_Review-g6098...</td>\n",
       "      <td>Best Western The Plaza Hotel</td>\n",
       "      <td>January 4, 2020</td>\n",
       "      <td>This is a great hotel. It's away from Waikiki ...</td>\n",
       "      <td>Lewisburg, Tennessee</td>\n",
       "      <td>bitsmom_tn&lt;/div&gt;&lt;div class=\"userLoc\"&gt;&lt;strong&gt;L...</td>\n",
       "      <td>56</td>\n",
       "      <td>5.0</td>\n",
       "      <td>Best_Western_The_Plaza_Hotel-Honolulu_Oahu_Haw...</td>\n",
       "      <td>links_1</td>\n",
       "      <td>Honolulu_Oahu_Hawaii</td>\n",
       "      <td>bitsmom_tn</td>\n",
       "      <td>1.0</td>\n",
       "      <td>2</td>\n",
       "      <td>positive</td>\n",
       "    </tr>\n",
       "    <tr>\n",
       "      <th>2</th>\n",
       "      <td>751805209</td>\n",
       "      <td>https://www.tripadvisor.com/Hotel_Review-g6098...</td>\n",
       "      <td>Best Western The Plaza Hotel</td>\n",
       "      <td>March 25, 2020</td>\n",
       "      <td>When I checked out of my room, I left my Kindl...</td>\n",
       "      <td>n/a</td>\n",
       "      <td>D7133GLjoannew</td>\n",
       "      <td>0</td>\n",
       "      <td>5.0</td>\n",
       "      <td>Best_Western_The_Plaza_Hotel-Honolulu_Oahu_Haw...</td>\n",
       "      <td>links_1</td>\n",
       "      <td>Honolulu_Oahu_Hawaii</td>\n",
       "      <td>D7133GLjoannew</td>\n",
       "      <td>1.0</td>\n",
       "      <td>2</td>\n",
       "      <td>positive</td>\n",
       "    </tr>\n",
       "    <tr>\n",
       "      <th>3</th>\n",
       "      <td>749977541</td>\n",
       "      <td>https://www.tripadvisor.com/Hotel_Review-g6098...</td>\n",
       "      <td>Best Western The Plaza Hotel</td>\n",
       "      <td>March 8, 2020</td>\n",
       "      <td>Honestly, I was not expecting much but the hot...</td>\n",
       "      <td>Los Angeles</td>\n",
       "      <td>Adrian L&lt;/div&gt;&lt;div class=\"userLoc\"&gt;&lt;strong&gt;Los...</td>\n",
       "      <td>209</td>\n",
       "      <td>4.0</td>\n",
       "      <td>Best_Western_The_Plaza_Hotel-Honolulu_Oahu_Haw...</td>\n",
       "      <td>links_1</td>\n",
       "      <td>Honolulu_Oahu_Hawaii</td>\n",
       "      <td>Adrian L</td>\n",
       "      <td>1.0</td>\n",
       "      <td>2</td>\n",
       "      <td>positive</td>\n",
       "    </tr>\n",
       "    <tr>\n",
       "      <th>4</th>\n",
       "      <td>749895049</td>\n",
       "      <td>https://www.tripadvisor.com/Hotel_Review-g6098...</td>\n",
       "      <td>Best Western The Plaza Hotel</td>\n",
       "      <td>March 8, 2020</td>\n",
       "      <td>Clean and convenient place if you need to be n...</td>\n",
       "      <td>n/a</td>\n",
       "      <td>Lydia B</td>\n",
       "      <td>0</td>\n",
       "      <td>4.0</td>\n",
       "      <td>Best_Western_The_Plaza_Hotel-Honolulu_Oahu_Haw...</td>\n",
       "      <td>links_1</td>\n",
       "      <td>Honolulu_Oahu_Hawaii</td>\n",
       "      <td>Lydia B</td>\n",
       "      <td>1.0</td>\n",
       "      <td>2</td>\n",
       "      <td>positive</td>\n",
       "    </tr>\n",
       "  </tbody>\n",
       "</table>\n",
       "</div>"
      ],
      "text/plain": [
       "   review_id                                                url  \\\n",
       "0  751960476  https://www.tripadvisor.com/Hotel_Review-g6098...   \n",
       "1  736861148  https://www.tripadvisor.com/Hotel_Review-g6098...   \n",
       "2  751805209  https://www.tripadvisor.com/Hotel_Review-g6098...   \n",
       "3  749977541  https://www.tripadvisor.com/Hotel_Review-g6098...   \n",
       "4  749895049  https://www.tripadvisor.com/Hotel_Review-g6098...   \n",
       "\n",
       "                     hotel_name      review_date  \\\n",
       "0  Best Western The Plaza Hotel   March 28, 2020   \n",
       "1  Best Western The Plaza Hotel  January 4, 2020   \n",
       "2  Best Western The Plaza Hotel   March 25, 2020   \n",
       "3  Best Western The Plaza Hotel    March 8, 2020   \n",
       "4  Best Western The Plaza Hotel    March 8, 2020   \n",
       "\n",
       "                                         review_body         user_location  \\\n",
       "0  Originally I picked this hotel as it was near ...      Phoenix, Arizona   \n",
       "1  This is a great hotel. It's away from Waikiki ...  Lewisburg, Tennessee   \n",
       "2  When I checked out of my room, I left my Kindl...                   n/a   \n",
       "3  Honestly, I was not expecting much but the hot...           Los Angeles   \n",
       "4  Clean and convenient place if you need to be n...                   n/a   \n",
       "\n",
       "                                           user_name  helpful_vote  rating  \\\n",
       "0  thechronictraveller</div><div class=\"userLoc\">...            23     4.0   \n",
       "1  bitsmom_tn</div><div class=\"userLoc\"><strong>L...            56     5.0   \n",
       "2                                     D7133GLjoannew             0     5.0   \n",
       "3  Adrian L</div><div class=\"userLoc\"><strong>Los...           209     4.0   \n",
       "4                                            Lydia B             0     4.0   \n",
       "\n",
       "                                                 csv   folder  \\\n",
       "0  Best_Western_The_Plaza_Hotel-Honolulu_Oahu_Haw...  links_1   \n",
       "1  Best_Western_The_Plaza_Hotel-Honolulu_Oahu_Haw...  links_1   \n",
       "2  Best_Western_The_Plaza_Hotel-Honolulu_Oahu_Haw...  links_1   \n",
       "3  Best_Western_The_Plaza_Hotel-Honolulu_Oahu_Haw...  links_1   \n",
       "4  Best_Western_The_Plaza_Hotel-Honolulu_Oahu_Haw...  links_1   \n",
       "\n",
       "                   city      user_name_clean  polarity  sentiment_int  \\\n",
       "0  Honolulu_Oahu_Hawaii  thechronictraveller       1.0              2   \n",
       "1  Honolulu_Oahu_Hawaii           bitsmom_tn       1.0              2   \n",
       "2  Honolulu_Oahu_Hawaii       D7133GLjoannew       1.0              2   \n",
       "3  Honolulu_Oahu_Hawaii             Adrian L       1.0              2   \n",
       "4  Honolulu_Oahu_Hawaii              Lydia B       1.0              2   \n",
       "\n",
       "  sentiment  \n",
       "0  positive  \n",
       "1  positive  \n",
       "2  positive  \n",
       "3  positive  \n",
       "4  positive  "
      ]
     },
     "execution_count": 7,
     "metadata": {},
     "output_type": "execute_result"
    }
   ],
   "source": [
    "df = prep.clean_and_prep(df)\n",
    "\n",
    "print('Shape:', df.shape)\n",
    "df.head()"
   ]
  },
  {
   "cell_type": "code",
   "execution_count": 8,
   "metadata": {},
   "outputs": [
    {
     "name": "stdout",
     "output_type": "stream",
     "text": [
      "<class 'pandas.core.frame.DataFrame'>\n",
      "Int64Index: 333032 entries, 0 to 333031\n",
      "Data columns (total 16 columns):\n",
      " #   Column           Non-Null Count   Dtype  \n",
      "---  ------           --------------   -----  \n",
      " 0   review_id        333032 non-null  int64  \n",
      " 1   url              333032 non-null  object \n",
      " 2   hotel_name       333032 non-null  object \n",
      " 3   review_date      333032 non-null  object \n",
      " 4   review_body      333032 non-null  object \n",
      " 5   user_location    333032 non-null  object \n",
      " 6   user_name        333032 non-null  object \n",
      " 7   helpful_vote     333032 non-null  int64  \n",
      " 8   rating           333032 non-null  float64\n",
      " 9   csv              333032 non-null  object \n",
      " 10  folder           333032 non-null  object \n",
      " 11  city             333032 non-null  object \n",
      " 12  user_name_clean  333032 non-null  object \n",
      " 13  polarity         333032 non-null  float64\n",
      " 14  sentiment_int    333032 non-null  int64  \n",
      " 15  sentiment        333032 non-null  object \n",
      "dtypes: float64(2), int64(3), object(11)\n",
      "memory usage: 43.2+ MB\n"
     ]
    }
   ],
   "source": [
    "df.info()"
   ]
  },
  {
   "cell_type": "markdown",
   "metadata": {},
   "source": [
    "# EDA"
   ]
  },
  {
   "cell_type": "code",
   "execution_count": 9,
   "metadata": {},
   "outputs": [
    {
     "name": "stdout",
     "output_type": "stream",
     "text": [
      "Count of Unique Values per Column:\n",
      "\n",
      "review_id: 333028\n",
      "url: 66685\n",
      "hotel_name: 263\n",
      "review_date: 5647\n",
      "review_body: 332985\n",
      "user_location: 35217\n",
      "user_name: 293810\n",
      "helpful_vote: 901\n",
      "rating: 5\n",
      "csv: 263\n",
      "folder: 1\n",
      "city: 41\n",
      "user_name_clean: 261294\n",
      "polarity: 3\n",
      "sentiment_int: 3\n",
      "sentiment: 3\n"
     ]
    }
   ],
   "source": [
    "eda.print_unique_ct(df)"
   ]
  },
  {
   "cell_type": "code",
   "execution_count": 10,
   "metadata": {},
   "outputs": [
    {
     "data": {
      "text/html": [
       "<div>\n",
       "<style scoped>\n",
       "    .dataframe tbody tr th:only-of-type {\n",
       "        vertical-align: middle;\n",
       "    }\n",
       "\n",
       "    .dataframe tbody tr th {\n",
       "        vertical-align: top;\n",
       "    }\n",
       "\n",
       "    .dataframe thead th {\n",
       "        text-align: right;\n",
       "    }\n",
       "</style>\n",
       "<table border=\"1\" class=\"dataframe\">\n",
       "  <thead>\n",
       "    <tr style=\"text-align: right;\">\n",
       "      <th></th>\n",
       "      <th>review_id</th>\n",
       "      <th>helpful_vote</th>\n",
       "      <th>rating</th>\n",
       "      <th>polarity</th>\n",
       "      <th>sentiment_int</th>\n",
       "    </tr>\n",
       "  </thead>\n",
       "  <tbody>\n",
       "    <tr>\n",
       "      <th>count</th>\n",
       "      <td>3.330320e+05</td>\n",
       "      <td>333032.000000</td>\n",
       "      <td>333032.000000</td>\n",
       "      <td>333032.000000</td>\n",
       "      <td>333032.000000</td>\n",
       "    </tr>\n",
       "    <tr>\n",
       "      <th>mean</th>\n",
       "      <td>4.206621e+08</td>\n",
       "      <td>27.875435</td>\n",
       "      <td>4.120676</td>\n",
       "      <td>0.841251</td>\n",
       "      <td>1.682502</td>\n",
       "    </tr>\n",
       "    <tr>\n",
       "      <th>std</th>\n",
       "      <td>1.954686e+08</td>\n",
       "      <td>269.032950</td>\n",
       "      <td>1.096938</td>\n",
       "      <td>0.320471</td>\n",
       "      <td>0.640943</td>\n",
       "    </tr>\n",
       "    <tr>\n",
       "      <th>min</th>\n",
       "      <td>7.051910e+05</td>\n",
       "      <td>0.000000</td>\n",
       "      <td>1.000000</td>\n",
       "      <td>0.000000</td>\n",
       "      <td>0.000000</td>\n",
       "    </tr>\n",
       "    <tr>\n",
       "      <th>25%</th>\n",
       "      <td>2.499110e+08</td>\n",
       "      <td>1.000000</td>\n",
       "      <td>4.000000</td>\n",
       "      <td>1.000000</td>\n",
       "      <td>2.000000</td>\n",
       "    </tr>\n",
       "    <tr>\n",
       "      <th>50%</th>\n",
       "      <td>4.313429e+08</td>\n",
       "      <td>7.000000</td>\n",
       "      <td>4.000000</td>\n",
       "      <td>1.000000</td>\n",
       "      <td>2.000000</td>\n",
       "    </tr>\n",
       "    <tr>\n",
       "      <th>75%</th>\n",
       "      <td>5.879052e+08</td>\n",
       "      <td>26.000000</td>\n",
       "      <td>5.000000</td>\n",
       "      <td>1.000000</td>\n",
       "      <td>2.000000</td>\n",
       "    </tr>\n",
       "    <tr>\n",
       "      <th>max</th>\n",
       "      <td>7.555458e+08</td>\n",
       "      <td>115958.000000</td>\n",
       "      <td>5.000000</td>\n",
       "      <td>1.000000</td>\n",
       "      <td>2.000000</td>\n",
       "    </tr>\n",
       "  </tbody>\n",
       "</table>\n",
       "</div>"
      ],
      "text/plain": [
       "          review_id   helpful_vote         rating       polarity  \\\n",
       "count  3.330320e+05  333032.000000  333032.000000  333032.000000   \n",
       "mean   4.206621e+08      27.875435       4.120676       0.841251   \n",
       "std    1.954686e+08     269.032950       1.096938       0.320471   \n",
       "min    7.051910e+05       0.000000       1.000000       0.000000   \n",
       "25%    2.499110e+08       1.000000       4.000000       1.000000   \n",
       "50%    4.313429e+08       7.000000       4.000000       1.000000   \n",
       "75%    5.879052e+08      26.000000       5.000000       1.000000   \n",
       "max    7.555458e+08  115958.000000       5.000000       1.000000   \n",
       "\n",
       "       sentiment_int  \n",
       "count  333032.000000  \n",
       "mean        1.682502  \n",
       "std         0.640943  \n",
       "min         0.000000  \n",
       "25%         2.000000  \n",
       "50%         2.000000  \n",
       "75%         2.000000  \n",
       "max         2.000000  "
      ]
     },
     "execution_count": 10,
     "metadata": {},
     "output_type": "execute_result"
    }
   ],
   "source": [
    "df.describe()"
   ]
  },
  {
   "cell_type": "code",
   "execution_count": 11,
   "metadata": {},
   "outputs": [
    {
     "data": {
      "text/plain": [
       "(<Figure size 720x720 with 1 Axes>,\n",
       " <matplotlib.axes._subplots.AxesSubplot at 0x1a3d469f50>)"
      ]
     },
     "execution_count": 11,
     "metadata": {},
     "output_type": "execute_result"
    },
    {
     "data": {
      "text/plain": [
       "Text(0.5, 1, 'Initial Balance of Review Sentiments')"
      ]
     },
     "execution_count": 11,
     "metadata": {},
     "output_type": "execute_result"
    },
    {
     "data": {
      "text/plain": [
       "Text(93.2, 0.5, '')"
      ]
     },
     "execution_count": 11,
     "metadata": {},
     "output_type": "execute_result"
    },
    {
     "data": {
      "image/png": "[encoded data removed]",
      "text/plain": [
       "<Figure size 720x720 with 1 Axes>"
      ]
     },
     "metadata": {},
     "output_type": "display_data"
    }
   ],
   "source": [
    "# Plot pie - Sentiments\n",
    "fig, ax = plt.subplots(figsize=(10,10))\n",
    "eda.plot_pie(df['sentiment'], fig, ax)\n",
    "ax.set_title('Initial Balance of Review Sentiments', size=BIGGEST_SIZE)\n",
    "ax.set_ylabel('')\n",
    "fig.savefig('imgs/pie_sentiments_initial')"
   ]
  },
  {
   "cell_type": "code",
   "execution_count": 12,
   "metadata": {},
   "outputs": [
    {
     "name": "stdout",
     "output_type": "stream",
     "text": [
      "Total Number of Ratings:  333032\n"
     ]
    },
    {
     "data": {
      "text/plain": [
       "(<Figure size 864x576 with 1 Axes>,\n",
       " <matplotlib.axes._subplots.AxesSubplot at 0x1a3e282a10>)"
      ]
     },
     "execution_count": 12,
     "metadata": {},
     "output_type": "execute_result"
    },
    {
     "data": {
      "text/plain": [
       "Text(0.5, 1, 'Counts of Hotel Ratings')"
      ]
     },
     "execution_count": 12,
     "metadata": {},
     "output_type": "execute_result"
    },
    {
     "data": {
      "text/plain": [
       "Text(0.5, 41.400000000000006, 'Hotel Rating')"
      ]
     },
     "execution_count": 12,
     "metadata": {},
     "output_type": "execute_result"
    },
    {
     "data": {
      "image/png": "[encoded data removed]",
      "text/plain": [
       "<Figure size 864x576 with 1 Axes>"
      ]
     },
     "metadata": {},
     "output_type": "display_data"
    }
   ],
   "source": [
    "# Plot counts - Ratings\n",
    "print('Total Number of Ratings: ', df.shape[0])\n",
    "\n",
    "fig, ax = plt.subplots(figsize=(12,8))\n",
    "eda.plot_counts(df, 'rating', fig, ax)\n",
    "ax.set_title('Counts of Hotel Ratings', size=BIGGEST_SIZE)\n",
    "ax.set_xlabel('Hotel Rating')\n",
    "fig.savefig('imgs/countplot_ratings_full')"
   ]
  },
  {
   "cell_type": "markdown",
   "metadata": {},
   "source": [
    "# Train-Test-Val Split"
   ]
  },
  {
   "cell_type": "code",
   "execution_count": 13,
   "metadata": {},
   "outputs": [
    {
     "name": "stdout",
     "output_type": "stream",
     "text": [
      "train: 213140, val: 53285, test: 66607\n"
     ]
    }
   ],
   "source": [
    "target = 'sentiment'\n",
    "features = ['review_body']\n",
    "X_train, X_val, X_test, y_train, y_val, y_test, \\\n",
    "    indices_train, indices_val, indices_test = prep.train_test_val_split(df, target, features)"
   ]
  },
  {
   "cell_type": "code",
   "execution_count": 14,
   "metadata": {},
   "outputs": [
    {
     "data": {
      "text/plain": [
       "((213140,), (53285,), (66607,))"
      ]
     },
     "execution_count": 14,
     "metadata": {},
     "output_type": "execute_result"
    }
   ],
   "source": [
    "indices_train.shape, indices_val.shape, indices_test.shape"
   ]
  },
  {
   "cell_type": "markdown",
   "metadata": {},
   "source": [
    "## Handling class imbalance by under-sampling train data"
   ]
  },
  {
   "cell_type": "code",
   "execution_count": 15,
   "metadata": {},
   "outputs": [
    {
     "name": "stdout",
     "output_type": "stream",
     "text": [
      "Majority Class: positive, Middle Class: neutral, Minority Class: negative\n",
      "positive indices length: 166155\n",
      "neutral indices length: 26299\n",
      "negative indices length: 20686\n",
      "undersampled train shape: (62058, 16)\n"
     ]
    }
   ],
   "source": [
    "train_df_us = prep.undersample_train(df, target, indices_train, y_train)"
   ]
  },
  {
   "cell_type": "code",
   "execution_count": 16,
   "metadata": {},
   "outputs": [
    {
     "name": "stdout",
     "output_type": "stream",
     "text": [
      "Total Number of Ratings:  62058\n"
     ]
    },
    {
     "data": {
      "text/plain": [
       "(<Figure size 720x720 with 1 Axes>,\n",
       " <matplotlib.axes._subplots.AxesSubplot at 0x1a3e30afd0>)"
      ]
     },
     "execution_count": 16,
     "metadata": {},
     "output_type": "execute_result"
    },
    {
     "data": {
      "text/plain": [
       "Text(0.5, 1, 'Balance of Review Sentiments,\\nAfter Under-Sampling Train')"
      ]
     },
     "execution_count": 16,
     "metadata": {},
     "output_type": "execute_result"
    },
    {
     "data": {
      "text/plain": [
       "Text(93.2, 0.5, '')"
      ]
     },
     "execution_count": 16,
     "metadata": {},
     "output_type": "execute_result"
    },
    {
     "data": {
      "image/png": "[encoded data removed]",
      "text/plain": [
       "<Figure size 720x720 with 1 Axes>"
      ]
     },
     "metadata": {},
     "output_type": "display_data"
    }
   ],
   "source": [
    "# Plot pie - Classes after undersampling\n",
    "print('Total Number of Ratings: ', train_df_us.shape[0])\n",
    "\n",
    "fig, ax = plt.subplots(figsize=(10,10))\n",
    "eda.plot_pie(train_df_us[target], fig, ax)\n",
    "ax.set_title('Balance of Review Sentiments,\\nAfter Under-Sampling Train', size=BIGGEST_SIZE)\n",
    "ax.set_ylabel('')\n",
    "fig.savefig('imgs/pie_sentiments_train_undersample')"
   ]
  },
  {
   "cell_type": "code",
   "execution_count": null,
   "metadata": {},
   "outputs": [],
   "source": []
  }
 ],
 "metadata": {
  "kernelspec": {
   "display_name": "Python 3",
   "language": "python",
   "name": "python3"
  },
  "language_info": {
   "codemirror_mode": {
    "name": "ipython",
    "version": 3
   },
   "file_extension": ".py",
   "mimetype": "text/x-python",
   "name": "python",
   "nbconvert_exporter": "python",
   "pygments_lexer": "ipython3",
   "version": "3.7.7"
  }
 },
 "nbformat": 4,
 "nbformat_minor": 4
}
